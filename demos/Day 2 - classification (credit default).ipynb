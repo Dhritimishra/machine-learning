{
 "cells": [
  {
   "cell_type": "code",
   "execution_count": 58,
   "metadata": {},
   "outputs": [],
   "source": [
    "import numpy as np\n",
    "import pandas as pd\n",
    "from sklearn import preprocessing, model_selection,\\\n",
    "linear_model, metrics, pipeline\n",
    "\n",
    "import matplotlib.pyplot as plt\n",
    "\n",
    "%matplotlib inline"
   ]
  },
  {
   "cell_type": "code",
   "execution_count": 2,
   "metadata": {},
   "outputs": [
    {
     "data": {
      "text/html": [
       "<div>\n",
       "<style scoped>\n",
       "    .dataframe tbody tr th:only-of-type {\n",
       "        vertical-align: middle;\n",
       "    }\n",
       "\n",
       "    .dataframe tbody tr th {\n",
       "        vertical-align: top;\n",
       "    }\n",
       "\n",
       "    .dataframe thead th {\n",
       "        text-align: right;\n",
       "    }\n",
       "</style>\n",
       "<table border=\"1\" class=\"dataframe\">\n",
       "  <thead>\n",
       "    <tr style=\"text-align: right;\">\n",
       "      <th></th>\n",
       "      <th>checking_balance</th>\n",
       "      <th>months_loan_duration</th>\n",
       "      <th>credit_history</th>\n",
       "      <th>purpose</th>\n",
       "      <th>amount</th>\n",
       "      <th>savings_balance</th>\n",
       "      <th>employment_length</th>\n",
       "      <th>installment_rate</th>\n",
       "      <th>personal_status</th>\n",
       "      <th>other_debtors</th>\n",
       "      <th>...</th>\n",
       "      <th>property</th>\n",
       "      <th>age</th>\n",
       "      <th>installment_plan</th>\n",
       "      <th>housing</th>\n",
       "      <th>existing_credits</th>\n",
       "      <th>default</th>\n",
       "      <th>dependents</th>\n",
       "      <th>telephone</th>\n",
       "      <th>foreign_worker</th>\n",
       "      <th>job</th>\n",
       "    </tr>\n",
       "  </thead>\n",
       "  <tbody>\n",
       "    <tr>\n",
       "      <th>0</th>\n",
       "      <td>&lt; 0 DM</td>\n",
       "      <td>6</td>\n",
       "      <td>critical</td>\n",
       "      <td>radio/tv</td>\n",
       "      <td>1169</td>\n",
       "      <td>unknown</td>\n",
       "      <td>&gt; 7 yrs</td>\n",
       "      <td>4</td>\n",
       "      <td>single male</td>\n",
       "      <td>none</td>\n",
       "      <td>...</td>\n",
       "      <td>real estate</td>\n",
       "      <td>67</td>\n",
       "      <td>none</td>\n",
       "      <td>own</td>\n",
       "      <td>2</td>\n",
       "      <td>1</td>\n",
       "      <td>1</td>\n",
       "      <td>yes</td>\n",
       "      <td>yes</td>\n",
       "      <td>skilled employee</td>\n",
       "    </tr>\n",
       "    <tr>\n",
       "      <th>1</th>\n",
       "      <td>1 - 200 DM</td>\n",
       "      <td>48</td>\n",
       "      <td>repaid</td>\n",
       "      <td>radio/tv</td>\n",
       "      <td>5951</td>\n",
       "      <td>&lt; 100 DM</td>\n",
       "      <td>1 - 4 yrs</td>\n",
       "      <td>2</td>\n",
       "      <td>female</td>\n",
       "      <td>none</td>\n",
       "      <td>...</td>\n",
       "      <td>real estate</td>\n",
       "      <td>22</td>\n",
       "      <td>none</td>\n",
       "      <td>own</td>\n",
       "      <td>1</td>\n",
       "      <td>2</td>\n",
       "      <td>1</td>\n",
       "      <td>none</td>\n",
       "      <td>yes</td>\n",
       "      <td>skilled employee</td>\n",
       "    </tr>\n",
       "    <tr>\n",
       "      <th>2</th>\n",
       "      <td>unknown</td>\n",
       "      <td>12</td>\n",
       "      <td>critical</td>\n",
       "      <td>education</td>\n",
       "      <td>2096</td>\n",
       "      <td>&lt; 100 DM</td>\n",
       "      <td>4 - 7 yrs</td>\n",
       "      <td>2</td>\n",
       "      <td>single male</td>\n",
       "      <td>none</td>\n",
       "      <td>...</td>\n",
       "      <td>real estate</td>\n",
       "      <td>49</td>\n",
       "      <td>none</td>\n",
       "      <td>own</td>\n",
       "      <td>1</td>\n",
       "      <td>1</td>\n",
       "      <td>2</td>\n",
       "      <td>none</td>\n",
       "      <td>yes</td>\n",
       "      <td>unskilled resident</td>\n",
       "    </tr>\n",
       "    <tr>\n",
       "      <th>3</th>\n",
       "      <td>&lt; 0 DM</td>\n",
       "      <td>42</td>\n",
       "      <td>repaid</td>\n",
       "      <td>furniture</td>\n",
       "      <td>7882</td>\n",
       "      <td>&lt; 100 DM</td>\n",
       "      <td>4 - 7 yrs</td>\n",
       "      <td>2</td>\n",
       "      <td>single male</td>\n",
       "      <td>guarantor</td>\n",
       "      <td>...</td>\n",
       "      <td>building society savings</td>\n",
       "      <td>45</td>\n",
       "      <td>none</td>\n",
       "      <td>for free</td>\n",
       "      <td>1</td>\n",
       "      <td>1</td>\n",
       "      <td>2</td>\n",
       "      <td>none</td>\n",
       "      <td>yes</td>\n",
       "      <td>skilled employee</td>\n",
       "    </tr>\n",
       "    <tr>\n",
       "      <th>4</th>\n",
       "      <td>&lt; 0 DM</td>\n",
       "      <td>24</td>\n",
       "      <td>delayed</td>\n",
       "      <td>car (new)</td>\n",
       "      <td>4870</td>\n",
       "      <td>&lt; 100 DM</td>\n",
       "      <td>1 - 4 yrs</td>\n",
       "      <td>3</td>\n",
       "      <td>single male</td>\n",
       "      <td>none</td>\n",
       "      <td>...</td>\n",
       "      <td>unknown/none</td>\n",
       "      <td>53</td>\n",
       "      <td>none</td>\n",
       "      <td>for free</td>\n",
       "      <td>2</td>\n",
       "      <td>2</td>\n",
       "      <td>2</td>\n",
       "      <td>none</td>\n",
       "      <td>yes</td>\n",
       "      <td>skilled employee</td>\n",
       "    </tr>\n",
       "  </tbody>\n",
       "</table>\n",
       "<p>5 rows × 21 columns</p>\n",
       "</div>"
      ],
      "text/plain": [
       "  checking_balance  months_loan_duration credit_history    purpose  amount  \\\n",
       "0           < 0 DM                     6       critical   radio/tv    1169   \n",
       "1       1 - 200 DM                    48         repaid   radio/tv    5951   \n",
       "2          unknown                    12       critical  education    2096   \n",
       "3           < 0 DM                    42         repaid  furniture    7882   \n",
       "4           < 0 DM                    24        delayed  car (new)    4870   \n",
       "\n",
       "  savings_balance employment_length  installment_rate personal_status  \\\n",
       "0         unknown           > 7 yrs                 4     single male   \n",
       "1        < 100 DM         1 - 4 yrs                 2          female   \n",
       "2        < 100 DM         4 - 7 yrs                 2     single male   \n",
       "3        < 100 DM         4 - 7 yrs                 2     single male   \n",
       "4        < 100 DM         1 - 4 yrs                 3     single male   \n",
       "\n",
       "  other_debtors         ...                          property age  \\\n",
       "0          none         ...                       real estate  67   \n",
       "1          none         ...                       real estate  22   \n",
       "2          none         ...                       real estate  49   \n",
       "3     guarantor         ...          building society savings  45   \n",
       "4          none         ...                      unknown/none  53   \n",
       "\n",
       "   installment_plan   housing existing_credits  default  dependents  \\\n",
       "0              none       own                2        1           1   \n",
       "1              none       own                1        2           1   \n",
       "2              none       own                1        1           2   \n",
       "3              none  for free                1        1           2   \n",
       "4              none  for free                2        2           2   \n",
       "\n",
       "   telephone foreign_worker                 job  \n",
       "0        yes            yes    skilled employee  \n",
       "1       none            yes    skilled employee  \n",
       "2       none            yes  unskilled resident  \n",
       "3       none            yes    skilled employee  \n",
       "4       none            yes    skilled employee  \n",
       "\n",
       "[5 rows x 21 columns]"
      ]
     },
     "execution_count": 2,
     "metadata": {},
     "output_type": "execute_result"
    }
   ],
   "source": [
    "df = pd.read_csv(\"/data/credit-default.csv\")\n",
    "df.head()"
   ]
  },
  {
   "cell_type": "code",
   "execution_count": 3,
   "metadata": {},
   "outputs": [
    {
     "data": {
      "text/plain": [
       "1    700\n",
       "2    300\n",
       "Name: default, dtype: int64"
      ]
     },
     "execution_count": 3,
     "metadata": {},
     "output_type": "execute_result"
    }
   ],
   "source": [
    "df.default.value_counts()"
   ]
  },
  {
   "cell_type": "code",
   "execution_count": 48,
   "metadata": {},
   "outputs": [],
   "source": [
    "target = \"default\"\n",
    "X = df.drop(columns=[target])\n",
    "X = pd.get_dummies(X, drop_first=True)\n",
    "columns = X.columns\n",
    "\n",
    "X = X.values.astype(\"float\")\n",
    "\n",
    "y = preprocessing.LabelEncoder().fit_transform(df[target])\n",
    "\n",
    "X_train, X_test, y_train, y_test = model_selection.train_test_split(X, y,\n",
    "                           test_size = 0.3, random_state = 147595)\n",
    "\n",
    "pipe = pipeline.Pipeline([\n",
    "    (\"poly\", preprocessing.PolynomialFeatures(degree=2\n",
    "                                    , include_bias=False)),\n",
    "    (\"scaler\", preprocessing.StandardScaler()),\n",
    "    (\"est\", linear_model.LogisticRegression(random_state=1\n",
    "                                , C = 0.1, solver=\"liblinear\"))\n",
    "])\n",
    "\n",
    "\n",
    "pipe.fit(X_train, y_train)\n",
    "\n",
    "y_train_pred = pipe.predict(X_train)\n",
    "y_test_pred = pipe.predict(X_test)\n"
   ]
  },
  {
   "cell_type": "code",
   "execution_count": 36,
   "metadata": {},
   "outputs": [
    {
     "data": {
      "text/plain": [
       "array([[455,  37],\n",
       "       [ 22, 186]])"
      ]
     },
     "execution_count": 36,
     "metadata": {},
     "output_type": "execute_result"
    }
   ],
   "source": [
    "metrics.confusion_matrix(y_train, y_train_pred)"
   ]
  },
  {
   "cell_type": "code",
   "execution_count": 49,
   "metadata": {},
   "outputs": [
    {
     "data": {
      "text/plain": [
       "array([[168,  40],\n",
       "       [ 43,  49]])"
      ]
     },
     "execution_count": 49,
     "metadata": {},
     "output_type": "execute_result"
    }
   ],
   "source": [
    "metrics.confusion_matrix(y_test, y_test_pred)"
   ]
  },
  {
   "cell_type": "code",
   "execution_count": 37,
   "metadata": {},
   "outputs": [
    {
     "data": {
      "text/plain": [
       "0.8142857142857143"
      ]
     },
     "execution_count": 37,
     "metadata": {},
     "output_type": "execute_result"
    }
   ],
   "source": [
    "(442 + 128)/len(X_train)"
   ]
  },
  {
   "cell_type": "code",
   "execution_count": 38,
   "metadata": {},
   "outputs": [
    {
     "data": {
      "text/plain": [
       "0.9157142857142857"
      ]
     },
     "execution_count": 38,
     "metadata": {},
     "output_type": "execute_result"
    }
   ],
   "source": [
    "metrics.accuracy_score(y_train, y_train_pred)"
   ]
  },
  {
   "cell_type": "code",
   "execution_count": 39,
   "metadata": {},
   "outputs": [
    {
     "data": {
      "text/plain": [
       "0    0.702857\n",
       "1    0.297143\n",
       "dtype: float64"
      ]
     },
     "execution_count": 39,
     "metadata": {},
     "output_type": "execute_result"
    }
   ],
   "source": [
    "pd.Series(y_train).value_counts()/len(y_train)"
   ]
  },
  {
   "cell_type": "code",
   "execution_count": 40,
   "metadata": {},
   "outputs": [
    {
     "data": {
      "text/plain": [
       "0.7166666666666667"
      ]
     },
     "execution_count": 40,
     "metadata": {},
     "output_type": "execute_result"
    }
   ],
   "source": [
    "metrics.accuracy_score(y_test, y_test_pred)"
   ]
  },
  {
   "cell_type": "code",
   "execution_count": 41,
   "metadata": {},
   "outputs": [
    {
     "data": {
      "text/plain": [
       "0    0.693333\n",
       "1    0.306667\n",
       "dtype: float64"
      ]
     },
     "execution_count": 41,
     "metadata": {},
     "output_type": "execute_result"
    }
   ],
   "source": [
    "pd.Series(y_test).value_counts()/len(y_test)"
   ]
  },
  {
   "cell_type": "code",
   "execution_count": 43,
   "metadata": {},
   "outputs": [
    {
     "data": {
      "text/plain": [
       "array([0, 1, 0, 0, 0, 1, 0, 1, 0, 1, 0, 0, 0, 0, 0, 1, 1, 0, 0, 0, 0, 0,\n",
       "       1, 0, 0, 0, 0, 1, 0, 0, 0, 0, 1, 1, 0, 0, 1, 1, 0, 1, 0, 0, 0, 0,\n",
       "       1, 1, 1, 0, 1, 1, 0, 1, 0, 0, 0, 0, 0, 0, 0, 0, 0, 0, 0, 0, 0, 0,\n",
       "       0, 1, 0, 1, 0, 0, 0, 1, 0, 0, 0, 0, 1, 1, 0, 0, 0, 0, 0, 0, 0, 0,\n",
       "       1, 0, 0, 1, 1, 1, 0, 0, 0, 0, 0, 1, 1, 0, 0, 0, 1, 0, 0, 0, 0, 1,\n",
       "       1, 0, 1, 0, 1, 1, 0, 0, 0, 1, 0, 0, 0, 0, 0, 1, 0, 0, 0, 0, 0, 1,\n",
       "       0, 0, 0, 0, 1, 0, 1, 0, 0, 0, 1, 0, 1, 0, 0, 1, 0, 0, 0, 0, 0, 0,\n",
       "       1, 0, 1, 0, 1, 1, 0, 0, 0, 0, 0, 0, 1, 1, 0, 1, 1, 1, 1, 0, 0, 1,\n",
       "       1, 0, 0, 0, 0, 0, 1, 1, 1, 0, 0, 0, 0, 0, 0, 1, 0, 0, 0, 0, 1, 0,\n",
       "       1, 0, 0, 0, 1, 0, 1, 0, 1, 0, 0, 0, 1, 1, 0, 1, 1, 1, 0, 0, 0, 1,\n",
       "       0, 0, 1, 1, 0, 0, 0, 0, 0, 0, 0, 0, 0, 0, 0, 0, 0, 0, 0, 1, 0, 0,\n",
       "       1, 1, 0, 0, 0, 0, 0, 1, 1, 1, 0, 0, 0, 0, 0, 1, 1, 1, 0, 0, 1, 0,\n",
       "       0, 1, 0, 0, 0, 0, 0, 0, 0, 0, 1, 0, 0, 0, 0, 0, 0, 0, 0, 0, 0, 1,\n",
       "       0, 0, 0, 1, 0, 0, 0, 0, 0, 0, 1, 1, 0, 0])"
      ]
     },
     "execution_count": 43,
     "metadata": {},
     "output_type": "execute_result"
    }
   ],
   "source": [
    "y_test_pred"
   ]
  },
  {
   "cell_type": "code",
   "execution_count": 53,
   "metadata": {
    "scrolled": false
   },
   "outputs": [
    {
     "data": {
      "text/plain": [
       "array([1.30427004e-02, 5.53291035e-01, 5.66147298e-03, 2.79872724e-01,\n",
       "       6.66363409e-02, 9.22189704e-01, 1.21096311e-03, 9.27464563e-01,\n",
       "       6.27427090e-03, 9.39976814e-01, 2.98125121e-01, 1.13232343e-01,\n",
       "       1.69447419e-01, 8.45736529e-03, 7.51618002e-02, 5.31281904e-01,\n",
       "       9.97286909e-01, 4.48364409e-06, 4.33228394e-01, 5.10605649e-02,\n",
       "       5.30493871e-02, 1.09541926e-02, 9.95753684e-01, 5.44225948e-02,\n",
       "       8.02909667e-02, 1.29760151e-01, 2.27094526e-01, 7.82818877e-01,\n",
       "       3.29559650e-03, 2.06808573e-01, 1.27389358e-01, 4.87636237e-03,\n",
       "       7.29277449e-01, 9.12570880e-01, 2.40330482e-01, 2.10099059e-01,\n",
       "       9.28076774e-01, 7.38895245e-01, 1.03577472e-01, 9.29640564e-01,\n",
       "       1.67020509e-04, 8.12340371e-03, 2.56644338e-01, 4.12001045e-01,\n",
       "       7.60970172e-01, 6.41323222e-01, 9.89907584e-01, 2.16921627e-01,\n",
       "       9.85593936e-01, 9.08851114e-01, 4.97476684e-01, 9.99245104e-01,\n",
       "       3.43931591e-02, 1.76655128e-01, 3.26289726e-01, 1.00398705e-02,\n",
       "       4.98670660e-01, 1.16447810e-02, 6.27212983e-02, 2.65793230e-01,\n",
       "       5.08183919e-02, 4.13111374e-01, 2.51227062e-02, 1.66161346e-01,\n",
       "       3.07890270e-02, 7.95423730e-03, 4.95522309e-03, 9.89466956e-01,\n",
       "       9.36225025e-03, 8.04598993e-01, 2.49140600e-01, 2.63451339e-02,\n",
       "       1.33887201e-01, 9.86206041e-01, 1.74534248e-03, 1.46057366e-02,\n",
       "       1.83723327e-03, 2.13519676e-02, 9.18860383e-01, 9.67727034e-01,\n",
       "       3.08337001e-01, 3.27059369e-01, 1.18616289e-02, 6.06452939e-03,\n",
       "       4.96418865e-02, 4.84913884e-04, 4.24842761e-01, 1.34283813e-02,\n",
       "       8.81952113e-01, 1.89978981e-01, 1.81531791e-01, 9.30387249e-01,\n",
       "       6.89876073e-01, 8.52050378e-01, 4.98331189e-02, 6.30405645e-02,\n",
       "       3.85440307e-02, 4.67862241e-01, 2.26268761e-01, 9.07135545e-01,\n",
       "       9.42341499e-01, 3.24332507e-03, 1.18047115e-01, 1.46457163e-01,\n",
       "       9.99857186e-01, 8.79283500e-02, 1.89846394e-01, 2.45796971e-02,\n",
       "       4.01336053e-02, 7.40971626e-01, 7.97459504e-01, 1.01498872e-01,\n",
       "       9.84114406e-01, 4.92614597e-03, 9.90742076e-01, 6.97574740e-01,\n",
       "       1.41737005e-02, 3.89141560e-02, 1.31932935e-02, 7.82037849e-01,\n",
       "       1.24277940e-02, 4.84050610e-02, 3.43087171e-02, 3.47211995e-01,\n",
       "       2.80347825e-02, 7.57307602e-01, 9.49240748e-03, 4.57437665e-02,\n",
       "       1.63424148e-01, 1.97062756e-02, 3.59728427e-01, 9.71759401e-01,\n",
       "       2.96197783e-04, 3.29094823e-03, 1.45537875e-04, 3.11716862e-01,\n",
       "       5.48274651e-01, 9.90809284e-02, 8.71329388e-01, 3.52272035e-02,\n",
       "       1.48908619e-01, 5.90858795e-02, 5.18386002e-01, 1.08931295e-03,\n",
       "       9.34808999e-01, 1.79795486e-01, 4.98379190e-01, 8.32170830e-01,\n",
       "       1.25798968e-01, 2.78345805e-01, 8.50004361e-03, 1.30566429e-02,\n",
       "       1.62023654e-03, 2.49906516e-03, 9.96948691e-01, 1.79003577e-01,\n",
       "       8.62410583e-01, 8.64180953e-04, 7.18713395e-01, 9.50414697e-01,\n",
       "       6.50008903e-02, 2.25589336e-02, 1.01993365e-02, 2.11284745e-01,\n",
       "       8.68243642e-03, 1.07277195e-01, 9.77856149e-01, 7.86951787e-01,\n",
       "       2.83066270e-01, 7.24117002e-01, 8.86750775e-01, 8.31168681e-01,\n",
       "       6.88757505e-01, 6.98229000e-03, 1.70851701e-02, 9.70264106e-01,\n",
       "       9.94217731e-01, 1.52402208e-04, 1.40124490e-02, 3.44823374e-01,\n",
       "       1.26689318e-02, 9.65868365e-03, 7.56979556e-01, 9.77755336e-01,\n",
       "       9.84875297e-01, 1.33016023e-02, 3.52549070e-01, 3.82287936e-03,\n",
       "       4.57898632e-01, 2.63464946e-01, 2.06754518e-01, 7.09485958e-01,\n",
       "       1.08114128e-01, 6.11674796e-02, 6.70934798e-03, 2.05524787e-01,\n",
       "       9.95859933e-01, 4.54464384e-07, 9.00436591e-01, 2.53400509e-02,\n",
       "       1.37502628e-02, 2.17888809e-02, 6.89630179e-01, 1.30889870e-02,\n",
       "       6.31624427e-01, 1.12130831e-02, 6.15991500e-01, 2.19561207e-02,\n",
       "       2.52175076e-01, 1.73376384e-02, 9.98782922e-01, 9.99993767e-01,\n",
       "       6.94939581e-04, 5.95770654e-01, 7.49426913e-01, 8.71462669e-01,\n",
       "       3.23967291e-02, 1.42726219e-01, 5.27557576e-04, 9.08544795e-01,\n",
       "       6.38159640e-02, 3.42112986e-03, 7.03171486e-01, 6.16521686e-01,\n",
       "       5.23450034e-03, 3.23606838e-02, 1.60294877e-02, 1.24266168e-02,\n",
       "       3.58892988e-02, 8.40668355e-02, 3.49422270e-03, 1.09529380e-02,\n",
       "       2.48479422e-01, 9.99420634e-02, 9.40425835e-03, 7.95399392e-03,\n",
       "       9.51519974e-03, 7.00178119e-02, 2.33464626e-02, 9.04381752e-01,\n",
       "       2.48422778e-02, 2.90220532e-03, 5.67116730e-01, 9.85679814e-01,\n",
       "       4.91830655e-03, 9.53278821e-03, 1.79859503e-02, 2.44976623e-01,\n",
       "       8.67225013e-03, 8.65401130e-01, 9.76703029e-01, 9.84095121e-01,\n",
       "       8.28819066e-02, 2.16975587e-03, 1.54564296e-01, 3.59570742e-01,\n",
       "       4.35883413e-02, 7.40345220e-01, 5.44719942e-01, 6.40525507e-01,\n",
       "       1.56524392e-02, 1.09132436e-01, 8.32096320e-01, 7.77756826e-02,\n",
       "       2.53518671e-03, 9.89710923e-01, 2.18320584e-01, 1.66832730e-01,\n",
       "       1.93642623e-02, 1.14577062e-02, 1.20290543e-01, 8.80134839e-02,\n",
       "       1.36326371e-02, 2.25539266e-01, 7.02184241e-01, 1.40289230e-03,\n",
       "       2.94283821e-01, 1.19750292e-02, 4.16317729e-02, 5.91048419e-02,\n",
       "       3.66933230e-01, 2.00989709e-01, 1.40186291e-02, 2.15085977e-01,\n",
       "       9.31341329e-03, 8.90370634e-01, 3.27623794e-01, 9.84144686e-02,\n",
       "       2.45109133e-01, 6.58993737e-01, 1.20624111e-02, 1.43187572e-01,\n",
       "       7.59321520e-02, 4.03119345e-01, 1.08828904e-02, 7.74147175e-02,\n",
       "       8.56715822e-01, 8.25387764e-01, 1.09656309e-01, 4.25643659e-03])"
      ]
     },
     "execution_count": 53,
     "metadata": {},
     "output_type": "execute_result"
    }
   ],
   "source": [
    "y_test_prob = pipe.predict_proba(X_test)[:, 1]\n",
    "y_test_prob"
   ]
  },
  {
   "cell_type": "code",
   "execution_count": 54,
   "metadata": {},
   "outputs": [
    {
     "data": {
      "text/plain": [
       "array([[168,  40],\n",
       "       [ 43,  49]])"
      ]
     },
     "execution_count": 54,
     "metadata": {},
     "output_type": "execute_result"
    }
   ],
   "source": [
    "y_test_pred = np.where(y_test_prob>0.5,1,0)\n",
    "metrics.confusion_matrix(y_test, y_test_pred)"
   ]
  },
  {
   "cell_type": "code",
   "execution_count": 55,
   "metadata": {},
   "outputs": [
    {
     "data": {
      "text/plain": [
       "array([[133,  75],\n",
       "       [ 31,  61]])"
      ]
     },
     "execution_count": 55,
     "metadata": {},
     "output_type": "execute_result"
    }
   ],
   "source": [
    "y_test_pred = np.where(y_test_prob>0.2,1,0)\n",
    "metrics.confusion_matrix(y_test, y_test_pred)"
   ]
  },
  {
   "cell_type": "code",
   "execution_count": 56,
   "metadata": {},
   "outputs": [
    {
     "data": {
      "text/plain": [
       "array([[184,  24],\n",
       "       [ 61,  31]])"
      ]
     },
     "execution_count": 56,
     "metadata": {},
     "output_type": "execute_result"
    }
   ],
   "source": [
    "y_test_pred = np.where(y_test_prob>0.8,1,0)\n",
    "metrics.confusion_matrix(y_test, y_test_pred)"
   ]
  },
  {
   "cell_type": "code",
   "execution_count": 65,
   "metadata": {},
   "outputs": [
    {
     "data": {
      "text/plain": [
       "Text(0.5, 1.0, 'ROC, auc: 0.6989')"
      ]
     },
     "execution_count": 65,
     "metadata": {},
     "output_type": "execute_result"
    },
    {
     "data": {
      "image/png": "[encoded data removed]",
      "text/plain": [
       "<Figure size 432x288 with 1 Axes>"
      ]
     },
     "metadata": {
      "needs_background": "light"
     },
     "output_type": "display_data"
    }
   ],
   "source": [
    "# auc metrics is independent of probability threshold. \n",
    "# This metrics is often used for model selection\n",
    "# Logloss is another metrics independent of threshold used \n",
    "# for model selection\n",
    "# In many problems accuracy is also used for model selection \n",
    "fpr, tpr, thresholds = metrics.roc_curve(y_test, y_test_prob)\n",
    "auc = metrics.auc(fpr, tpr)\n",
    "plt.plot(fpr, tpr)\n",
    "plt.xlabel(\"FPR\")\n",
    "plt.ylabel(\"TPR\")\n",
    "plt.title(\"ROC, auc: %.4f\" % auc)"
   ]
  },
  {
   "cell_type": "code",
   "execution_count": 68,
   "metadata": {},
   "outputs": [
    {
     "name": "stdout",
     "output_type": "stream",
     "text": [
      "accuracy: 0.7166666666666667\n",
      "precision: 0.5636363636363636\n",
      "recall: 0.33695652173913043\n",
      "f1_score: 0.42176870748299317\n",
      "auc: 0.698944397993311\n"
     ]
    }
   ],
   "source": [
    "print(\"accuracy:\", metrics.accuracy_score(y_test, y_test_pred))\n",
    "print(\"precision:\", metrics.precision_score(y_test, y_test_pred))\n",
    "print(\"recall:\", metrics.recall_score(y_test, y_test_pred))\n",
    "print(\"f1_score:\", metrics.f1_score(y_test, y_test_pred))\n",
    "\n",
    "fpr, tpr, thresholds = metrics.roc_curve(y_test, y_test_prob)\n",
    "auc = metrics.auc(fpr, tpr)\n",
    "print(\"auc:\",auc)"
   ]
  },
  {
   "cell_type": "code",
   "execution_count": 69,
   "metadata": {},
   "outputs": [],
   "source": [
    "from sklearn import tree"
   ]
  },
  {
   "cell_type": "code",
   "execution_count": 77,
   "metadata": {},
   "outputs": [
    {
     "name": "stdout",
     "output_type": "stream",
     "text": [
      "accuracy: 0.6633333333333333\n",
      "precision: 0.4117647058823529\n",
      "recall: 0.22826086956521738\n",
      "f1_score: 0.2937062937062937\n",
      "auc: 0.6470526755852842\n"
     ]
    }
   ],
   "source": [
    "target = \"default\"\n",
    "X = df.drop(columns=[target])\n",
    "X = pd.get_dummies(X, drop_first=True)\n",
    "columns = X.columns\n",
    "\n",
    "X = X.values.astype(\"float\")\n",
    "\n",
    "y = preprocessing.LabelEncoder().fit_transform(df[target])\n",
    "\n",
    "X_train, X_test, y_train, y_test = model_selection.train_test_split(X, y,\n",
    "                           test_size = 0.3, random_state = 147595)\n",
    "\n",
    "pipe = pipeline.Pipeline([\n",
    "    #(\"poly\", preprocessing.PolynomialFeatures(degree=2\n",
    "    #                                , include_bias=False)),\n",
    "    #(\"scaler\", preprocessing.StandardScaler()),\n",
    "    (\"est\", tree.DecisionTreeClassifier(max_depth=3, min_samples_leaf=20))\n",
    "])\n",
    "\n",
    "\n",
    "pipe.fit(X_train, y_train)\n",
    "\n",
    "y_train_pred = pipe.predict(X_train)\n",
    "y_test_pred = pipe.predict(X_test)\n",
    "y_test_prob = pipe.predict_proba(X_test)[:,1]\n",
    "\n",
    "print(\"accuracy:\", metrics.accuracy_score(y_test, y_test_pred))\n",
    "print(\"precision:\", metrics.precision_score(y_test, y_test_pred))\n",
    "print(\"recall:\", metrics.recall_score(y_test, y_test_pred))\n",
    "print(\"f1_score:\", metrics.f1_score(y_test, y_test_pred))\n",
    "\n",
    "fpr, tpr, thresholds = metrics.roc_curve(y_test, y_test_prob)\n",
    "auc = metrics.auc(fpr, tpr)\n",
    "print(\"auc:\",auc)"
   ]
  },
  {
   "cell_type": "code",
   "execution_count": 78,
   "metadata": {},
   "outputs": [],
   "source": [
    "est = pipe.steps[-1][-1]\n",
    "\n",
    "from sklearn.tree import export_graphviz\n",
    "export_graphviz(est, out_file = \"tree.dot\", feature_names = columns\n",
    "                , filled=True)\n",
    "!dot -Tpng tree.dot -o tree.png\n"
   ]
  },
  {
   "cell_type": "markdown",
   "metadata": {},
   "source": [
    "# Exercise:\n",
    "\n",
    "Create a decision model and run hyper parameter tuning for the hyper parameters - max_depth, min_samples_leaf, criterion. What is accuracy of the model on the test data. "
   ]
  }
 ],
 "metadata": {
  "kernelspec": {
   "display_name": "Python 3",
   "language": "python",
   "name": "python3"
  },
  "language_info": {
   "codemirror_mode": {
    "name": "ipython",
    "version": 3
   },
   "file_extension": ".py",
   "mimetype": "text/x-python",
   "name": "python",
   "nbconvert_exporter": "python",
   "pygments_lexer": "ipython3",
   "version": "3.6.6"
  }
 },
 "nbformat": 4,
 "nbformat_minor": 2
}
