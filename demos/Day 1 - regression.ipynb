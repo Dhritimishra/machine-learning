{
 "cells": [
  {
   "cell_type": "code",
   "execution_count": 1,
   "metadata": {},
   "outputs": [],
   "source": [
    "import pandas as pd"
   ]
  },
  {
   "cell_type": "code",
   "execution_count": 2,
   "metadata": {},
   "outputs": [
    {
     "data": {
      "text/html": [
       "<div>\n",
       "<style scoped>\n",
       "    .dataframe tbody tr th:only-of-type {\n",
       "        vertical-align: middle;\n",
       "    }\n",
       "\n",
       "    .dataframe tbody tr th {\n",
       "        vertical-align: top;\n",
       "    }\n",
       "\n",
       "    .dataframe thead th {\n",
       "        text-align: right;\n",
       "    }\n",
       "</style>\n",
       "<table border=\"1\" class=\"dataframe\">\n",
       "  <thead>\n",
       "    <tr style=\"text-align: right;\">\n",
       "      <th></th>\n",
       "      <th>age</th>\n",
       "      <th>gender</th>\n",
       "      <th>bmi</th>\n",
       "      <th>children</th>\n",
       "      <th>smoker</th>\n",
       "      <th>region</th>\n",
       "      <th>charges</th>\n",
       "    </tr>\n",
       "  </thead>\n",
       "  <tbody>\n",
       "    <tr>\n",
       "      <th>0</th>\n",
       "      <td>19</td>\n",
       "      <td>female</td>\n",
       "      <td>27.900</td>\n",
       "      <td>0</td>\n",
       "      <td>yes</td>\n",
       "      <td>southwest</td>\n",
       "      <td>16884.92400</td>\n",
       "    </tr>\n",
       "    <tr>\n",
       "      <th>1</th>\n",
       "      <td>18</td>\n",
       "      <td>male</td>\n",
       "      <td>33.770</td>\n",
       "      <td>1</td>\n",
       "      <td>no</td>\n",
       "      <td>southeast</td>\n",
       "      <td>1725.55230</td>\n",
       "    </tr>\n",
       "    <tr>\n",
       "      <th>2</th>\n",
       "      <td>28</td>\n",
       "      <td>male</td>\n",
       "      <td>33.000</td>\n",
       "      <td>3</td>\n",
       "      <td>no</td>\n",
       "      <td>southeast</td>\n",
       "      <td>4449.46200</td>\n",
       "    </tr>\n",
       "    <tr>\n",
       "      <th>3</th>\n",
       "      <td>33</td>\n",
       "      <td>male</td>\n",
       "      <td>22.705</td>\n",
       "      <td>0</td>\n",
       "      <td>no</td>\n",
       "      <td>northwest</td>\n",
       "      <td>21984.47061</td>\n",
       "    </tr>\n",
       "    <tr>\n",
       "      <th>4</th>\n",
       "      <td>32</td>\n",
       "      <td>male</td>\n",
       "      <td>28.880</td>\n",
       "      <td>0</td>\n",
       "      <td>no</td>\n",
       "      <td>northwest</td>\n",
       "      <td>3866.85520</td>\n",
       "    </tr>\n",
       "  </tbody>\n",
       "</table>\n",
       "</div>"
      ],
      "text/plain": [
       "   age  gender     bmi  children smoker     region      charges\n",
       "0   19  female  27.900         0    yes  southwest  16884.92400\n",
       "1   18    male  33.770         1     no  southeast   1725.55230\n",
       "2   28    male  33.000         3     no  southeast   4449.46200\n",
       "3   33    male  22.705         0     no  northwest  21984.47061\n",
       "4   32    male  28.880         0     no  northwest   3866.85520"
      ]
     },
     "execution_count": 2,
     "metadata": {},
     "output_type": "execute_result"
    }
   ],
   "source": [
    "df = pd.read_csv(\"/data/insurance.csv\")\n",
    "df.head()"
   ]
  },
  {
   "cell_type": "code",
   "execution_count": 3,
   "metadata": {},
   "outputs": [
    {
     "data": {
      "text/plain": [
       "(1338, 7)"
      ]
     },
     "execution_count": 3,
     "metadata": {},
     "output_type": "execute_result"
    }
   ],
   "source": [
    "df.shape"
   ]
  },
  {
   "cell_type": "code",
   "execution_count": 4,
   "metadata": {},
   "outputs": [
    {
     "name": "stdout",
     "output_type": "stream",
     "text": [
      "<class 'pandas.core.frame.DataFrame'>\n",
      "RangeIndex: 1338 entries, 0 to 1337\n",
      "Data columns (total 7 columns):\n",
      "age         1338 non-null int64\n",
      "gender      1338 non-null object\n",
      "bmi         1338 non-null float64\n",
      "children    1338 non-null int64\n",
      "smoker      1338 non-null object\n",
      "region      1338 non-null object\n",
      "charges     1338 non-null float64\n",
      "dtypes: float64(2), int64(2), object(3)\n",
      "memory usage: 73.2+ KB\n"
     ]
    }
   ],
   "source": [
    "df.info()"
   ]
  },
  {
   "cell_type": "code",
   "execution_count": 5,
   "metadata": {},
   "outputs": [
    {
     "data": {
      "text/html": [
       "<div>\n",
       "<style scoped>\n",
       "    .dataframe tbody tr th:only-of-type {\n",
       "        vertical-align: middle;\n",
       "    }\n",
       "\n",
       "    .dataframe tbody tr th {\n",
       "        vertical-align: top;\n",
       "    }\n",
       "\n",
       "    .dataframe thead th {\n",
       "        text-align: right;\n",
       "    }\n",
       "</style>\n",
       "<table border=\"1\" class=\"dataframe\">\n",
       "  <thead>\n",
       "    <tr style=\"text-align: right;\">\n",
       "      <th></th>\n",
       "      <th>age</th>\n",
       "      <th>bmi</th>\n",
       "      <th>children</th>\n",
       "      <th>charges</th>\n",
       "      <th>gender_male</th>\n",
       "      <th>smoker_yes</th>\n",
       "      <th>region_northwest</th>\n",
       "      <th>region_southeast</th>\n",
       "      <th>region_southwest</th>\n",
       "    </tr>\n",
       "  </thead>\n",
       "  <tbody>\n",
       "    <tr>\n",
       "      <th>0</th>\n",
       "      <td>19</td>\n",
       "      <td>27.900</td>\n",
       "      <td>0</td>\n",
       "      <td>16884.92400</td>\n",
       "      <td>0</td>\n",
       "      <td>1</td>\n",
       "      <td>0</td>\n",
       "      <td>0</td>\n",
       "      <td>1</td>\n",
       "    </tr>\n",
       "    <tr>\n",
       "      <th>1</th>\n",
       "      <td>18</td>\n",
       "      <td>33.770</td>\n",
       "      <td>1</td>\n",
       "      <td>1725.55230</td>\n",
       "      <td>1</td>\n",
       "      <td>0</td>\n",
       "      <td>0</td>\n",
       "      <td>1</td>\n",
       "      <td>0</td>\n",
       "    </tr>\n",
       "    <tr>\n",
       "      <th>2</th>\n",
       "      <td>28</td>\n",
       "      <td>33.000</td>\n",
       "      <td>3</td>\n",
       "      <td>4449.46200</td>\n",
       "      <td>1</td>\n",
       "      <td>0</td>\n",
       "      <td>0</td>\n",
       "      <td>1</td>\n",
       "      <td>0</td>\n",
       "    </tr>\n",
       "    <tr>\n",
       "      <th>3</th>\n",
       "      <td>33</td>\n",
       "      <td>22.705</td>\n",
       "      <td>0</td>\n",
       "      <td>21984.47061</td>\n",
       "      <td>1</td>\n",
       "      <td>0</td>\n",
       "      <td>1</td>\n",
       "      <td>0</td>\n",
       "      <td>0</td>\n",
       "    </tr>\n",
       "    <tr>\n",
       "      <th>4</th>\n",
       "      <td>32</td>\n",
       "      <td>28.880</td>\n",
       "      <td>0</td>\n",
       "      <td>3866.85520</td>\n",
       "      <td>1</td>\n",
       "      <td>0</td>\n",
       "      <td>1</td>\n",
       "      <td>0</td>\n",
       "      <td>0</td>\n",
       "    </tr>\n",
       "  </tbody>\n",
       "</table>\n",
       "</div>"
      ],
      "text/plain": [
       "   age     bmi  children      charges  gender_male  smoker_yes  \\\n",
       "0   19  27.900         0  16884.92400            0           1   \n",
       "1   18  33.770         1   1725.55230            1           0   \n",
       "2   28  33.000         3   4449.46200            1           0   \n",
       "3   33  22.705         0  21984.47061            1           0   \n",
       "4   32  28.880         0   3866.85520            1           0   \n",
       "\n",
       "   region_northwest  region_southeast  region_southwest  \n",
       "0                 0                 0                 1  \n",
       "1                 0                 1                 0  \n",
       "2                 0                 1                 0  \n",
       "3                 1                 0                 0  \n",
       "4                 1                 0                 0  "
      ]
     },
     "execution_count": 5,
     "metadata": {},
     "output_type": "execute_result"
    }
   ],
   "source": [
    "pd.get_dummies(df, drop_first=True).head()"
   ]
  },
  {
   "cell_type": "code",
   "execution_count": 6,
   "metadata": {},
   "outputs": [],
   "source": [
    "from sklearn import model_selection\n",
    "import numpy as np"
   ]
  },
  {
   "cell_type": "code",
   "execution_count": 44,
   "metadata": {},
   "outputs": [],
   "source": [
    "target = \"charges\"\n",
    "X = df.drop(columns=[target])\n",
    "X = pd.get_dummies(X, drop_first=True)\n",
    "features = X.columns\n",
    "y = df[target]\n",
    "\n",
    "X_train, X_test, y_train, y_test = model_selection.train_test_split(X, y,\n",
    "                           test_size = 0.3, random_state = 1)"
   ]
  },
  {
   "cell_type": "code",
   "execution_count": 8,
   "metadata": {},
   "outputs": [
    {
     "data": {
      "text/plain": [
       "((936, 8), (402, 8))"
      ]
     },
     "execution_count": 8,
     "metadata": {},
     "output_type": "execute_result"
    }
   ],
   "source": [
    "X_train.shape, X_test.shape"
   ]
  },
  {
   "cell_type": "code",
   "execution_count": 9,
   "metadata": {},
   "outputs": [
    {
     "data": {
      "text/plain": [
       "0.6995515695067265"
      ]
     },
     "execution_count": 9,
     "metadata": {},
     "output_type": "execute_result"
    }
   ],
   "source": [
    "936/len(X)"
   ]
  },
  {
   "cell_type": "code",
   "execution_count": 10,
   "metadata": {},
   "outputs": [
    {
     "data": {
      "text/plain": [
       "array([ 1.62434536, -0.61175641, -0.52817175, -1.07296862,  0.86540763])"
      ]
     },
     "execution_count": 10,
     "metadata": {},
     "output_type": "execute_result"
    }
   ],
   "source": [
    "np.random.seed(1)\n",
    "np.random.randn(5)"
   ]
  },
  {
   "cell_type": "code",
   "execution_count": 11,
   "metadata": {},
   "outputs": [],
   "source": [
    "from sklearn import preprocessing"
   ]
  },
  {
   "cell_type": "code",
   "execution_count": 12,
   "metadata": {},
   "outputs": [],
   "source": [
    "scaler = preprocessing.StandardScaler()\n",
    "X_train_std = scaler.fit_transform(X_train.astype(\"float\"))"
   ]
  },
  {
   "cell_type": "code",
   "execution_count": 13,
   "metadata": {},
   "outputs": [
    {
     "data": {
      "text/plain": [
       "array([[ 0.79715222, -0.70211414, -0.90400228, ...,  1.78810218,\n",
       "        -0.60038747, -0.58722022],\n",
       "       [-1.27108519, -0.70375759, -0.08567913, ..., -0.55925216,\n",
       "        -0.60038747,  1.70293864],\n",
       "       [-0.98581107, -0.73333977, -0.90400228, ..., -0.55925216,\n",
       "        -0.60038747, -0.58722022],\n",
       "       ...,\n",
       "       [ 0.86847075,  0.70303946,  0.73264401, ..., -0.55925216,\n",
       "        -0.60038747, -0.58722022],\n",
       "       [ 0.0839669 , -1.39072157,  0.73264401, ..., -0.55925216,\n",
       "         1.66559105, -0.58722022],\n",
       "       [ 1.29638193, -0.4506656 , -0.08567913, ..., -0.55925216,\n",
       "         1.66559105, -0.58722022]])"
      ]
     },
     "execution_count": 13,
     "metadata": {},
     "output_type": "execute_result"
    }
   ],
   "source": [
    "X_train_std"
   ]
  },
  {
   "cell_type": "code",
   "execution_count": 45,
   "metadata": {},
   "outputs": [
    {
     "data": {
      "text/html": [
       "<div>\n",
       "<style scoped>\n",
       "    .dataframe tbody tr th:only-of-type {\n",
       "        vertical-align: middle;\n",
       "    }\n",
       "\n",
       "    .dataframe tbody tr th {\n",
       "        vertical-align: top;\n",
       "    }\n",
       "\n",
       "    .dataframe thead th {\n",
       "        text-align: right;\n",
       "    }\n",
       "</style>\n",
       "<table border=\"1\" class=\"dataframe\">\n",
       "  <thead>\n",
       "    <tr style=\"text-align: right;\">\n",
       "      <th></th>\n",
       "      <th>age</th>\n",
       "      <th>bmi</th>\n",
       "      <th>children</th>\n",
       "      <th>gender_male</th>\n",
       "      <th>smoker_yes</th>\n",
       "      <th>region_northwest</th>\n",
       "      <th>region_southeast</th>\n",
       "      <th>region_southwest</th>\n",
       "    </tr>\n",
       "  </thead>\n",
       "  <tbody>\n",
       "    <tr>\n",
       "      <th>926</th>\n",
       "      <td>-0.771855</td>\n",
       "      <td>0.031688</td>\n",
       "      <td>-0.904002</td>\n",
       "      <td>0.976766</td>\n",
       "      <td>-0.509664</td>\n",
       "      <td>1.788102</td>\n",
       "      <td>-0.600387</td>\n",
       "      <td>-0.587220</td>\n",
       "    </tr>\n",
       "    <tr>\n",
       "      <th>86</th>\n",
       "      <td>-1.199767</td>\n",
       "      <td>1.449168</td>\n",
       "      <td>-0.904002</td>\n",
       "      <td>0.976766</td>\n",
       "      <td>-0.509664</td>\n",
       "      <td>-0.559252</td>\n",
       "      <td>-0.600387</td>\n",
       "      <td>1.702939</td>\n",
       "    </tr>\n",
       "    <tr>\n",
       "      <th>439</th>\n",
       "      <td>-0.843174</td>\n",
       "      <td>-2.091655</td>\n",
       "      <td>0.732644</td>\n",
       "      <td>-1.023787</td>\n",
       "      <td>1.962076</td>\n",
       "      <td>-0.559252</td>\n",
       "      <td>-0.600387</td>\n",
       "      <td>-0.587220</td>\n",
       "    </tr>\n",
       "    <tr>\n",
       "      <th>283</th>\n",
       "      <td>-1.342404</td>\n",
       "      <td>0.127830</td>\n",
       "      <td>-0.904002</td>\n",
       "      <td>-1.023787</td>\n",
       "      <td>-0.509664</td>\n",
       "      <td>-0.559252</td>\n",
       "      <td>1.665591</td>\n",
       "      <td>-0.587220</td>\n",
       "    </tr>\n",
       "    <tr>\n",
       "      <th>363</th>\n",
       "      <td>0.725834</td>\n",
       "      <td>-0.577212</td>\n",
       "      <td>-0.904002</td>\n",
       "      <td>-1.023787</td>\n",
       "      <td>-0.509664</td>\n",
       "      <td>-0.559252</td>\n",
       "      <td>1.665591</td>\n",
       "      <td>-0.587220</td>\n",
       "    </tr>\n",
       "    <tr>\n",
       "      <th>234</th>\n",
       "      <td>1.439019</td>\n",
       "      <td>0.109752</td>\n",
       "      <td>-0.904002</td>\n",
       "      <td>-1.023787</td>\n",
       "      <td>-0.509664</td>\n",
       "      <td>1.788102</td>\n",
       "      <td>-0.600387</td>\n",
       "      <td>-0.587220</td>\n",
       "    </tr>\n",
       "    <tr>\n",
       "      <th>412</th>\n",
       "      <td>-0.700537</td>\n",
       "      <td>0.437622</td>\n",
       "      <td>0.732644</td>\n",
       "      <td>0.976766</td>\n",
       "      <td>-0.509664</td>\n",
       "      <td>1.788102</td>\n",
       "      <td>-0.600387</td>\n",
       "      <td>-0.587220</td>\n",
       "    </tr>\n",
       "    <tr>\n",
       "      <th>161</th>\n",
       "      <td>-1.485041</td>\n",
       "      <td>-2.419524</td>\n",
       "      <td>-0.904002</td>\n",
       "      <td>0.976766</td>\n",
       "      <td>-0.509664</td>\n",
       "      <td>-0.559252</td>\n",
       "      <td>-0.600387</td>\n",
       "      <td>-0.587220</td>\n",
       "    </tr>\n",
       "    <tr>\n",
       "      <th>352</th>\n",
       "      <td>1.652975</td>\n",
       "      <td>-1.525485</td>\n",
       "      <td>-0.904002</td>\n",
       "      <td>0.976766</td>\n",
       "      <td>-0.509664</td>\n",
       "      <td>-0.559252</td>\n",
       "      <td>-0.600387</td>\n",
       "      <td>1.702939</td>\n",
       "    </tr>\n",
       "    <tr>\n",
       "      <th>763</th>\n",
       "      <td>-0.129989</td>\n",
       "      <td>-0.436696</td>\n",
       "      <td>0.732644</td>\n",
       "      <td>0.976766</td>\n",
       "      <td>-0.509664</td>\n",
       "      <td>1.788102</td>\n",
       "      <td>-0.600387</td>\n",
       "      <td>-0.587220</td>\n",
       "    </tr>\n",
       "  </tbody>\n",
       "</table>\n",
       "</div>"
      ],
      "text/plain": [
       "          age       bmi  children  gender_male  smoker_yes  region_northwest  \\\n",
       "926 -0.771855  0.031688 -0.904002     0.976766   -0.509664          1.788102   \n",
       "86  -1.199767  1.449168 -0.904002     0.976766   -0.509664         -0.559252   \n",
       "439 -0.843174 -2.091655  0.732644    -1.023787    1.962076         -0.559252   \n",
       "283 -1.342404  0.127830 -0.904002    -1.023787   -0.509664         -0.559252   \n",
       "363  0.725834 -0.577212 -0.904002    -1.023787   -0.509664         -0.559252   \n",
       "234  1.439019  0.109752 -0.904002    -1.023787   -0.509664          1.788102   \n",
       "412 -0.700537  0.437622  0.732644     0.976766   -0.509664          1.788102   \n",
       "161 -1.485041 -2.419524 -0.904002     0.976766   -0.509664         -0.559252   \n",
       "352  1.652975 -1.525485 -0.904002     0.976766   -0.509664         -0.559252   \n",
       "763 -0.129989 -0.436696  0.732644     0.976766   -0.509664          1.788102   \n",
       "\n",
       "     region_southeast  region_southwest  \n",
       "926         -0.600387         -0.587220  \n",
       "86          -0.600387          1.702939  \n",
       "439         -0.600387         -0.587220  \n",
       "283          1.665591         -0.587220  \n",
       "363          1.665591         -0.587220  \n",
       "234         -0.600387         -0.587220  \n",
       "412         -0.600387         -0.587220  \n",
       "161         -0.600387         -0.587220  \n",
       "352         -0.600387          1.702939  \n",
       "763         -0.600387         -0.587220  "
      ]
     },
     "execution_count": 45,
     "metadata": {},
     "output_type": "execute_result"
    }
   ],
   "source": [
    "pd.DataFrame(X_train_std, columns=features).sample(10)"
   ]
  },
  {
   "cell_type": "code",
   "execution_count": 15,
   "metadata": {},
   "outputs": [
    {
     "data": {
      "text/html": [
       "<div>\n",
       "<style scoped>\n",
       "    .dataframe tbody tr th:only-of-type {\n",
       "        vertical-align: middle;\n",
       "    }\n",
       "\n",
       "    .dataframe tbody tr th {\n",
       "        vertical-align: top;\n",
       "    }\n",
       "\n",
       "    .dataframe thead th {\n",
       "        text-align: right;\n",
       "    }\n",
       "</style>\n",
       "<table border=\"1\" class=\"dataframe\">\n",
       "  <thead>\n",
       "    <tr style=\"text-align: right;\">\n",
       "      <th></th>\n",
       "      <th>0</th>\n",
       "      <th>1</th>\n",
       "      <th>2</th>\n",
       "      <th>3</th>\n",
       "      <th>4</th>\n",
       "      <th>5</th>\n",
       "      <th>6</th>\n",
       "      <th>7</th>\n",
       "    </tr>\n",
       "  </thead>\n",
       "  <tbody>\n",
       "    <tr>\n",
       "      <th>count</th>\n",
       "      <td>9.360000e+02</td>\n",
       "      <td>9.360000e+02</td>\n",
       "      <td>9.360000e+02</td>\n",
       "      <td>9.360000e+02</td>\n",
       "      <td>9.360000e+02</td>\n",
       "      <td>9.360000e+02</td>\n",
       "      <td>9.360000e+02</td>\n",
       "      <td>9.360000e+02</td>\n",
       "    </tr>\n",
       "    <tr>\n",
       "      <th>mean</th>\n",
       "      <td>-1.791065e-16</td>\n",
       "      <td>-4.635418e-16</td>\n",
       "      <td>-2.910332e-16</td>\n",
       "      <td>1.767342e-17</td>\n",
       "      <td>8.979047e-17</td>\n",
       "      <td>-1.088873e-16</td>\n",
       "      <td>4.886879e-17</td>\n",
       "      <td>-2.372271e-17</td>\n",
       "    </tr>\n",
       "    <tr>\n",
       "      <th>std</th>\n",
       "      <td>1.000535e+00</td>\n",
       "      <td>1.000535e+00</td>\n",
       "      <td>1.000535e+00</td>\n",
       "      <td>1.000535e+00</td>\n",
       "      <td>1.000535e+00</td>\n",
       "      <td>1.000535e+00</td>\n",
       "      <td>1.000535e+00</td>\n",
       "      <td>1.000535e+00</td>\n",
       "    </tr>\n",
       "    <tr>\n",
       "      <th>min</th>\n",
       "      <td>-1.485041e+00</td>\n",
       "      <td>-2.419524e+00</td>\n",
       "      <td>-9.040023e-01</td>\n",
       "      <td>-1.023787e+00</td>\n",
       "      <td>-5.096643e-01</td>\n",
       "      <td>-5.592522e-01</td>\n",
       "      <td>-6.003875e-01</td>\n",
       "      <td>-5.872202e-01</td>\n",
       "    </tr>\n",
       "    <tr>\n",
       "      <th>25%</th>\n",
       "      <td>-9.144925e-01</td>\n",
       "      <td>-7.247116e-01</td>\n",
       "      <td>-9.040023e-01</td>\n",
       "      <td>-1.023787e+00</td>\n",
       "      <td>-5.096643e-01</td>\n",
       "      <td>-5.592522e-01</td>\n",
       "      <td>-6.003875e-01</td>\n",
       "      <td>-5.872202e-01</td>\n",
       "    </tr>\n",
       "    <tr>\n",
       "      <th>50%</th>\n",
       "      <td>-5.867016e-02</td>\n",
       "      <td>-3.076297e-02</td>\n",
       "      <td>-8.567913e-02</td>\n",
       "      <td>9.767656e-01</td>\n",
       "      <td>-5.096643e-01</td>\n",
       "      <td>-5.592522e-01</td>\n",
       "      <td>-6.003875e-01</td>\n",
       "      <td>-5.872202e-01</td>\n",
       "    </tr>\n",
       "    <tr>\n",
       "      <th>75%</th>\n",
       "      <td>8.684707e-01</td>\n",
       "      <td>6.631857e-01</td>\n",
       "      <td>7.326440e-01</td>\n",
       "      <td>9.767656e-01</td>\n",
       "      <td>-5.096643e-01</td>\n",
       "      <td>-5.592522e-01</td>\n",
       "      <td>1.665591e+00</td>\n",
       "      <td>1.702939e+00</td>\n",
       "    </tr>\n",
       "    <tr>\n",
       "      <th>max</th>\n",
       "      <td>1.795612e+00</td>\n",
       "      <td>3.689196e+00</td>\n",
       "      <td>3.187613e+00</td>\n",
       "      <td>9.767656e-01</td>\n",
       "      <td>1.962076e+00</td>\n",
       "      <td>1.788102e+00</td>\n",
       "      <td>1.665591e+00</td>\n",
       "      <td>1.702939e+00</td>\n",
       "    </tr>\n",
       "  </tbody>\n",
       "</table>\n",
       "</div>"
      ],
      "text/plain": [
       "                  0             1             2             3             4  \\\n",
       "count  9.360000e+02  9.360000e+02  9.360000e+02  9.360000e+02  9.360000e+02   \n",
       "mean  -1.791065e-16 -4.635418e-16 -2.910332e-16  1.767342e-17  8.979047e-17   \n",
       "std    1.000535e+00  1.000535e+00  1.000535e+00  1.000535e+00  1.000535e+00   \n",
       "min   -1.485041e+00 -2.419524e+00 -9.040023e-01 -1.023787e+00 -5.096643e-01   \n",
       "25%   -9.144925e-01 -7.247116e-01 -9.040023e-01 -1.023787e+00 -5.096643e-01   \n",
       "50%   -5.867016e-02 -3.076297e-02 -8.567913e-02  9.767656e-01 -5.096643e-01   \n",
       "75%    8.684707e-01  6.631857e-01  7.326440e-01  9.767656e-01 -5.096643e-01   \n",
       "max    1.795612e+00  3.689196e+00  3.187613e+00  9.767656e-01  1.962076e+00   \n",
       "\n",
       "                  5             6             7  \n",
       "count  9.360000e+02  9.360000e+02  9.360000e+02  \n",
       "mean  -1.088873e-16  4.886879e-17 -2.372271e-17  \n",
       "std    1.000535e+00  1.000535e+00  1.000535e+00  \n",
       "min   -5.592522e-01 -6.003875e-01 -5.872202e-01  \n",
       "25%   -5.592522e-01 -6.003875e-01 -5.872202e-01  \n",
       "50%   -5.592522e-01 -6.003875e-01 -5.872202e-01  \n",
       "75%   -5.592522e-01  1.665591e+00  1.702939e+00  \n",
       "max    1.788102e+00  1.665591e+00  1.702939e+00  "
      ]
     },
     "execution_count": 15,
     "metadata": {},
     "output_type": "execute_result"
    }
   ],
   "source": [
    "pd.DataFrame(X_train_std).describe()"
   ]
  },
  {
   "cell_type": "code",
   "execution_count": 16,
   "metadata": {},
   "outputs": [],
   "source": [
    "X_test_std = scaler.transform(X_test.astype(\"float\"))"
   ]
  },
  {
   "cell_type": "code",
   "execution_count": 17,
   "metadata": {},
   "outputs": [],
   "source": [
    "from sklearn import linear_model"
   ]
  },
  {
   "cell_type": "code",
   "execution_count": 18,
   "metadata": {},
   "outputs": [
    {
     "data": {
      "text/plain": [
       "LinearRegression(copy_X=True, fit_intercept=True, n_jobs=None,\n",
       "         normalize=False)"
      ]
     },
     "execution_count": 18,
     "metadata": {},
     "output_type": "execute_result"
    }
   ],
   "source": [
    "est = linear_model.LinearRegression()\n",
    "est.fit(X_train_std, y_train)"
   ]
  },
  {
   "cell_type": "code",
   "execution_count": 19,
   "metadata": {},
   "outputs": [],
   "source": [
    "y_train_pred = est.predict(X_train_std)\n",
    "y_test_pred = est.predict(X_test_std)"
   ]
  },
  {
   "cell_type": "code",
   "execution_count": 20,
   "metadata": {},
   "outputs": [],
   "source": [
    "train_error = (y_train - y_train_pred)"
   ]
  },
  {
   "cell_type": "code",
   "execution_count": 21,
   "metadata": {},
   "outputs": [
    {
     "data": {
      "text/plain": [
       "34142276155.204025"
      ]
     },
     "execution_count": 21,
     "metadata": {},
     "output_type": "execute_result"
    }
   ],
   "source": [
    "sse = np.sum(train_error ** 2)\n",
    "sse"
   ]
  },
  {
   "cell_type": "code",
   "execution_count": 22,
   "metadata": {},
   "outputs": [
    {
     "data": {
      "text/plain": [
       "139103996336.147"
      ]
     },
     "execution_count": 22,
     "metadata": {},
     "output_type": "execute_result"
    }
   ],
   "source": [
    "sst = np.sum((y_train - y_train.mean()) ** 2)\n",
    "sst"
   ]
  },
  {
   "cell_type": "code",
   "execution_count": 23,
   "metadata": {},
   "outputs": [
    {
     "data": {
      "text/plain": [
       "0.2454442507366839"
      ]
     },
     "execution_count": 23,
     "metadata": {},
     "output_type": "execute_result"
    }
   ],
   "source": [
    "sse/sst"
   ]
  },
  {
   "cell_type": "code",
   "execution_count": 24,
   "metadata": {},
   "outputs": [
    {
     "data": {
      "text/plain": [
       "0.7545557492633161"
      ]
     },
     "execution_count": 24,
     "metadata": {},
     "output_type": "execute_result"
    }
   ],
   "source": [
    "r2 = 1 - sse/sst # Measure of goodness of the model, best value of R2 is 1\n",
    "r2"
   ]
  },
  {
   "cell_type": "code",
   "execution_count": 25,
   "metadata": {},
   "outputs": [],
   "source": [
    "# R2 is negative, the model is not useful."
   ]
  },
  {
   "cell_type": "code",
   "execution_count": 26,
   "metadata": {},
   "outputs": [],
   "source": [
    "from sklearn import metrics"
   ]
  },
  {
   "cell_type": "code",
   "execution_count": 27,
   "metadata": {},
   "outputs": [
    {
     "data": {
      "text/plain": [
       "0.7545557492633161"
      ]
     },
     "execution_count": 27,
     "metadata": {},
     "output_type": "execute_result"
    }
   ],
   "source": [
    "metrics.r2_score(y_train, y_train_pred)"
   ]
  },
  {
   "cell_type": "code",
   "execution_count": 28,
   "metadata": {},
   "outputs": [
    {
     "data": {
      "text/plain": [
       "0.7405989316927211"
      ]
     },
     "execution_count": 28,
     "metadata": {},
     "output_type": "execute_result"
    }
   ],
   "source": [
    "metrics.r2_score(y_test, y_test_pred)"
   ]
  },
  {
   "cell_type": "code",
   "execution_count": 29,
   "metadata": {},
   "outputs": [],
   "source": [
    "from sklearn import pipeline"
   ]
  },
  {
   "cell_type": "code",
   "execution_count": 30,
   "metadata": {},
   "outputs": [
    {
     "name": "stdout",
     "output_type": "stream",
     "text": [
      "training r2 0.7545557492633161\n",
      "test r2 0.7405989316927208\n",
      "training rmse: 6039.6018713245385\n",
      "test rmse: 6063.122656850453\n"
     ]
    }
   ],
   "source": [
    "target = \"charges\"\n",
    "X = df.drop(columns=[target])\n",
    "X = pd.get_dummies(X, drop_first=True).values.astype(\"float\")\n",
    "y = df[target]\n",
    "\n",
    "X_train, X_test, y_train, y_test = model_selection.train_test_split(X, y,\n",
    "                           test_size = 0.3, random_state = 1)\n",
    "\n",
    "pipe = pipeline.Pipeline([\n",
    "\t(\"scaler\", preprocessing.StandardScaler()),\n",
    "\t(\"est\", linear_model.LinearRegression())\n",
    "])\n",
    "\n",
    "\n",
    "pipe.fit(X_train, y_train)\n",
    "\n",
    "y_train_pred = pipe.predict(X_train)\n",
    "y_test_pred = pipe.predict(X_test)\n",
    "\n",
    "print(\"training r2\", metrics.r2_score(y_train, y_train_pred))\n",
    "print(\"test r2\", metrics.r2_score(y_test, y_test_pred))\n",
    "\n",
    "print(\"training rmse:\", np.sqrt(metrics.mean_squared_error(y_train, y_train_pred)))\n",
    "print(\"test rmse:\", np.sqrt(metrics.mean_squared_error(y_test, y_test_pred)))\n"
   ]
  },
  {
   "cell_type": "code",
   "execution_count": 31,
   "metadata": {},
   "outputs": [],
   "source": [
    "mse = np.mean((y_train - y_train_pred) ** 2)"
   ]
  },
  {
   "cell_type": "code",
   "execution_count": 32,
   "metadata": {},
   "outputs": [],
   "source": [
    "rmse = np.sqrt(mse)"
   ]
  },
  {
   "cell_type": "code",
   "execution_count": 33,
   "metadata": {},
   "outputs": [
    {
     "data": {
      "text/html": [
       "<div>\n",
       "<style scoped>\n",
       "    .dataframe tbody tr th:only-of-type {\n",
       "        vertical-align: middle;\n",
       "    }\n",
       "\n",
       "    .dataframe tbody tr th {\n",
       "        vertical-align: top;\n",
       "    }\n",
       "\n",
       "    .dataframe thead th {\n",
       "        text-align: right;\n",
       "    }\n",
       "</style>\n",
       "<table border=\"1\" class=\"dataframe\">\n",
       "  <thead>\n",
       "    <tr style=\"text-align: right;\">\n",
       "      <th></th>\n",
       "      <th>age</th>\n",
       "      <th>gender</th>\n",
       "      <th>bmi</th>\n",
       "      <th>children</th>\n",
       "      <th>smoker</th>\n",
       "      <th>region</th>\n",
       "      <th>charges</th>\n",
       "    </tr>\n",
       "  </thead>\n",
       "  <tbody>\n",
       "    <tr>\n",
       "      <th>0</th>\n",
       "      <td>19</td>\n",
       "      <td>female</td>\n",
       "      <td>27.900</td>\n",
       "      <td>0</td>\n",
       "      <td>yes</td>\n",
       "      <td>southwest</td>\n",
       "      <td>16884.92400</td>\n",
       "    </tr>\n",
       "    <tr>\n",
       "      <th>1</th>\n",
       "      <td>18</td>\n",
       "      <td>male</td>\n",
       "      <td>33.770</td>\n",
       "      <td>1</td>\n",
       "      <td>no</td>\n",
       "      <td>southeast</td>\n",
       "      <td>1725.55230</td>\n",
       "    </tr>\n",
       "    <tr>\n",
       "      <th>2</th>\n",
       "      <td>28</td>\n",
       "      <td>male</td>\n",
       "      <td>33.000</td>\n",
       "      <td>3</td>\n",
       "      <td>no</td>\n",
       "      <td>southeast</td>\n",
       "      <td>4449.46200</td>\n",
       "    </tr>\n",
       "    <tr>\n",
       "      <th>3</th>\n",
       "      <td>33</td>\n",
       "      <td>male</td>\n",
       "      <td>22.705</td>\n",
       "      <td>0</td>\n",
       "      <td>no</td>\n",
       "      <td>northwest</td>\n",
       "      <td>21984.47061</td>\n",
       "    </tr>\n",
       "    <tr>\n",
       "      <th>4</th>\n",
       "      <td>32</td>\n",
       "      <td>male</td>\n",
       "      <td>28.880</td>\n",
       "      <td>0</td>\n",
       "      <td>no</td>\n",
       "      <td>northwest</td>\n",
       "      <td>3866.85520</td>\n",
       "    </tr>\n",
       "  </tbody>\n",
       "</table>\n",
       "</div>"
      ],
      "text/plain": [
       "   age  gender     bmi  children smoker     region      charges\n",
       "0   19  female  27.900         0    yes  southwest  16884.92400\n",
       "1   18    male  33.770         1     no  southeast   1725.55230\n",
       "2   28    male  33.000         3     no  southeast   4449.46200\n",
       "3   33    male  22.705         0     no  northwest  21984.47061\n",
       "4   32    male  28.880         0     no  northwest   3866.85520"
      ]
     },
     "execution_count": 33,
     "metadata": {},
     "output_type": "execute_result"
    }
   ],
   "source": [
    "df.head()"
   ]
  },
  {
   "cell_type": "code",
   "execution_count": 34,
   "metadata": {},
   "outputs": [
    {
     "name": "stdout",
     "output_type": "stream",
     "text": [
      "training r2 0.7589104330619343\n",
      "test r2 0.78742951961976\n",
      "training rmse: 0.45174290241037973\n",
      "test rmse: 0.4228608853190619\n"
     ]
    }
   ],
   "source": [
    "target = \"charges\"\n",
    "X = df.drop(columns=[target])\n",
    "#X[\"age_high\"] = np.where(df.age>60, 1, 0)\n",
    "#X[\"high_bmi\"] = np.where(df.bmi>30, 1, 0)\n",
    "X = pd.get_dummies(X, drop_first=True)\n",
    "columns = X.columns\n",
    "X = X.values.astype(\"float\")\n",
    "y = np.log(df[target])\n",
    "\n",
    "X_train, X_test, y_train, y_test = model_selection.train_test_split(X, y,\n",
    "                           test_size = 0.3, random_state = 1)\n",
    "\n",
    "pipe = pipeline.Pipeline([\n",
    "    (\"poly\", preprocessing.PolynomialFeatures(degree=1, include_bias=False)),\n",
    "\t(\"scaler\", preprocessing.StandardScaler()),\n",
    "\t(\"est\", linear_model.LinearRegression())\n",
    "])\n",
    "\n",
    "\n",
    "pipe.fit(X_train, y_train)\n",
    "\n",
    "y_train_pred = pipe.predict(X_train)\n",
    "y_test_pred = pipe.predict(X_test)\n",
    "\n",
    "print(\"training r2\", metrics.r2_score(y_train, y_train_pred))\n",
    "print(\"test r2\", metrics.r2_score(y_test, y_test_pred))\n",
    "\n",
    "print(\"training rmse:\", np.sqrt(metrics.mean_squared_error(y_train, y_train_pred)))\n",
    "print(\"test rmse:\", np.sqrt(metrics.mean_squared_error(y_test, y_test_pred)))\n"
   ]
  },
  {
   "cell_type": "code",
   "execution_count": 35,
   "metadata": {},
   "outputs": [
    {
     "data": {
      "text/plain": [
       "array([ 0.47147365,  0.08158994,  0.115362  , -0.04554678,  0.62975311,\n",
       "       -0.02392739, -0.07216256, -0.06006463])"
      ]
     },
     "execution_count": 35,
     "metadata": {},
     "output_type": "execute_result"
    }
   ],
   "source": [
    "est = pipe.steps[-1][-1]\n",
    "est.coef_"
   ]
  },
  {
   "cell_type": "code",
   "execution_count": 36,
   "metadata": {},
   "outputs": [
    {
     "data": {
      "text/html": [
       "<div>\n",
       "<style scoped>\n",
       "    .dataframe tbody tr th:only-of-type {\n",
       "        vertical-align: middle;\n",
       "    }\n",
       "\n",
       "    .dataframe tbody tr th {\n",
       "        vertical-align: top;\n",
       "    }\n",
       "\n",
       "    .dataframe thead th {\n",
       "        text-align: right;\n",
       "    }\n",
       "</style>\n",
       "<table border=\"1\" class=\"dataframe\">\n",
       "  <thead>\n",
       "    <tr style=\"text-align: right;\">\n",
       "      <th></th>\n",
       "      <th>feature</th>\n",
       "      <th>coefficient</th>\n",
       "    </tr>\n",
       "  </thead>\n",
       "  <tbody>\n",
       "    <tr>\n",
       "      <th>0</th>\n",
       "      <td>age</td>\n",
       "      <td>0.471474</td>\n",
       "    </tr>\n",
       "    <tr>\n",
       "      <th>1</th>\n",
       "      <td>bmi</td>\n",
       "      <td>0.081590</td>\n",
       "    </tr>\n",
       "    <tr>\n",
       "      <th>2</th>\n",
       "      <td>children</td>\n",
       "      <td>0.115362</td>\n",
       "    </tr>\n",
       "    <tr>\n",
       "      <th>3</th>\n",
       "      <td>gender_male</td>\n",
       "      <td>-0.045547</td>\n",
       "    </tr>\n",
       "    <tr>\n",
       "      <th>4</th>\n",
       "      <td>smoker_yes</td>\n",
       "      <td>0.629753</td>\n",
       "    </tr>\n",
       "    <tr>\n",
       "      <th>5</th>\n",
       "      <td>region_northwest</td>\n",
       "      <td>-0.023927</td>\n",
       "    </tr>\n",
       "    <tr>\n",
       "      <th>6</th>\n",
       "      <td>region_southeast</td>\n",
       "      <td>-0.072163</td>\n",
       "    </tr>\n",
       "    <tr>\n",
       "      <th>7</th>\n",
       "      <td>region_southwest</td>\n",
       "      <td>-0.060065</td>\n",
       "    </tr>\n",
       "  </tbody>\n",
       "</table>\n",
       "</div>"
      ],
      "text/plain": [
       "            feature  coefficient\n",
       "0               age     0.471474\n",
       "1               bmi     0.081590\n",
       "2          children     0.115362\n",
       "3       gender_male    -0.045547\n",
       "4        smoker_yes     0.629753\n",
       "5  region_northwest    -0.023927\n",
       "6  region_southeast    -0.072163\n",
       "7  region_southwest    -0.060065"
      ]
     },
     "execution_count": 36,
     "metadata": {},
     "output_type": "execute_result"
    }
   ],
   "source": [
    "pd.DataFrame({\"feature\": columns, \"coefficient\": est.coef_})"
   ]
  },
  {
   "cell_type": "code",
   "execution_count": null,
   "metadata": {},
   "outputs": [],
   "source": []
  },
  {
   "cell_type": "code",
   "execution_count": 37,
   "metadata": {},
   "outputs": [
    {
     "data": {
      "text/plain": [
       "9.095336942703502"
      ]
     },
     "execution_count": 37,
     "metadata": {},
     "output_type": "execute_result"
    }
   ],
   "source": [
    "est.intercept_"
   ]
  },
  {
   "cell_type": "code",
   "execution_count": 38,
   "metadata": {},
   "outputs": [
    {
     "name": "stdout",
     "output_type": "stream",
     "text": [
      "training r2 0.834788529494612\n",
      "test r2 0.8705884967625366\n",
      "training rmse: 0.37395748281705865\n",
      "test rmse: 0.3299381072855681\n"
     ]
    }
   ],
   "source": [
    "target = \"charges\"\n",
    "X = df.drop(columns=[target])\n",
    "X[\"age_high\"] = np.where(df.age>60, 1, 0)\n",
    "X[\"high_bmi\"] = np.where(df.bmi>30, 1, 0)\n",
    "X = pd.get_dummies(X, drop_first=True)\n",
    "columns = X.columns\n",
    "X = X.values.astype(\"float\")\n",
    "y = np.log(df[target])\n",
    "\n",
    "X_train, X_test, y_train, y_test = model_selection.train_test_split(X, y,\n",
    "                           test_size = 0.3, random_state = 1)\n",
    "\n",
    "pipe = pipeline.Pipeline([\n",
    "    (\"poly\", preprocessing.PolynomialFeatures(degree=2, include_bias=False)),\n",
    "\t(\"scaler\", preprocessing.StandardScaler()),\n",
    "\t(\"est\", linear_model.LinearRegression())\n",
    "])\n",
    "\n",
    "\n",
    "pipe.fit(X_train, y_train)\n",
    "\n",
    "y_train_pred = pipe.predict(X_train)\n",
    "y_test_pred = pipe.predict(X_test)\n",
    "\n",
    "print(\"training r2\", metrics.r2_score(y_train, y_train_pred))\n",
    "print(\"test r2\", metrics.r2_score(y_test, y_test_pred))\n",
    "\n",
    "print(\"training rmse:\", np.sqrt(metrics.mean_squared_error(y_train, y_train_pred)))\n",
    "print(\"test rmse:\", np.sqrt(metrics.mean_squared_error(y_test, y_test_pred)))\n"
   ]
  },
  {
   "cell_type": "code",
   "execution_count": 39,
   "metadata": {},
   "outputs": [
    {
     "data": {
      "text/plain": [
       "array([ 6.95782168e-01,  2.99070081e-02,  4.08311483e-01, -7.21871116e+11,\n",
       "       -6.45231393e+11, -2.02784693e+12, -2.75499672e+12,  3.58978197e+12,\n",
       "       -4.63246052e+12,  2.46814498e+12, -2.59948730e-01,  6.83593750e-02,\n",
       "       -1.59729004e-01, -8.94241333e-01, -9.86328125e-02,  1.25488281e-01,\n",
       "       -5.66162109e-01,  9.35058594e-02,  2.12890625e-01,  2.16796875e-01,\n",
       "        7.99560547e-02, -7.69653320e-02, -2.62519836e-01, -1.72515869e-01,\n",
       "        6.70776367e-02,  2.07275391e-01, -1.70410156e-01, -4.09423828e-01,\n",
       "       -7.81250000e-02, -6.76879883e-02,  2.34375000e-02, -1.56860352e-02,\n",
       "        6.22558594e-03, -1.01684570e-01,  2.80761719e-02,  2.31323242e-02,\n",
       "        0.00000000e+00,  7.21871116e+11,  5.48858643e-02, -6.08825684e-03,\n",
       "        4.39453125e-03, -1.67236328e-02, -6.10351562e-03, -2.11181641e-02,\n",
       "        6.45231393e+11, -3.66210938e-04,  1.49414062e-01,  1.22070312e-03,\n",
       "        8.12988281e-02, -2.29492188e-02,  2.02784693e+12,  2.64892578e-02,\n",
       "       -2.44140625e-04, -1.04980469e-02, -3.34472656e-02,  2.75499672e+12,\n",
       "        2.68554688e-03,  3.13720703e-02,  3.13110352e-02, -3.58978197e+12,\n",
       "        0.00000000e+00,  0.00000000e+00,  4.63246052e+12,  0.00000000e+00,\n",
       "       -2.46814498e+12])"
      ]
     },
     "execution_count": 39,
     "metadata": {},
     "output_type": "execute_result"
    }
   ],
   "source": [
    "est = pipe.steps[-1][-1]\n",
    "est.coef_"
   ]
  },
  {
   "cell_type": "code",
   "execution_count": 40,
   "metadata": {},
   "outputs": [
    {
     "data": {
      "text/plain": [
       "array([[ 1,  1,  1],\n",
       "       [ 1,  2,  3],\n",
       "       [-2,  1,  2],\n",
       "       [ 3,  2,  1]])"
      ]
     },
     "execution_count": 40,
     "metadata": {},
     "output_type": "execute_result"
    }
   ],
   "source": [
    "a = np.array([\n",
    "    [1, 1, 1],\n",
    "    [1, 2, 3],\n",
    "    [-2, 1, 2],\n",
    "    [3, 2, 1]\n",
    "])\n",
    "a"
   ]
  },
  {
   "cell_type": "code",
   "execution_count": 41,
   "metadata": {},
   "outputs": [
    {
     "data": {
      "text/plain": [
       "array([[ 1.,  1.,  1.,  1.,  1.,  1.,  1.,  1.,  1.],\n",
       "       [ 1.,  2.,  3.,  1.,  2.,  3.,  4.,  6.,  9.],\n",
       "       [-2.,  1.,  2.,  4., -2., -4.,  1.,  2.,  4.],\n",
       "       [ 3.,  2.,  1.,  9.,  6.,  3.,  4.,  2.,  1.]])"
      ]
     },
     "execution_count": 41,
     "metadata": {},
     "output_type": "execute_result"
    }
   ],
   "source": [
    "poly = preprocessing.PolynomialFeatures(degree=2, include_bias=False)\n",
    "poly.fit_transform(a)"
   ]
  },
  {
   "cell_type": "code",
   "execution_count": 42,
   "metadata": {},
   "outputs": [
    {
     "data": {
      "text/plain": [
       "(4, 501500)"
      ]
     },
     "execution_count": 42,
     "metadata": {},
     "output_type": "execute_result"
    }
   ],
   "source": [
    "a = np.random.random((4, 1000))\n",
    "poly = preprocessing.PolynomialFeatures(degree=2, include_bias=False)\n",
    "poly.fit_transform(a).shape"
   ]
  },
  {
   "cell_type": "code",
   "execution_count": 51,
   "metadata": {},
   "outputs": [
    {
     "name": "stdout",
     "output_type": "stream",
     "text": [
      "training r2 0.7324281490897704\n",
      "test r2 0.7498265539662363\n",
      "training rmse: 0.47590727183370596\n",
      "test rmse: 0.45874003473531594\n"
     ]
    },
    {
     "data": {
      "text/plain": [
       "array([ 0.37779439,  0.        ,  0.0174025 ,  0.        ,  0.        ,\n",
       "       -0.        ,  0.10091026,  0.        , -0.        , -0.        ,\n",
       "        0.        ,  0.        ,  0.        ,  0.        ,  0.        ,\n",
       "        0.        ,  0.        ,  0.        , -0.        ,  0.        ,\n",
       "        0.        ,  0.        ,  0.        ,  0.        , -0.        ,\n",
       "        0.4064069 ,  0.        , -0.        , -0.        ,  0.        ,\n",
       "        0.        ,  0.        ,  0.        ,  0.        ,  0.        ,\n",
       "        0.        ,  0.        ,  0.        ,  0.        ,  0.        ,\n",
       "       -0.        , -0.        ,  0.        ,  0.        ,  0.        ,\n",
       "       -0.        ,  0.04071257,  0.        , -0.        , -0.        ,\n",
       "       -0.        ,  0.        , -0.        , -0.        , -0.        ,\n",
       "        0.        ,  0.        ,  0.        ,  0.        ,  0.        ,\n",
       "        0.        ,  0.        , -0.        ,  0.        , -0.        ])"
      ]
     },
     "execution_count": 51,
     "metadata": {},
     "output_type": "execute_result"
    }
   ],
   "source": [
    "target = \"charges\"\n",
    "X = df.drop(columns=[target])\n",
    "X[\"age_high\"] = np.where(df.age>60, 1, 0)\n",
    "X[\"high_bmi\"] = np.where(df.bmi>30, 1, 0)\n",
    "X = pd.get_dummies(X, drop_first=True)\n",
    "columns = X.columns\n",
    "X = X.values.astype(\"float\")\n",
    "y = np.log(df[target])\n",
    "\n",
    "X_train, X_test, y_train, y_test = model_selection.train_test_split(X, y,\n",
    "                           test_size = 0.3, random_state = 1)\n",
    "\n",
    "pipe = pipeline.Pipeline([\n",
    "    (\"poly\", preprocessing.PolynomialFeatures(degree=2, include_bias=False)),\n",
    "\t(\"scaler\", preprocessing.StandardScaler()),\n",
    "\t(\"est\", linear_model.Lasso(alpha=0.1, random_state=1))\n",
    "])\n",
    "\n",
    "\n",
    "pipe.fit(X_train, y_train)\n",
    "\n",
    "y_train_pred = pipe.predict(X_train)\n",
    "y_test_pred = pipe.predict(X_test)\n",
    "\n",
    "print(\"training r2\", metrics.r2_score(y_train, y_train_pred))\n",
    "print(\"test r2\", metrics.r2_score(y_test, y_test_pred))\n",
    "\n",
    "print(\"training rmse:\", np.sqrt(metrics.mean_squared_error(y_train, y_train_pred)))\n",
    "print(\"test rmse:\", np.sqrt(metrics.mean_squared_error(y_test, y_test_pred)))\n",
    "est = pipe.steps[-1][-1]\n",
    "\n",
    "est.coef_\n",
    "\n"
   ]
  },
  {
   "cell_type": "code",
   "execution_count": null,
   "metadata": {},
   "outputs": [],
   "source": []
  },
  {
   "cell_type": "code",
   "execution_count": null,
   "metadata": {},
   "outputs": [],
   "source": [
    "\n",
    "\n",
    "\n",
    "\n",
    "\n",
    "\n",
    "\n",
    "\n",
    "\n",
    "\n",
    "\n",
    "\n"
   ]
  }
 ],
 "metadata": {
  "kernelspec": {
   "display_name": "Python 3",
   "language": "python",
   "name": "python3"
  },
  "language_info": {
   "codemirror_mode": {
    "name": "ipython",
    "version": 3
   },
   "file_extension": ".py",
   "mimetype": "text/x-python",
   "name": "python",
   "nbconvert_exporter": "python",
   "pygments_lexer": "ipython3",
   "version": "3.6.6"
  }
 },
 "nbformat": 4,
 "nbformat_minor": 2
}
