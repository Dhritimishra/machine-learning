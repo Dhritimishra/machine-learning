{
 "cells": [
  {
   "cell_type": "code",
   "execution_count": 1,
   "metadata": {},
   "outputs": [],
   "source": [
    "import pandas as pd\n",
    "import numpy as np"
   ]
  },
  {
   "cell_type": "code",
   "execution_count": 2,
   "metadata": {},
   "outputs": [
    {
     "data": {
      "text/html": [
       "<div>\n",
       "<style scoped>\n",
       "    .dataframe tbody tr th:only-of-type {\n",
       "        vertical-align: middle;\n",
       "    }\n",
       "\n",
       "    .dataframe tbody tr th {\n",
       "        vertical-align: top;\n",
       "    }\n",
       "\n",
       "    .dataframe thead th {\n",
       "        text-align: right;\n",
       "    }\n",
       "</style>\n",
       "<table border=\"1\" class=\"dataframe\">\n",
       "  <thead>\n",
       "    <tr style=\"text-align: right;\">\n",
       "      <th></th>\n",
       "      <th>age</th>\n",
       "      <th>gender</th>\n",
       "      <th>bmi</th>\n",
       "      <th>children</th>\n",
       "      <th>smoker</th>\n",
       "      <th>region</th>\n",
       "      <th>charges</th>\n",
       "    </tr>\n",
       "  </thead>\n",
       "  <tbody>\n",
       "    <tr>\n",
       "      <th>0</th>\n",
       "      <td>19</td>\n",
       "      <td>female</td>\n",
       "      <td>27.900</td>\n",
       "      <td>0</td>\n",
       "      <td>yes</td>\n",
       "      <td>southwest</td>\n",
       "      <td>16884.92400</td>\n",
       "    </tr>\n",
       "    <tr>\n",
       "      <th>1</th>\n",
       "      <td>18</td>\n",
       "      <td>male</td>\n",
       "      <td>33.770</td>\n",
       "      <td>1</td>\n",
       "      <td>no</td>\n",
       "      <td>southeast</td>\n",
       "      <td>1725.55230</td>\n",
       "    </tr>\n",
       "    <tr>\n",
       "      <th>2</th>\n",
       "      <td>28</td>\n",
       "      <td>male</td>\n",
       "      <td>33.000</td>\n",
       "      <td>3</td>\n",
       "      <td>no</td>\n",
       "      <td>southeast</td>\n",
       "      <td>4449.46200</td>\n",
       "    </tr>\n",
       "    <tr>\n",
       "      <th>3</th>\n",
       "      <td>33</td>\n",
       "      <td>male</td>\n",
       "      <td>22.705</td>\n",
       "      <td>0</td>\n",
       "      <td>no</td>\n",
       "      <td>northwest</td>\n",
       "      <td>21984.47061</td>\n",
       "    </tr>\n",
       "    <tr>\n",
       "      <th>4</th>\n",
       "      <td>32</td>\n",
       "      <td>male</td>\n",
       "      <td>28.880</td>\n",
       "      <td>0</td>\n",
       "      <td>no</td>\n",
       "      <td>northwest</td>\n",
       "      <td>3866.85520</td>\n",
       "    </tr>\n",
       "  </tbody>\n",
       "</table>\n",
       "</div>"
      ],
      "text/plain": [
       "   age  gender     bmi  children smoker     region      charges\n",
       "0   19  female  27.900         0    yes  southwest  16884.92400\n",
       "1   18    male  33.770         1     no  southeast   1725.55230\n",
       "2   28    male  33.000         3     no  southeast   4449.46200\n",
       "3   33    male  22.705         0     no  northwest  21984.47061\n",
       "4   32    male  28.880         0     no  northwest   3866.85520"
      ]
     },
     "execution_count": 2,
     "metadata": {},
     "output_type": "execute_result"
    }
   ],
   "source": [
    "df = pd.read_csv(\"/data/insurance.csv\")\n",
    "df.head()"
   ]
  },
  {
   "cell_type": "code",
   "execution_count": 3,
   "metadata": {},
   "outputs": [
    {
     "data": {
      "text/plain": [
       "array(['northeast', 'northwest', 'southeast', 'southwest'], dtype=object)"
      ]
     },
     "execution_count": 3,
     "metadata": {},
     "output_type": "execute_result"
    }
   ],
   "source": [
    "np.sort(df.region.unique())"
   ]
  },
  {
   "cell_type": "code",
   "execution_count": 8,
   "metadata": {},
   "outputs": [],
   "source": [
    "from sklearn import preprocessing, model_selection, linear_model,metrics"
   ]
  },
  {
   "cell_type": "code",
   "execution_count": 9,
   "metadata": {},
   "outputs": [
    {
     "name": "stdout",
     "output_type": "stream",
     "text": [
      "training shape (936, 8) test shape: (402, 8)\n",
      "mse for test:  37250298.43800378\n",
      "mse for train:  36502931.873650074\n"
     ]
    }
   ],
   "source": [
    "target = \"charges\"\n",
    "X = df.drop(columns=[target]) # Features\n",
    "y = df[target] # Label/outcome/target\n",
    "\n",
    "# One hot Encoding - converts the categorical data into numeric\n",
    "X = pd.get_dummies(X, drop_first=True)\n",
    "features = X.columns\n",
    "\n",
    "# X.values returns numpy array for the dataframe\n",
    "# astype converts each feature to floating point number\n",
    "X = X.values.astype(\"float\")\n",
    "\n",
    "# Divide the dataset into training and test\n",
    "# Model is trained on training set \n",
    "# Model is evaluated on the test set\n",
    "# Model has not seen the test data and assuming test records is a good \n",
    "# representation of future, we can get an idea how the model will perform\n",
    "# in production\n",
    "X_train, X_test, y_train, y_test = model_selection.train_test_split(X, y\n",
    "                                , test_size = 0.3, random_state = 1234)\n",
    "\n",
    "print(\"training shape\", X_train.shape, \"test shape:\", X_test.shape)\n",
    "\n",
    "scaler = preprocessing.StandardScaler()\n",
    "scaler.fit(X_train) # calculates x_mean and x_std for each column\n",
    "# computes z score for each column\n",
    "X_train_std = scaler.transform(X_train) \n",
    "# We see that mean for each column is 0 and std = 1 (approax)\n",
    "pd.DataFrame(X_train_std).describe()\n",
    "\n",
    "# Do not call scaler.fit on X_test data because \n",
    "# we want to do the transformation as done on training\n",
    "X_test_std = scaler.transform(X_test)\n",
    "\n",
    "lr = linear_model.LinearRegression()\n",
    "lr.fit(X_train_std, y_train) \n",
    "# training is happening to build the model\n",
    "# Essetially, the coefficients/weights/parameters values are calculated\n",
    "\n",
    "# Doing the prediction\n",
    "y_train_pred = lr.predict(X_train_std)\n",
    "y_test_pred = lr.predict(X_test_std)\n",
    "\n",
    "test_residual = (y_test_pred - y_test) \n",
    "\n",
    "mse_test = np.mean(test_residual ** 2)\n",
    "mse_test\n",
    "\n",
    "\n",
    "print(\"mse for test: \"\n",
    "      , metrics.mean_squared_error(y_test, y_test_pred))\n",
    "print(\"mse for train: \"\n",
    "      , metrics.mean_squared_error(y_train, y_train_pred))"
   ]
  },
  {
   "cell_type": "code",
   "execution_count": 10,
   "metadata": {},
   "outputs": [
    {
     "data": {
      "text/plain": [
       "0.7544299324882598"
      ]
     },
     "execution_count": 10,
     "metadata": {},
     "output_type": "execute_result"
    }
   ],
   "source": [
    "y_baseline = np.mean(y_train)\n",
    "sse = np.sum((y_train_pred - y_train) ** 2)\n",
    "sst = np.sum((y_baseline - y_train) ** 2)\n",
    "sse/sst\n",
    "\n",
    "# this above ratio is always >0 because both numerator \n",
    "# and denominator are positive\n",
    "# Expected value is < 1 because ML model should do \n",
    "# a better job that mere baseline\n",
    "\n",
    "# is it possible to have this value > 1?\n",
    "# if the model is random, then SSE could be greater than SST \n",
    "# what is minimum value for sse/sst? [answer 0, when model is perfect]\n",
    "\n",
    "r2 = 1 - sse/sst\n",
    "# expected value of r2 < 1, closer to 1, better is the model\n",
    "# is r2 is negative, then the model is not useful\n",
    "r2"
   ]
  },
  {
   "cell_type": "code",
   "execution_count": 11,
   "metadata": {},
   "outputs": [
    {
     "data": {
      "text/plain": [
       "0.6995515695067265"
      ]
     },
     "execution_count": 11,
     "metadata": {},
     "output_type": "execute_result"
    }
   ],
   "source": [
    "936/len(X)"
   ]
  },
  {
   "cell_type": "code",
   "execution_count": 12,
   "metadata": {},
   "outputs": [
    {
     "data": {
      "text/plain": [
       "array([4.17022005e-01, 7.20324493e-01, 1.14374817e-04, 3.02332573e-01,\n",
       "       1.46755891e-01])"
      ]
     },
     "execution_count": 12,
     "metadata": {},
     "output_type": "execute_result"
    }
   ],
   "source": [
    "np.random.seed(1)\n",
    "np.random.random(5)"
   ]
  },
  {
   "cell_type": "code",
   "execution_count": 13,
   "metadata": {},
   "outputs": [
    {
     "data": {
      "text/html": [
       "<div>\n",
       "<style scoped>\n",
       "    .dataframe tbody tr th:only-of-type {\n",
       "        vertical-align: middle;\n",
       "    }\n",
       "\n",
       "    .dataframe tbody tr th {\n",
       "        vertical-align: top;\n",
       "    }\n",
       "\n",
       "    .dataframe thead th {\n",
       "        text-align: right;\n",
       "    }\n",
       "</style>\n",
       "<table border=\"1\" class=\"dataframe\">\n",
       "  <thead>\n",
       "    <tr style=\"text-align: right;\">\n",
       "      <th></th>\n",
       "      <th>feature</th>\n",
       "      <th>coefficient</th>\n",
       "    </tr>\n",
       "  </thead>\n",
       "  <tbody>\n",
       "    <tr>\n",
       "      <th>0</th>\n",
       "      <td>age</td>\n",
       "      <td>3487.308811</td>\n",
       "    </tr>\n",
       "    <tr>\n",
       "      <th>1</th>\n",
       "      <td>bmi</td>\n",
       "      <td>1904.491635</td>\n",
       "    </tr>\n",
       "    <tr>\n",
       "      <th>2</th>\n",
       "      <td>children</td>\n",
       "      <td>511.667655</td>\n",
       "    </tr>\n",
       "    <tr>\n",
       "      <th>3</th>\n",
       "      <td>gender_male</td>\n",
       "      <td>-252.292793</td>\n",
       "    </tr>\n",
       "    <tr>\n",
       "      <th>4</th>\n",
       "      <td>smoker_yes</td>\n",
       "      <td>9845.219666</td>\n",
       "    </tr>\n",
       "    <tr>\n",
       "      <th>5</th>\n",
       "      <td>region_northwest</td>\n",
       "      <td>-319.619948</td>\n",
       "    </tr>\n",
       "    <tr>\n",
       "      <th>6</th>\n",
       "      <td>region_southeast</td>\n",
       "      <td>-474.410964</td>\n",
       "    </tr>\n",
       "    <tr>\n",
       "      <th>7</th>\n",
       "      <td>region_southwest</td>\n",
       "      <td>-387.243823</td>\n",
       "    </tr>\n",
       "  </tbody>\n",
       "</table>\n",
       "</div>"
      ],
      "text/plain": [
       "            feature  coefficient\n",
       "0               age  3487.308811\n",
       "1               bmi  1904.491635\n",
       "2          children   511.667655\n",
       "3       gender_male  -252.292793\n",
       "4        smoker_yes  9845.219666\n",
       "5  region_northwest  -319.619948\n",
       "6  region_southeast  -474.410964\n",
       "7  region_southwest  -387.243823"
      ]
     },
     "execution_count": 13,
     "metadata": {},
     "output_type": "execute_result"
    }
   ],
   "source": [
    "pd.DataFrame({\"feature\": features, \"coefficient\": lr.coef_})"
   ]
  },
  {
   "cell_type": "code",
   "execution_count": 14,
   "metadata": {},
   "outputs": [
    {
     "data": {
      "text/plain": [
       "13340.822097947648"
      ]
     },
     "execution_count": 14,
     "metadata": {},
     "output_type": "execute_result"
    }
   ],
   "source": [
    "lr.intercept_"
   ]
  },
  {
   "cell_type": "code",
   "execution_count": 15,
   "metadata": {},
   "outputs": [],
   "source": [
    "from sklearn import pipeline"
   ]
  },
  {
   "cell_type": "code",
   "execution_count": 47,
   "metadata": {},
   "outputs": [
    {
     "name": "stdout",
     "output_type": "stream",
     "text": [
      "mse for test:  0.12108940564106802\n",
      "mse for train:  0.1348105820682567\n",
      "r2 for test:  0.8577207796852981\n",
      "r2 for train:  0.839917679953181\n"
     ]
    }
   ],
   "source": [
    "target = \"charges\"\n",
    "X = df.drop(columns=[target]) # Features\n",
    "X[\"high_bmi\"] = np.where(X.bmi > 30, 1, 0)\n",
    "X[\"age_group\"] = np.where(X.age > 60, \"senior\", \"normal\")\n",
    "\n",
    "y = df[target] # Label/outcome/target\n",
    "\n",
    "# Log transformation to reduce the impact of the outliers on y values\n",
    "y = np.log(y) \n",
    "# One hot Encoding - converts the categorical data into numeric\n",
    "X = pd.get_dummies(X, drop_first=True)\n",
    "features = X.columns\n",
    "\n",
    "# X.values returns numpy array for the dataframe\n",
    "# astype converts each feature to floating point number\n",
    "X = X.values.astype(\"float\")\n",
    "\n",
    "# Divide the dataset into training and test\n",
    "# Model is trained on training set \n",
    "# Model is evaluated on the test set\n",
    "# Model has not seen the test data and assuming test records is a good \n",
    "# representation of future, we can get an idea how the model will perform\n",
    "# in production\n",
    "X_train, X_test, y_train, y_test = model_selection.train_test_split(X, y\n",
    "                                , test_size = 0.3, random_state = 1234)\n",
    "\n",
    "\n",
    "\n",
    "pipe = pipeline.Pipeline([\n",
    "    (\"poly\", preprocessing.PolynomialFeatures(degree=2\n",
    "                                              , include_bias=False)),\n",
    "    (\"scaler\", preprocessing.StandardScaler()),\n",
    "    (\"est\", linear_model.LinearRegression())\n",
    "])\n",
    "\n",
    "\n",
    "pipe.fit(X_train, y_train) \n",
    "# training is happening to build the model\n",
    "# Essetially, the coefficients/weights/parameters values are calculated\n",
    "\n",
    "# Doing the prediction\n",
    "y_train_pred = pipe.predict(X_train)\n",
    "y_test_pred = pipe.predict(X_test)\n",
    "\n",
    "\n",
    "print(\"mse for test: \"\n",
    "      , metrics.mean_squared_error(y_test, y_test_pred))\n",
    "print(\"mse for train: \"\n",
    "      , metrics.mean_squared_error(y_train, y_train_pred))\n",
    "print(\"r2 for test: \"\n",
    "      , metrics.r2_score(y_test, y_test_pred))\n",
    "print(\"r2 for train: \"\n",
    "      , metrics.r2_score(y_train, y_train_pred))"
   ]
  },
  {
   "cell_type": "code",
   "execution_count": 34,
   "metadata": {},
   "outputs": [
    {
     "data": {
      "text/plain": [
       "(array([14.03541605,  5.96571422,  1.2158758 ,  0.49998174,  0.39903524,\n",
       "         0.43051711,  0.44629868,  0.42268284]),\n",
       " array([39.10149573, 30.93820513,  1.10470085,  0.5042735 ,  0.19871795,\n",
       "         0.2457265 ,  0.27457265,  0.23290598]))"
      ]
     },
     "execution_count": 34,
     "metadata": {},
     "output_type": "execute_result"
    }
   ],
   "source": [
    "scaler.scale_, scaler.mean_"
   ]
  },
  {
   "cell_type": "code",
   "execution_count": 31,
   "metadata": {},
   "outputs": [
    {
     "name": "stdout",
     "output_type": "stream",
     "text": [
      "9568\n",
      "9568\n",
      "9568\n",
      "9568\n",
      "9568\n"
     ]
    }
   ],
   "source": [
    "for sheet in sheets:\n",
    "    print(len(sheet))"
   ]
  },
  {
   "cell_type": "code",
   "execution_count": 37,
   "metadata": {},
   "outputs": [
    {
     "data": {
      "text/plain": [
       "array([[ 1.,  1.,  1.,  1.,  1.,  1.,  1.,  1.,  1.],\n",
       "       [-1.,  0.,  1.,  1., -0., -1.,  0.,  0.,  1.],\n",
       "       [ 1.,  2.,  3.,  1.,  2.,  3.,  4.,  6.,  9.],\n",
       "       [ 3.,  2.,  1.,  9.,  6.,  3.,  4.,  2.,  1.]])"
      ]
     },
     "execution_count": 37,
     "metadata": {},
     "output_type": "execute_result"
    }
   ],
   "source": [
    "a = np.array([\n",
    "    [1, 1, 1],\n",
    "    [-1, 0, 1],\n",
    "    [1, 2, 3],\n",
    "    [3, 2, 1]\n",
    "])\n",
    "poly = preprocessing.PolynomialFeatures(degree=2, include_bias=False)\n",
    "poly.fit_transform(a)"
   ]
  },
  {
   "cell_type": "code",
   "execution_count": 39,
   "metadata": {},
   "outputs": [
    {
     "data": {
      "text/plain": [
       "array([-1.80813754e+03, -1.68805345e+03,  1.70196263e+03,  9.68638939e+15,\n",
       "       -2.61493201e+15,  7.49042765e+15,  1.68836035e+16, -1.14797158e+16,\n",
       "       -9.76239836e+15,  1.31156602e+16,  4.07600000e+03,  8.21500000e+02,\n",
       "       -4.85718750e+02, -4.48000000e+02,  4.19000000e+02,  6.36000000e+02,\n",
       "        7.77000000e+02,  1.78200000e+03,  1.32900000e+03, -1.57810000e+04,\n",
       "        3.35000000e+03,  6.58000000e+02, -2.92275000e+03, -3.74562500e+02,\n",
       "        7.39275000e+03, -1.98025000e+03, -7.16512500e+03, -2.18525000e+03,\n",
       "       -2.92650000e+03, -7.67500000e+01, -9.75000000e+01, -1.93000000e+02,\n",
       "       -4.74000000e+02, -3.80500000e+02, -7.47000000e+02, -8.89000000e+02,\n",
       "        3.79500000e+02, -9.68638939e+15,  2.91500000e+02,  4.63375000e+03,\n",
       "        2.17000000e+02,  1.26300000e+03, -8.40000000e+01,  3.65250000e+02,\n",
       "        2.61493201e+15, -6.30000000e+01,  1.70000000e+02,  4.10000000e+02,\n",
       "        4.49500000e+02,  1.41500000e+02, -7.49042765e+15, -3.50000000e+01,\n",
       "       -6.20000000e+01,  1.79000000e+02, -3.22750000e+02, -1.68836035e+16,\n",
       "        0.00000000e+00,  0.00000000e+00, -3.73375000e+02,  1.14797158e+16,\n",
       "        0.00000000e+00, -8.92500000e+01,  9.76239836e+15, -1.02500000e+02,\n",
       "       -1.31156602e+16])"
      ]
     },
     "execution_count": 39,
     "metadata": {},
     "output_type": "execute_result"
    }
   ],
   "source": [
    "est = pipe.steps[-1][-1]\n",
    "est.coef_"
   ]
  },
  {
   "cell_type": "code",
   "execution_count": 49,
   "metadata": {},
   "outputs": [],
   "source": [
    "import matplotlib.pyplot as plt"
   ]
  },
  {
   "cell_type": "code",
   "execution_count": 50,
   "metadata": {},
   "outputs": [
    {
     "data": {
      "image/png": "[encoded data removed]",
      "text/plain": [
       "<Figure size 432x288 with 1 Axes>"
      ]
     },
     "metadata": {
      "needs_background": "light"
     },
     "output_type": "display_data"
    }
   ],
   "source": [
    "plt.hist(y, bins = 30);"
   ]
  },
  {
   "cell_type": "code",
   "execution_count": null,
   "metadata": {},
   "outputs": [],
   "source": []
  }
 ],
 "metadata": {
  "kernelspec": {
   "display_name": "Python 3",
   "language": "python",
   "name": "python3"
  },
  "language_info": {
   "codemirror_mode": {
    "name": "ipython",
    "version": 3
   },
   "file_extension": ".py",
   "mimetype": "text/x-python",
   "name": "python",
   "nbconvert_exporter": "python",
   "pygments_lexer": "ipython3",
   "version": "3.6.6"
  }
 },
 "nbformat": 4,
 "nbformat_minor": 2
}
