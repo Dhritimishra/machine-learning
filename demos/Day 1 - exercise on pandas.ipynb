{
 "cells": [
  {
   "cell_type": "markdown",
   "metadata": {},
   "source": [
    "# Exercise: Top 10 movies\n",
    "\n",
    "Dataset: https://github.com/abulbasar/data/tree/master/movielens\n",
    "\n",
    "1. Load movies.csv as movies dataframe and ratings.csv as ratings dataframe\n",
    "2. How many records are there in movies and ratings dataframe\n",
    "3. Find the movies, for which title contains Godfather? [Hint: use movies.title.str.contains() to find\n",
    "substring in title]\n",
    "4. How many ratings the movie \"Godfather, The (1972)\" has received?[Answer: 200]\n",
    "5. Using ratings dataframe, calculate average rating and number of ratings for each movie. What is the\n",
    "average rating for \"Godfather, The (1972)\" [Answer: 4.487]\n",
    "6. Remove all movie Id that have received fewer than 100 ratings. How many such movies are there?\n",
    "[Answer: 149]\n",
    "7. Sort the data by avg rating and take top 10 records.\n",
    "8. Merge the output with movies dataframe to show title. [Hint: call pd.merge function]"
   ]
  },
  {
   "cell_type": "code",
   "execution_count": null,
   "metadata": {},
   "outputs": [],
   "source": []
  }
 ],
 "metadata": {
  "kernelspec": {
   "display_name": "Python 3",
   "language": "python",
   "name": "python3"
  },
  "language_info": {
   "codemirror_mode": {
    "name": "ipython",
    "version": 3
   },
   "file_extension": ".py",
   "mimetype": "text/x-python",
   "name": "python",
   "nbconvert_exporter": "python",
   "pygments_lexer": "ipython3",
   "version": "3.6.8"
  }
 },
 "nbformat": 4,
 "nbformat_minor": 2
}
