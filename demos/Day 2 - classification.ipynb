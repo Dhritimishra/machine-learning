{
 "cells": [
  {
   "cell_type": "code",
   "execution_count": 14,
   "metadata": {},
   "outputs": [],
   "source": [
    "import pandas as pd\n",
    "from sklearn import *\n",
    "import numpy as np\n",
    "\n",
    "import matplotlib.pyplot as plt\n",
    "\n",
    "%matplotlib inline"
   ]
  },
  {
   "cell_type": "code",
   "execution_count": 2,
   "metadata": {},
   "outputs": [
    {
     "data": {
      "text/html": [
       "<div>\n",
       "<style scoped>\n",
       "    .dataframe tbody tr th:only-of-type {\n",
       "        vertical-align: middle;\n",
       "    }\n",
       "\n",
       "    .dataframe tbody tr th {\n",
       "        vertical-align: top;\n",
       "    }\n",
       "\n",
       "    .dataframe thead th {\n",
       "        text-align: right;\n",
       "    }\n",
       "</style>\n",
       "<table border=\"1\" class=\"dataframe\">\n",
       "  <thead>\n",
       "    <tr style=\"text-align: right;\">\n",
       "      <th></th>\n",
       "      <th>checking_balance</th>\n",
       "      <th>months_loan_duration</th>\n",
       "      <th>credit_history</th>\n",
       "      <th>purpose</th>\n",
       "      <th>amount</th>\n",
       "      <th>savings_balance</th>\n",
       "      <th>employment_length</th>\n",
       "      <th>installment_rate</th>\n",
       "      <th>personal_status</th>\n",
       "      <th>other_debtors</th>\n",
       "      <th>...</th>\n",
       "      <th>property</th>\n",
       "      <th>age</th>\n",
       "      <th>installment_plan</th>\n",
       "      <th>housing</th>\n",
       "      <th>existing_credits</th>\n",
       "      <th>default</th>\n",
       "      <th>dependents</th>\n",
       "      <th>telephone</th>\n",
       "      <th>foreign_worker</th>\n",
       "      <th>job</th>\n",
       "    </tr>\n",
       "  </thead>\n",
       "  <tbody>\n",
       "    <tr>\n",
       "      <th>0</th>\n",
       "      <td>&lt; 0 DM</td>\n",
       "      <td>6</td>\n",
       "      <td>critical</td>\n",
       "      <td>radio/tv</td>\n",
       "      <td>1169</td>\n",
       "      <td>unknown</td>\n",
       "      <td>&gt; 7 yrs</td>\n",
       "      <td>4</td>\n",
       "      <td>single male</td>\n",
       "      <td>none</td>\n",
       "      <td>...</td>\n",
       "      <td>real estate</td>\n",
       "      <td>67</td>\n",
       "      <td>none</td>\n",
       "      <td>own</td>\n",
       "      <td>2</td>\n",
       "      <td>1</td>\n",
       "      <td>1</td>\n",
       "      <td>yes</td>\n",
       "      <td>yes</td>\n",
       "      <td>skilled employee</td>\n",
       "    </tr>\n",
       "    <tr>\n",
       "      <th>1</th>\n",
       "      <td>1 - 200 DM</td>\n",
       "      <td>48</td>\n",
       "      <td>repaid</td>\n",
       "      <td>radio/tv</td>\n",
       "      <td>5951</td>\n",
       "      <td>&lt; 100 DM</td>\n",
       "      <td>1 - 4 yrs</td>\n",
       "      <td>2</td>\n",
       "      <td>female</td>\n",
       "      <td>none</td>\n",
       "      <td>...</td>\n",
       "      <td>real estate</td>\n",
       "      <td>22</td>\n",
       "      <td>none</td>\n",
       "      <td>own</td>\n",
       "      <td>1</td>\n",
       "      <td>2</td>\n",
       "      <td>1</td>\n",
       "      <td>none</td>\n",
       "      <td>yes</td>\n",
       "      <td>skilled employee</td>\n",
       "    </tr>\n",
       "    <tr>\n",
       "      <th>2</th>\n",
       "      <td>unknown</td>\n",
       "      <td>12</td>\n",
       "      <td>critical</td>\n",
       "      <td>education</td>\n",
       "      <td>2096</td>\n",
       "      <td>&lt; 100 DM</td>\n",
       "      <td>4 - 7 yrs</td>\n",
       "      <td>2</td>\n",
       "      <td>single male</td>\n",
       "      <td>none</td>\n",
       "      <td>...</td>\n",
       "      <td>real estate</td>\n",
       "      <td>49</td>\n",
       "      <td>none</td>\n",
       "      <td>own</td>\n",
       "      <td>1</td>\n",
       "      <td>1</td>\n",
       "      <td>2</td>\n",
       "      <td>none</td>\n",
       "      <td>yes</td>\n",
       "      <td>unskilled resident</td>\n",
       "    </tr>\n",
       "    <tr>\n",
       "      <th>3</th>\n",
       "      <td>&lt; 0 DM</td>\n",
       "      <td>42</td>\n",
       "      <td>repaid</td>\n",
       "      <td>furniture</td>\n",
       "      <td>7882</td>\n",
       "      <td>&lt; 100 DM</td>\n",
       "      <td>4 - 7 yrs</td>\n",
       "      <td>2</td>\n",
       "      <td>single male</td>\n",
       "      <td>guarantor</td>\n",
       "      <td>...</td>\n",
       "      <td>building society savings</td>\n",
       "      <td>45</td>\n",
       "      <td>none</td>\n",
       "      <td>for free</td>\n",
       "      <td>1</td>\n",
       "      <td>1</td>\n",
       "      <td>2</td>\n",
       "      <td>none</td>\n",
       "      <td>yes</td>\n",
       "      <td>skilled employee</td>\n",
       "    </tr>\n",
       "    <tr>\n",
       "      <th>4</th>\n",
       "      <td>&lt; 0 DM</td>\n",
       "      <td>24</td>\n",
       "      <td>delayed</td>\n",
       "      <td>car (new)</td>\n",
       "      <td>4870</td>\n",
       "      <td>&lt; 100 DM</td>\n",
       "      <td>1 - 4 yrs</td>\n",
       "      <td>3</td>\n",
       "      <td>single male</td>\n",
       "      <td>none</td>\n",
       "      <td>...</td>\n",
       "      <td>unknown/none</td>\n",
       "      <td>53</td>\n",
       "      <td>none</td>\n",
       "      <td>for free</td>\n",
       "      <td>2</td>\n",
       "      <td>2</td>\n",
       "      <td>2</td>\n",
       "      <td>none</td>\n",
       "      <td>yes</td>\n",
       "      <td>skilled employee</td>\n",
       "    </tr>\n",
       "  </tbody>\n",
       "</table>\n",
       "<p>5 rows × 21 columns</p>\n",
       "</div>"
      ],
      "text/plain": [
       "  checking_balance  months_loan_duration credit_history    purpose  amount  \\\n",
       "0           < 0 DM                     6       critical   radio/tv    1169   \n",
       "1       1 - 200 DM                    48         repaid   radio/tv    5951   \n",
       "2          unknown                    12       critical  education    2096   \n",
       "3           < 0 DM                    42         repaid  furniture    7882   \n",
       "4           < 0 DM                    24        delayed  car (new)    4870   \n",
       "\n",
       "  savings_balance employment_length  installment_rate personal_status  \\\n",
       "0         unknown           > 7 yrs                 4     single male   \n",
       "1        < 100 DM         1 - 4 yrs                 2          female   \n",
       "2        < 100 DM         4 - 7 yrs                 2     single male   \n",
       "3        < 100 DM         4 - 7 yrs                 2     single male   \n",
       "4        < 100 DM         1 - 4 yrs                 3     single male   \n",
       "\n",
       "  other_debtors         ...                          property age  \\\n",
       "0          none         ...                       real estate  67   \n",
       "1          none         ...                       real estate  22   \n",
       "2          none         ...                       real estate  49   \n",
       "3     guarantor         ...          building society savings  45   \n",
       "4          none         ...                      unknown/none  53   \n",
       "\n",
       "   installment_plan   housing existing_credits  default  dependents  \\\n",
       "0              none       own                2        1           1   \n",
       "1              none       own                1        2           1   \n",
       "2              none       own                1        1           2   \n",
       "3              none  for free                1        1           2   \n",
       "4              none  for free                2        2           2   \n",
       "\n",
       "   telephone foreign_worker                 job  \n",
       "0        yes            yes    skilled employee  \n",
       "1       none            yes    skilled employee  \n",
       "2       none            yes  unskilled resident  \n",
       "3       none            yes    skilled employee  \n",
       "4       none            yes    skilled employee  \n",
       "\n",
       "[5 rows x 21 columns]"
      ]
     },
     "execution_count": 2,
     "metadata": {},
     "output_type": "execute_result"
    }
   ],
   "source": [
    "df = pd.read_csv(\"/data/credit-default.csv\")\n",
    "df.head()"
   ]
  },
  {
   "cell_type": "code",
   "execution_count": 3,
   "metadata": {},
   "outputs": [
    {
     "name": "stdout",
     "output_type": "stream",
     "text": [
      "<class 'pandas.core.frame.DataFrame'>\n",
      "RangeIndex: 1000 entries, 0 to 999\n",
      "Data columns (total 21 columns):\n",
      "checking_balance        1000 non-null object\n",
      "months_loan_duration    1000 non-null int64\n",
      "credit_history          1000 non-null object\n",
      "purpose                 1000 non-null object\n",
      "amount                  1000 non-null int64\n",
      "savings_balance         1000 non-null object\n",
      "employment_length       1000 non-null object\n",
      "installment_rate        1000 non-null int64\n",
      "personal_status         1000 non-null object\n",
      "other_debtors           1000 non-null object\n",
      "residence_history       1000 non-null int64\n",
      "property                1000 non-null object\n",
      "age                     1000 non-null int64\n",
      "installment_plan        1000 non-null object\n",
      "housing                 1000 non-null object\n",
      "existing_credits        1000 non-null int64\n",
      "default                 1000 non-null int64\n",
      "dependents              1000 non-null int64\n",
      "telephone               1000 non-null object\n",
      "foreign_worker          1000 non-null object\n",
      "job                     1000 non-null object\n",
      "dtypes: int64(8), object(13)\n",
      "memory usage: 164.1+ KB\n"
     ]
    }
   ],
   "source": [
    "df.info()"
   ]
  },
  {
   "cell_type": "code",
   "execution_count": 4,
   "metadata": {},
   "outputs": [
    {
     "data": {
      "text/plain": [
       "1    700\n",
       "2    300\n",
       "Name: default, dtype: int64"
      ]
     },
     "execution_count": 4,
     "metadata": {},
     "output_type": "execute_result"
    }
   ],
   "source": [
    "df.default.value_counts()"
   ]
  },
  {
   "cell_type": "code",
   "execution_count": 5,
   "metadata": {},
   "outputs": [
    {
     "name": "stdout",
     "output_type": "stream",
     "text": [
      "training accuracy: 0.7957142857142857\n",
      "test accuracy: 0.7566666666666667\n",
      "[[188  26]\n",
      " [ 47  39]]\n"
     ]
    }
   ],
   "source": [
    "target = \"default\"\n",
    "X = df.drop(columns=[target]) # Features\n",
    "\n",
    "label_encoder = preprocessing.LabelEncoder()\n",
    "y = label_encoder.fit_transform(df[target]) # Label/outcome/target\n",
    "\n",
    "\n",
    "# One hot Encoding - converts the categorical data into numeric\n",
    "X = pd.get_dummies(X, drop_first=True)\n",
    "features = X.columns\n",
    "\n",
    "# X.values returns numpy array for the dataframe\n",
    "# astype converts each feature to floating point number\n",
    "X = X.values.astype(\"float\")\n",
    "\n",
    "# Divide the dataset into training and test\n",
    "# Model is trained on training set \n",
    "# Model is evaluated on the test set\n",
    "# Model has not seen the test data and assuming test records is a good \n",
    "# representation of future, we can get an idea how the model will perform\n",
    "# in production\n",
    "X_train, X_test, y_train, y_test = model_selection.train_test_split(X, y\n",
    "                                , test_size = 0.3, random_state = 1)\n",
    "\n",
    "\n",
    "\n",
    "pipe = pipeline.Pipeline([\n",
    "    #(\"poly\", preprocessing.PolynomialFeatures(degree=2\n",
    "    #                                          , include_bias=False)),\n",
    "    (\"scaler\", preprocessing.StandardScaler()),\n",
    "    (\"est\", linear_model.LogisticRegression(solver=\"liblinear\"))\n",
    "])\n",
    "\n",
    "\n",
    "pipe.fit(X_train, y_train) \n",
    "# training is happening to build the model\n",
    "# Essetially, the coefficients/weights/parameters values are calculated\n",
    "\n",
    "# Doing the prediction\n",
    "y_train_pred = pipe.predict(X_train)\n",
    "y_test_pred = pipe.predict(X_test)\n",
    "\n",
    "\n",
    "print(\"training accuracy:\"\n",
    "      , metrics.accuracy_score(y_train, y_train_pred))\n",
    "\n",
    "print(\"test accuracy:\"\n",
    "      , metrics.accuracy_score(y_test, y_test_pred))\n",
    "\n",
    "print(metrics.confusion_matrix(y_test, y_test_pred))"
   ]
  },
  {
   "cell_type": "code",
   "execution_count": 8,
   "metadata": {},
   "outputs": [
    {
     "name": "stdout",
     "output_type": "stream",
     "text": [
      "[[188  26]\n",
      " [ 47  39]]\n",
      "accuracy 0.7566666666666667\n"
     ]
    }
   ],
   "source": [
    "y_test_prob = pipe.predict_proba(X_test)[:, 1]\n",
    "y_test_pred = np.where(y_test_prob > 0.5, 1, 0)\n",
    "print(metrics.confusion_matrix(y_test, y_test_pred))\n",
    "print(\"accuracy\", metrics.accuracy_score(y_test, y_test_pred))"
   ]
  },
  {
   "cell_type": "code",
   "execution_count": 9,
   "metadata": {},
   "outputs": [
    {
     "name": "stdout",
     "output_type": "stream",
     "text": [
      "[[209   5]\n",
      " [ 71  15]]\n",
      "accuracy 0.7466666666666667\n"
     ]
    }
   ],
   "source": [
    "y_test_prob = pipe.predict_proba(X_test)[:, 1]\n",
    "y_test_pred = np.where(y_test_prob > 0.8, 1, 0)\n",
    "print(metrics.confusion_matrix(y_test, y_test_pred))\n",
    "print(\"accuracy\", metrics.accuracy_score(y_test, y_test_pred))"
   ]
  },
  {
   "cell_type": "code",
   "execution_count": 10,
   "metadata": {},
   "outputs": [],
   "source": [
    "fpr, tpr, thresholds = metrics.roc_curve(y_test, y_test_prob)"
   ]
  },
  {
   "cell_type": "code",
   "execution_count": 11,
   "metadata": {},
   "outputs": [
    {
     "data": {
      "text/plain": [
       "(array([0.        , 0.        , 0.01401869, 0.01401869, 0.02336449,\n",
       "        0.02336449, 0.03738318, 0.03738318, 0.04672897, 0.04672897,\n",
       "        0.05140187, 0.05140187, 0.06542056, 0.06542056, 0.07009346,\n",
       "        0.07009346, 0.07943925, 0.07943925, 0.09345794, 0.09345794,\n",
       "        0.09813084, 0.09813084, 0.11214953, 0.11214953, 0.12149533,\n",
       "        0.12149533, 0.13084112, 0.13084112, 0.14018692, 0.14018692,\n",
       "        0.14485981, 0.14485981, 0.1635514 , 0.1635514 , 0.1728972 ,\n",
       "        0.1728972 , 0.19158879, 0.19158879, 0.19626168, 0.19626168,\n",
       "        0.20560748, 0.20560748, 0.22429907, 0.22429907, 0.22897196,\n",
       "        0.22897196, 0.26168224, 0.26168224, 0.29906542, 0.29906542,\n",
       "        0.30373832, 0.30373832, 0.31775701, 0.31775701, 0.3271028 ,\n",
       "        0.3271028 , 0.34579439, 0.34579439, 0.37383178, 0.37383178,\n",
       "        0.42990654, 0.42990654, 0.44392523, 0.44392523, 0.45794393,\n",
       "        0.45794393, 0.46728972, 0.46728972, 0.47196262, 0.47196262,\n",
       "        0.51401869, 0.51401869, 0.55607477, 0.55607477, 0.60280374,\n",
       "        0.60280374, 0.61214953, 0.61214953, 0.61682243, 0.61682243,\n",
       "        0.64485981, 0.64485981, 0.64953271, 0.64953271, 0.68691589,\n",
       "        0.68691589, 0.69158879, 0.69158879, 0.70560748, 0.70560748,\n",
       "        0.71495327, 0.71495327, 0.71962617, 0.71962617, 0.78504673,\n",
       "        0.78504673, 0.88317757, 0.88317757, 1.        ]),\n",
       " array([0.        , 0.01162791, 0.01162791, 0.1744186 , 0.1744186 ,\n",
       "        0.19767442, 0.19767442, 0.20930233, 0.20930233, 0.22093023,\n",
       "        0.22093023, 0.26744186, 0.26744186, 0.34883721, 0.34883721,\n",
       "        0.37209302, 0.37209302, 0.38372093, 0.38372093, 0.40697674,\n",
       "        0.40697674, 0.41860465, 0.41860465, 0.43023256, 0.43023256,\n",
       "        0.46511628, 0.46511628, 0.47674419, 0.47674419, 0.5       ,\n",
       "        0.5       , 0.51162791, 0.51162791, 0.54651163, 0.54651163,\n",
       "        0.55813953, 0.55813953, 0.56976744, 0.56976744, 0.58139535,\n",
       "        0.58139535, 0.60465116, 0.60465116, 0.61627907, 0.61627907,\n",
       "        0.63953488, 0.63953488, 0.65116279, 0.65116279, 0.6627907 ,\n",
       "        0.6627907 , 0.69767442, 0.69767442, 0.70930233, 0.70930233,\n",
       "        0.72093023, 0.72093023, 0.74418605, 0.74418605, 0.75581395,\n",
       "        0.75581395, 0.76744186, 0.76744186, 0.77906977, 0.77906977,\n",
       "        0.79069767, 0.79069767, 0.80232558, 0.80232558, 0.81395349,\n",
       "        0.81395349, 0.8255814 , 0.8255814 , 0.8372093 , 0.8372093 ,\n",
       "        0.84883721, 0.84883721, 0.86046512, 0.86046512, 0.88372093,\n",
       "        0.88372093, 0.90697674, 0.90697674, 0.91860465, 0.91860465,\n",
       "        0.93023256, 0.93023256, 0.94186047, 0.94186047, 0.95348837,\n",
       "        0.95348837, 0.96511628, 0.96511628, 0.97674419, 0.97674419,\n",
       "        0.98837209, 0.98837209, 1.        , 1.        ]),\n",
       " array([1.9616976 , 0.9616976 , 0.93058838, 0.82216781, 0.80563204,\n",
       "        0.76442015, 0.74241774, 0.72812424, 0.7176307 , 0.70708305,\n",
       "        0.69955464, 0.65672602, 0.63634499, 0.61387941, 0.61132999,\n",
       "        0.59676824, 0.59138439, 0.58814834, 0.57313522, 0.56258666,\n",
       "        0.55082432, 0.54196139, 0.53606997, 0.53100119, 0.52003891,\n",
       "        0.4961519 , 0.47922995, 0.47679425, 0.47394598, 0.46153615,\n",
       "        0.45735348, 0.45310754, 0.4494791 , 0.42511122, 0.4207515 ,\n",
       "        0.41343355, 0.40005052, 0.39057174, 0.3893172 , 0.38435142,\n",
       "        0.38063661, 0.37226814, 0.3687219 , 0.3678598 , 0.36711358,\n",
       "        0.3578911 , 0.30430631, 0.29070134, 0.26648972, 0.26165127,\n",
       "        0.2594988 , 0.24932876, 0.24618256, 0.24429824, 0.24340843,\n",
       "        0.24083814, 0.23393068, 0.22723868, 0.21773117, 0.21386134,\n",
       "        0.17820608, 0.17774929, 0.17218122, 0.1706881 , 0.16308025,\n",
       "        0.160898  , 0.15458662, 0.14556237, 0.1454495 , 0.14343726,\n",
       "        0.1303132 , 0.12880782, 0.11547241, 0.11424844, 0.1061732 ,\n",
       "        0.10359019, 0.10011397, 0.09996288, 0.09697998, 0.09637669,\n",
       "        0.08969088, 0.08929871, 0.08923811, 0.08827954, 0.08335264,\n",
       "        0.08289624, 0.08284084, 0.0819819 , 0.07294042, 0.07232152,\n",
       "        0.06989613, 0.06659981, 0.06516121, 0.0646378 , 0.05000008,\n",
       "        0.04930928, 0.02463326, 0.02445889, 0.00245234]))"
      ]
     },
     "execution_count": 11,
     "metadata": {},
     "output_type": "execute_result"
    }
   ],
   "source": [
    "fpr, tpr, thresholds"
   ]
  },
  {
   "cell_type": "code",
   "execution_count": 13,
   "metadata": {},
   "outputs": [],
   "source": [
    "import matplotlib.pyplot as plt\n",
    "\n",
    "%matplotlib inline"
   ]
  },
  {
   "cell_type": "code",
   "execution_count": 16,
   "metadata": {},
   "outputs": [
    {
     "data": {
      "text/plain": [
       "Text(0.5, 1.0, 'ROC, auc: 0.758476418169963')"
      ]
     },
     "execution_count": 16,
     "metadata": {},
     "output_type": "execute_result"
    },
    {
     "data": {
      "image/png": "[encoded data removed]",
      "text/plain": [
       "<Figure size 432x288 with 1 Axes>"
      ]
     },
     "metadata": {
      "needs_background": "light"
     },
     "output_type": "display_data"
    }
   ],
   "source": [
    "auc = metrics.auc(fpr, tpr)\n",
    "plt.plot(fpr, tpr)\n",
    "plt.xlabel(\"FPR\")\n",
    "plt.ylabel(\"TPR\")\n",
    "plt.title(\"ROC, auc: \" + str(auc))"
   ]
  },
  {
   "cell_type": "code",
   "execution_count": null,
   "metadata": {},
   "outputs": [],
   "source": []
  }
 ],
 "metadata": {
  "kernelspec": {
   "display_name": "Python 3",
   "language": "python",
   "name": "python3"
  },
  "language_info": {
   "codemirror_mode": {
    "name": "ipython",
    "version": 3
   },
   "file_extension": ".py",
   "mimetype": "text/x-python",
   "name": "python",
   "nbconvert_exporter": "python",
   "pygments_lexer": "ipython3",
   "version": "3.6.6"
  }
 },
 "nbformat": 4,
 "nbformat_minor": 2
}
