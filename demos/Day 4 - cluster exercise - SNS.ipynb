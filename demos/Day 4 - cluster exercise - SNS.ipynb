{
 "cells": [
  {
   "cell_type": "markdown",
   "metadata": {},
   "source": [
    "# Exercise\n",
    "\n",
    "Dataset: Social media data - https://github.com/abulbasar/data/blob/master/snsdata.csv?raw=true\n",
    "        \n",
    "- Use 36 features - \"basketball\", \"football\" … \"drunk\", \"drugs\" (these columns indicate how many times a user has used these words in her profile) and apply K-Means clustering to group the profiles into 5 clusters\n",
    "- Find the number of users in each cluster and mean distance with each cluster.\n",
    "- Which cluster is the most dense in terms of average distance.\n",
    "- How many anomalies are there?\n",
    "- For each cluster, find the top 3 dominant features.\n"
   ]
  },
  {
   "cell_type": "code",
   "execution_count": null,
   "metadata": {},
   "outputs": [],
   "source": []
  }
 ],
 "metadata": {
  "kernelspec": {
   "display_name": "Python 3",
   "language": "python",
   "name": "python3"
  },
  "language_info": {
   "codemirror_mode": {
    "name": "ipython",
    "version": 3
   },
   "file_extension": ".py",
   "mimetype": "text/x-python",
   "name": "python",
   "nbconvert_exporter": "python",
   "pygments_lexer": "ipython3",
   "version": "3.6.8"
  }
 },
 "nbformat": 4,
 "nbformat_minor": 2
}
