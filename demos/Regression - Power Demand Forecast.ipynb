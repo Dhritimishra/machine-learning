{
 "cells": [
  {
   "cell_type": "code",
   "execution_count": 19,
   "metadata": {},
   "outputs": [],
   "source": [
    "import pandas as pd\n",
    "from sklearn import *\n",
    "import numpy as np\n",
    "import matplotlib.pyplot as plt\n",
    "\n",
    "%matplotlib inline"
   ]
  },
  {
   "cell_type": "code",
   "execution_count": 13,
   "metadata": {},
   "outputs": [
    {
     "data": {
      "text/html": [
       "<div>\n",
       "<style scoped>\n",
       "    .dataframe tbody tr th:only-of-type {\n",
       "        vertical-align: middle;\n",
       "    }\n",
       "\n",
       "    .dataframe tbody tr th {\n",
       "        vertical-align: top;\n",
       "    }\n",
       "\n",
       "    .dataframe thead th {\n",
       "        text-align: right;\n",
       "    }\n",
       "</style>\n",
       "<table border=\"1\" class=\"dataframe\">\n",
       "  <thead>\n",
       "    <tr style=\"text-align: right;\">\n",
       "      <th></th>\n",
       "      <th>AT</th>\n",
       "      <th>V</th>\n",
       "      <th>AP</th>\n",
       "      <th>RH</th>\n",
       "      <th>PE</th>\n",
       "    </tr>\n",
       "  </thead>\n",
       "  <tbody>\n",
       "    <tr>\n",
       "      <th>0</th>\n",
       "      <td>14.96</td>\n",
       "      <td>41.76</td>\n",
       "      <td>1024.07</td>\n",
       "      <td>73.17</td>\n",
       "      <td>463.26</td>\n",
       "    </tr>\n",
       "    <tr>\n",
       "      <th>1</th>\n",
       "      <td>25.18</td>\n",
       "      <td>62.96</td>\n",
       "      <td>1020.04</td>\n",
       "      <td>59.08</td>\n",
       "      <td>444.37</td>\n",
       "    </tr>\n",
       "    <tr>\n",
       "      <th>2</th>\n",
       "      <td>5.11</td>\n",
       "      <td>39.40</td>\n",
       "      <td>1012.16</td>\n",
       "      <td>92.14</td>\n",
       "      <td>488.56</td>\n",
       "    </tr>\n",
       "    <tr>\n",
       "      <th>3</th>\n",
       "      <td>20.86</td>\n",
       "      <td>57.32</td>\n",
       "      <td>1010.24</td>\n",
       "      <td>76.64</td>\n",
       "      <td>446.48</td>\n",
       "    </tr>\n",
       "    <tr>\n",
       "      <th>4</th>\n",
       "      <td>10.82</td>\n",
       "      <td>37.50</td>\n",
       "      <td>1009.23</td>\n",
       "      <td>96.62</td>\n",
       "      <td>473.90</td>\n",
       "    </tr>\n",
       "  </tbody>\n",
       "</table>\n",
       "</div>"
      ],
      "text/plain": [
       "      AT      V       AP     RH      PE\n",
       "0  14.96  41.76  1024.07  73.17  463.26\n",
       "1  25.18  62.96  1020.04  59.08  444.37\n",
       "2   5.11  39.40  1012.16  92.14  488.56\n",
       "3  20.86  57.32  1010.24  76.64  446.48\n",
       "4  10.82  37.50  1009.23  96.62  473.90"
      ]
     },
     "execution_count": 13,
     "metadata": {},
     "output_type": "execute_result"
    }
   ],
   "source": [
    "sheets = pd.read_excel(\"/Users/abasar/Downloads/CCPP/Folds5x2_pp.xlsx\"\n",
    "              , sheet_name=[0, 1, 2, 3, 4]).values()\n",
    "df = pd.concat(sheets)\n",
    "df.head()"
   ]
  },
  {
   "cell_type": "code",
   "execution_count": 16,
   "metadata": {},
   "outputs": [
    {
     "name": "stdout",
     "output_type": "stream",
     "text": [
      "rmse for test:  4.5690823234830775\n",
      "rmse for train:  4.552038643335909\n",
      "r2 for test:  0.9284503317586209\n",
      "r2 for train:  0.928796240630408\n"
     ]
    }
   ],
   "source": [
    "target = \"PE\"\n",
    "X = df.drop(columns=[target]) # Features\n",
    "y = df[target] # Label/outcome/target\n",
    "\n",
    "# One hot Encoding - converts the categorical data into numeric\n",
    "X = pd.get_dummies(X, drop_first=True)\n",
    "features = X.columns\n",
    "\n",
    "# X.values returns numpy array for the dataframe\n",
    "# astype converts each feature to floating point number\n",
    "X = X.values.astype(\"float\")\n",
    "\n",
    "# Divide the dataset into training and test\n",
    "# Model is trained on training set \n",
    "# Model is evaluated on the test set\n",
    "# Model has not seen the test data and assuming test records is a good \n",
    "# representation of future, we can get an idea how the model will perform\n",
    "# in production\n",
    "X_train, X_test, y_train, y_test = model_selection.train_test_split(X, y\n",
    "                                , test_size = 0.3, random_state = 1)\n",
    "\n",
    "\n",
    "\n",
    "pipe = pipeline.Pipeline([\n",
    "    (\"scaler\", preprocessing.StandardScaler()),\n",
    "    (\"est\", linear_model.LinearRegression())\n",
    "])\n",
    "\n",
    "\n",
    "pipe.fit(X_train, y_train) \n",
    "# training is happening to build the model\n",
    "# Essetially, the coefficients/weights/parameters values are calculated\n",
    "\n",
    "# Doing the prediction\n",
    "y_train_pred = pipe.predict(X_train)\n",
    "y_test_pred = pipe.predict(X_test)\n",
    "\n",
    "print(\"rmse for test: \"\n",
    "      , np.sqrt(metrics.mean_squared_error(y_test, y_test_pred)))\n",
    "print(\"rmse for train: \"\n",
    "      , np.sqrt(metrics.mean_squared_error(y_train, y_train_pred)))\n",
    "print(\"r2 for test: \"\n",
    "      , metrics.r2_score(y_test, y_test_pred))\n",
    "print(\"r2 for train: \"\n",
    "      , metrics.r2_score(y_train, y_train_pred))"
   ]
  },
  {
   "cell_type": "code",
   "execution_count": 21,
   "metadata": {},
   "outputs": [
    {
     "data": {
      "image/png": "[encoded data removed]",
      "text/plain": [
       "<Figure size 432x288 with 1 Axes>"
      ]
     },
     "metadata": {
      "needs_background": "light"
     },
     "output_type": "display_data"
    }
   ],
   "source": [
    "residuals_test = y_test_pred - y_test\n",
    "plt.hist(residuals_test, bins = 30);"
   ]
  },
  {
   "cell_type": "code",
   "execution_count": 24,
   "metadata": {},
   "outputs": [
    {
     "data": {
      "text/plain": [
       "Text(0, 0.5, 'residual')"
      ]
     },
     "execution_count": 24,
     "metadata": {},
     "output_type": "execute_result"
    },
    {
     "data": {
      "image/png": "[encoded data removed]",
      "text/plain": [
       "<Figure size 720x360 with 1 Axes>"
      ]
     },
     "metadata": {
      "needs_background": "light"
     },
     "output_type": "display_data"
    }
   ],
   "source": [
    "plt.figure(figsize=(10, 5))\n",
    "plt.scatter(y_test, residuals_test)\n",
    "plt.xlabel(\"label\")\n",
    "plt.ylabel(\"residual\")"
   ]
  },
  {
   "cell_type": "code",
   "execution_count": 30,
   "metadata": {},
   "outputs": [
    {
     "data": {
      "text/html": [
       "<div>\n",
       "<style scoped>\n",
       "    .dataframe tbody tr th:only-of-type {\n",
       "        vertical-align: middle;\n",
       "    }\n",
       "\n",
       "    .dataframe tbody tr th {\n",
       "        vertical-align: top;\n",
       "    }\n",
       "\n",
       "    .dataframe thead th {\n",
       "        text-align: right;\n",
       "    }\n",
       "</style>\n",
       "<table border=\"1\" class=\"dataframe\">\n",
       "  <thead>\n",
       "    <tr style=\"text-align: right;\">\n",
       "      <th></th>\n",
       "      <th>feature</th>\n",
       "      <th>coefficient</th>\n",
       "    </tr>\n",
       "  </thead>\n",
       "  <tbody>\n",
       "    <tr>\n",
       "      <th>0</th>\n",
       "      <td>AT</td>\n",
       "      <td>-14.735987</td>\n",
       "    </tr>\n",
       "    <tr>\n",
       "      <th>1</th>\n",
       "      <td>V</td>\n",
       "      <td>-2.963096</td>\n",
       "    </tr>\n",
       "    <tr>\n",
       "      <th>2</th>\n",
       "      <td>AP</td>\n",
       "      <td>0.383009</td>\n",
       "    </tr>\n",
       "    <tr>\n",
       "      <th>3</th>\n",
       "      <td>RH</td>\n",
       "      <td>-2.308446</td>\n",
       "    </tr>\n",
       "  </tbody>\n",
       "</table>\n",
       "</div>"
      ],
      "text/plain": [
       "  feature  coefficient\n",
       "0      AT   -14.735987\n",
       "1       V    -2.963096\n",
       "2      AP     0.383009\n",
       "3      RH    -2.308446"
      ]
     },
     "execution_count": 30,
     "metadata": {},
     "output_type": "execute_result"
    }
   ],
   "source": [
    "est = pipe.steps[-1][-1]\n",
    "pd.DataFrame({\"feature\": features, \"coefficient\": est.coef_})"
   ]
  },
  {
   "cell_type": "code",
   "execution_count": 31,
   "metadata": {},
   "outputs": [
    {
     "name": "stdout",
     "output_type": "stream",
     "text": [
      "rmse for test:  0.009399971258663405\n",
      "rmse for train:  0.009366727360638764\n",
      "r2 for test:  0.9369182172745872\n",
      "r2 for train:  0.9371560210167448\n"
     ]
    }
   ],
   "source": [
    "target = \"PE\"\n",
    "X = df.drop(columns=[target]) # Features\n",
    "y = df[target] # Label/outcome/target\n",
    "y = np.log(y)\n",
    "\n",
    "# One hot Encoding - converts the categorical data into numeric\n",
    "X = pd.get_dummies(X, drop_first=True)\n",
    "features = X.columns\n",
    "\n",
    "# X.values returns numpy array for the dataframe\n",
    "# astype converts each feature to floating point number\n",
    "X = X.values.astype(\"float\")\n",
    "\n",
    "# Divide the dataset into training and test\n",
    "# Model is trained on training set \n",
    "# Model is evaluated on the test set\n",
    "# Model has not seen the test data and assuming test records is a good \n",
    "# representation of future, we can get an idea how the model will perform\n",
    "# in production\n",
    "X_train, X_test, y_train, y_test = model_selection.train_test_split(X, y\n",
    "                                , test_size = 0.3, random_state = 1)\n",
    "\n",
    "\n",
    "\n",
    "pipe = pipeline.Pipeline([\n",
    "    (\"poly\", preprocessing.PolynomialFeatures(degree=2, include_bias=False)),\n",
    "    (\"scaler\", preprocessing.StandardScaler()),\n",
    "    (\"est\", linear_model.LinearRegression())\n",
    "])\n",
    "\n",
    "\n",
    "pipe.fit(X_train, y_train) \n",
    "# training is happening to build the model\n",
    "# Essetially, the coefficients/weights/parameters values are calculated\n",
    "\n",
    "# Doing the prediction\n",
    "y_train_pred = pipe.predict(X_train)\n",
    "y_test_pred = pipe.predict(X_test)\n",
    "\n",
    "print(\"rmse for test: \"\n",
    "      , np.sqrt(metrics.mean_squared_error(y_test, y_test_pred)))\n",
    "print(\"rmse for train: \"\n",
    "      , np.sqrt(metrics.mean_squared_error(y_train, y_train_pred)))\n",
    "print(\"r2 for test: \"\n",
    "      , metrics.r2_score(y_test, y_test_pred))\n",
    "print(\"r2 for train: \"\n",
    "      , metrics.r2_score(y_train, y_train_pred))"
   ]
  },
  {
   "cell_type": "code",
   "execution_count": 33,
   "metadata": {},
   "outputs": [
    {
     "data": {
      "image/png": "[encoded data removed]",
      "text/plain": [
       "<Figure size 432x288 with 1 Axes>"
      ]
     },
     "metadata": {
      "needs_background": "light"
     },
     "output_type": "display_data"
    }
   ],
   "source": [
    "residuals_test = y_test_pred - y_test\n",
    "plt.hist(residuals_test, bins = 50);"
   ]
  },
  {
   "cell_type": "code",
   "execution_count": 34,
   "metadata": {},
   "outputs": [
    {
     "data": {
      "text/plain": [
       "Text(0, 0.5, 'residual')"
      ]
     },
     "execution_count": 34,
     "metadata": {},
     "output_type": "execute_result"
    },
    {
     "data": {
      "image/png": "[encoded data removed]",
      "text/plain": [
       "<Figure size 720x360 with 1 Axes>"
      ]
     },
     "metadata": {
      "needs_background": "light"
     },
     "output_type": "display_data"
    }
   ],
   "source": [
    "plt.figure(figsize=(10, 5))\n",
    "plt.scatter(y_test, residuals_test)\n",
    "plt.xlabel(\"label\")\n",
    "plt.ylabel(\"residual\")"
   ]
  },
  {
   "cell_type": "code",
   "execution_count": null,
   "metadata": {},
   "outputs": [],
   "source": [
    "linear_model.SGDRegressor()"
   ]
  }
 ],
 "metadata": {
  "kernelspec": {
   "display_name": "Python 3",
   "language": "python",
   "name": "python3"
  },
  "language_info": {
   "codemirror_mode": {
    "name": "ipython",
    "version": 3
   },
   "file_extension": ".py",
   "mimetype": "text/x-python",
   "name": "python",
   "nbconvert_exporter": "python",
   "pygments_lexer": "ipython3",
   "version": "3.6.6"
  }
 },
 "nbformat": 4,
 "nbformat_minor": 2
}
