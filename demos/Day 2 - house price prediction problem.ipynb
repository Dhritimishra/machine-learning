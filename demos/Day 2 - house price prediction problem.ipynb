{
 "cells": [
  {
   "cell_type": "markdown",
   "metadata": {},
   "source": [
    "Problem stament\n",
    "https://www.kaggle.com/c/house-prices-advanced-regression-techniques/data\n",
    "\n",
    "\n",
    "- Find the original problem description in kaggle here. SalePrice is the outcome variable. Use a clean version of the data that is treated for null values.\n",
    "-Find number of categorical and continuous variables\n",
    "- Some observations contain null values in SalesPrice. Drop those records from the analysis \n",
    "- Divide the data into training and test data 70/30 ratio with seed =1\n",
    "- Build a model to estimate SalePrice excluding Id as feature. Calculate R2 and RMSE - Linear regression, Lasso, Ridge, Elastic net\n",
    "- Take log of the sales price, does the R2 score improves?\n",
    "- Try model with polynomial terms with degree = 2\n",
    "- Try PCA - what is required number of principal components to retain 99% of variance?\n",
    "- Try Feature selection - find 10 most significant features of the dataset. \n"
   ]
  },
  {
   "cell_type": "code",
   "execution_count": null,
   "metadata": {},
   "outputs": [],
   "source": []
  }
 ],
 "metadata": {
  "kernelspec": {
   "display_name": "Python 3",
   "language": "python",
   "name": "python3"
  },
  "language_info": {
   "codemirror_mode": {
    "name": "ipython",
    "version": 3
   },
   "file_extension": ".py",
   "mimetype": "text/x-python",
   "name": "python",
   "nbconvert_exporter": "python",
   "pygments_lexer": "ipython3",
   "version": "3.6.7"
  }
 },
 "nbformat": 4,
 "nbformat_minor": 2
}
