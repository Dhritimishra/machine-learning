{
 "cells": [
  {
   "cell_type": "code",
   "execution_count": 1,
   "metadata": {},
   "outputs": [],
   "source": [
    "import pandas as pd"
   ]
  },
  {
   "cell_type": "code",
   "execution_count": 2,
   "metadata": {},
   "outputs": [
    {
     "data": {
      "text/html": [
       "<div>\n",
       "<style scoped>\n",
       "    .dataframe tbody tr th:only-of-type {\n",
       "        vertical-align: middle;\n",
       "    }\n",
       "\n",
       "    .dataframe tbody tr th {\n",
       "        vertical-align: top;\n",
       "    }\n",
       "\n",
       "    .dataframe thead th {\n",
       "        text-align: right;\n",
       "    }\n",
       "</style>\n",
       "<table border=\"1\" class=\"dataframe\">\n",
       "  <thead>\n",
       "    <tr style=\"text-align: right;\">\n",
       "      <th></th>\n",
       "      <th>age</th>\n",
       "      <th>gender</th>\n",
       "      <th>bmi</th>\n",
       "      <th>children</th>\n",
       "      <th>smoker</th>\n",
       "      <th>region</th>\n",
       "      <th>charges</th>\n",
       "    </tr>\n",
       "  </thead>\n",
       "  <tbody>\n",
       "    <tr>\n",
       "      <th>0</th>\n",
       "      <td>19</td>\n",
       "      <td>female</td>\n",
       "      <td>27.900</td>\n",
       "      <td>0</td>\n",
       "      <td>yes</td>\n",
       "      <td>southwest</td>\n",
       "      <td>16884.92400</td>\n",
       "    </tr>\n",
       "    <tr>\n",
       "      <th>1</th>\n",
       "      <td>18</td>\n",
       "      <td>male</td>\n",
       "      <td>33.770</td>\n",
       "      <td>1</td>\n",
       "      <td>no</td>\n",
       "      <td>southeast</td>\n",
       "      <td>1725.55230</td>\n",
       "    </tr>\n",
       "    <tr>\n",
       "      <th>2</th>\n",
       "      <td>28</td>\n",
       "      <td>male</td>\n",
       "      <td>33.000</td>\n",
       "      <td>3</td>\n",
       "      <td>no</td>\n",
       "      <td>southeast</td>\n",
       "      <td>4449.46200</td>\n",
       "    </tr>\n",
       "    <tr>\n",
       "      <th>3</th>\n",
       "      <td>33</td>\n",
       "      <td>male</td>\n",
       "      <td>22.705</td>\n",
       "      <td>0</td>\n",
       "      <td>no</td>\n",
       "      <td>northwest</td>\n",
       "      <td>21984.47061</td>\n",
       "    </tr>\n",
       "    <tr>\n",
       "      <th>4</th>\n",
       "      <td>32</td>\n",
       "      <td>male</td>\n",
       "      <td>28.880</td>\n",
       "      <td>0</td>\n",
       "      <td>no</td>\n",
       "      <td>northwest</td>\n",
       "      <td>3866.85520</td>\n",
       "    </tr>\n",
       "  </tbody>\n",
       "</table>\n",
       "</div>"
      ],
      "text/plain": [
       "   age  gender     bmi  children smoker     region      charges\n",
       "0   19  female  27.900         0    yes  southwest  16884.92400\n",
       "1   18    male  33.770         1     no  southeast   1725.55230\n",
       "2   28    male  33.000         3     no  southeast   4449.46200\n",
       "3   33    male  22.705         0     no  northwest  21984.47061\n",
       "4   32    male  28.880         0     no  northwest   3866.85520"
      ]
     },
     "execution_count": 2,
     "metadata": {},
     "output_type": "execute_result"
    }
   ],
   "source": [
    "df = pd.read_csv(\"/data/insurance.csv\")\n",
    "df.head()"
   ]
  },
  {
   "cell_type": "code",
   "execution_count": 4,
   "metadata": {},
   "outputs": [
    {
     "data": {
      "text/plain": [
       "(1338, 7)"
      ]
     },
     "execution_count": 4,
     "metadata": {},
     "output_type": "execute_result"
    }
   ],
   "source": [
    "df.shape"
   ]
  },
  {
   "cell_type": "code",
   "execution_count": 5,
   "metadata": {},
   "outputs": [
    {
     "name": "stdout",
     "output_type": "stream",
     "text": [
      "<class 'pandas.core.frame.DataFrame'>\n",
      "RangeIndex: 1338 entries, 0 to 1337\n",
      "Data columns (total 7 columns):\n",
      "age         1338 non-null int64\n",
      "gender      1338 non-null object\n",
      "bmi         1338 non-null float64\n",
      "children    1338 non-null int64\n",
      "smoker      1338 non-null object\n",
      "region      1338 non-null object\n",
      "charges     1338 non-null float64\n",
      "dtypes: float64(2), int64(2), object(3)\n",
      "memory usage: 73.2+ KB\n"
     ]
    }
   ],
   "source": [
    "df.info()"
   ]
  },
  {
   "cell_type": "code",
   "execution_count": 10,
   "metadata": {},
   "outputs": [
    {
     "data": {
      "text/html": [
       "<div>\n",
       "<style scoped>\n",
       "    .dataframe tbody tr th:only-of-type {\n",
       "        vertical-align: middle;\n",
       "    }\n",
       "\n",
       "    .dataframe tbody tr th {\n",
       "        vertical-align: top;\n",
       "    }\n",
       "\n",
       "    .dataframe thead th {\n",
       "        text-align: right;\n",
       "    }\n",
       "</style>\n",
       "<table border=\"1\" class=\"dataframe\">\n",
       "  <thead>\n",
       "    <tr style=\"text-align: right;\">\n",
       "      <th></th>\n",
       "      <th>age</th>\n",
       "      <th>bmi</th>\n",
       "      <th>children</th>\n",
       "      <th>charges</th>\n",
       "      <th>gender_male</th>\n",
       "      <th>smoker_yes</th>\n",
       "      <th>region_northwest</th>\n",
       "      <th>region_southeast</th>\n",
       "      <th>region_southwest</th>\n",
       "    </tr>\n",
       "  </thead>\n",
       "  <tbody>\n",
       "    <tr>\n",
       "      <th>0</th>\n",
       "      <td>19</td>\n",
       "      <td>27.900</td>\n",
       "      <td>0</td>\n",
       "      <td>16884.92400</td>\n",
       "      <td>0</td>\n",
       "      <td>1</td>\n",
       "      <td>0</td>\n",
       "      <td>0</td>\n",
       "      <td>1</td>\n",
       "    </tr>\n",
       "    <tr>\n",
       "      <th>1</th>\n",
       "      <td>18</td>\n",
       "      <td>33.770</td>\n",
       "      <td>1</td>\n",
       "      <td>1725.55230</td>\n",
       "      <td>1</td>\n",
       "      <td>0</td>\n",
       "      <td>0</td>\n",
       "      <td>1</td>\n",
       "      <td>0</td>\n",
       "    </tr>\n",
       "    <tr>\n",
       "      <th>2</th>\n",
       "      <td>28</td>\n",
       "      <td>33.000</td>\n",
       "      <td>3</td>\n",
       "      <td>4449.46200</td>\n",
       "      <td>1</td>\n",
       "      <td>0</td>\n",
       "      <td>0</td>\n",
       "      <td>1</td>\n",
       "      <td>0</td>\n",
       "    </tr>\n",
       "    <tr>\n",
       "      <th>3</th>\n",
       "      <td>33</td>\n",
       "      <td>22.705</td>\n",
       "      <td>0</td>\n",
       "      <td>21984.47061</td>\n",
       "      <td>1</td>\n",
       "      <td>0</td>\n",
       "      <td>1</td>\n",
       "      <td>0</td>\n",
       "      <td>0</td>\n",
       "    </tr>\n",
       "    <tr>\n",
       "      <th>4</th>\n",
       "      <td>32</td>\n",
       "      <td>28.880</td>\n",
       "      <td>0</td>\n",
       "      <td>3866.85520</td>\n",
       "      <td>1</td>\n",
       "      <td>0</td>\n",
       "      <td>1</td>\n",
       "      <td>0</td>\n",
       "      <td>0</td>\n",
       "    </tr>\n",
       "  </tbody>\n",
       "</table>\n",
       "</div>"
      ],
      "text/plain": [
       "   age     bmi  children      charges  gender_male  smoker_yes  \\\n",
       "0   19  27.900         0  16884.92400            0           1   \n",
       "1   18  33.770         1   1725.55230            1           0   \n",
       "2   28  33.000         3   4449.46200            1           0   \n",
       "3   33  22.705         0  21984.47061            1           0   \n",
       "4   32  28.880         0   3866.85520            1           0   \n",
       "\n",
       "   region_northwest  region_southeast  region_southwest  \n",
       "0                 0                 0                 1  \n",
       "1                 0                 1                 0  \n",
       "2                 0                 1                 0  \n",
       "3                 1                 0                 0  \n",
       "4                 1                 0                 0  "
      ]
     },
     "execution_count": 10,
     "metadata": {},
     "output_type": "execute_result"
    }
   ],
   "source": [
    "pd.get_dummies(df, drop_first=True).head()"
   ]
  },
  {
   "cell_type": "code",
   "execution_count": 14,
   "metadata": {},
   "outputs": [],
   "source": [
    "from sklearn import model_selection\n",
    "import numpy as np"
   ]
  },
  {
   "cell_type": "code",
   "execution_count": 13,
   "metadata": {},
   "outputs": [],
   "source": [
    "target = \"charges\"\n",
    "X = df.drop(columns=[target])\n",
    "X = pd.get_dummies(X, drop_first=True)\n",
    "y = df[target]\n",
    "\n",
    "X_train, X_test, y_train, y_test = model_selection.train_test_split(X, y,\n",
    "                           test_size = 0.3, random_state = 1)"
   ]
  },
  {
   "cell_type": "code",
   "execution_count": 69,
   "metadata": {},
   "outputs": [
    {
     "data": {
      "text/plain": [
       "((936, 8), (402, 8))"
      ]
     },
     "execution_count": 69,
     "metadata": {},
     "output_type": "execute_result"
    }
   ],
   "source": [
    "X_train.shape, X_test.shape"
   ]
  },
  {
   "cell_type": "code",
   "execution_count": 70,
   "metadata": {},
   "outputs": [
    {
     "data": {
      "text/plain": [
       "0.6995515695067265"
      ]
     },
     "execution_count": 70,
     "metadata": {},
     "output_type": "execute_result"
    }
   ],
   "source": [
    "936/len(X)"
   ]
  },
  {
   "cell_type": "code",
   "execution_count": 68,
   "metadata": {},
   "outputs": [
    {
     "data": {
      "text/plain": [
       "array([ 1.62434536, -0.61175641, -0.52817175, -1.07296862,  0.86540763])"
      ]
     },
     "execution_count": 68,
     "metadata": {},
     "output_type": "execute_result"
    }
   ],
   "source": [
    "np.random.seed(1)\n",
    "np.random.randn(5)"
   ]
  },
  {
   "cell_type": "code",
   "execution_count": 73,
   "metadata": {},
   "outputs": [],
   "source": [
    "from sklearn import preprocessing"
   ]
  },
  {
   "cell_type": "code",
   "execution_count": 75,
   "metadata": {},
   "outputs": [],
   "source": [
    "scaler = preprocessing.StandardScaler()\n",
    "X_train_std = scaler.fit_transform(X_train.astype(\"float\"))"
   ]
  },
  {
   "cell_type": "code",
   "execution_count": 76,
   "metadata": {},
   "outputs": [
    {
     "data": {
      "text/plain": [
       "array([[ 0.79715222, -0.70211414, -0.90400228, ...,  1.78810218,\n",
       "        -0.60038747, -0.58722022],\n",
       "       [-1.27108519, -0.70375759, -0.08567913, ..., -0.55925216,\n",
       "        -0.60038747,  1.70293864],\n",
       "       [-0.98581107, -0.73333977, -0.90400228, ..., -0.55925216,\n",
       "        -0.60038747, -0.58722022],\n",
       "       ...,\n",
       "       [ 0.86847075,  0.70303946,  0.73264401, ..., -0.55925216,\n",
       "        -0.60038747, -0.58722022],\n",
       "       [ 0.0839669 , -1.39072157,  0.73264401, ..., -0.55925216,\n",
       "         1.66559105, -0.58722022],\n",
       "       [ 1.29638193, -0.4506656 , -0.08567913, ..., -0.55925216,\n",
       "         1.66559105, -0.58722022]])"
      ]
     },
     "execution_count": 76,
     "metadata": {},
     "output_type": "execute_result"
    }
   ],
   "source": [
    "X_train_std"
   ]
  },
  {
   "cell_type": "code",
   "execution_count": 78,
   "metadata": {},
   "outputs": [
    {
     "data": {
      "text/html": [
       "<div>\n",
       "<style scoped>\n",
       "    .dataframe tbody tr th:only-of-type {\n",
       "        vertical-align: middle;\n",
       "    }\n",
       "\n",
       "    .dataframe tbody tr th {\n",
       "        vertical-align: top;\n",
       "    }\n",
       "\n",
       "    .dataframe thead th {\n",
       "        text-align: right;\n",
       "    }\n",
       "</style>\n",
       "<table border=\"1\" class=\"dataframe\">\n",
       "  <thead>\n",
       "    <tr style=\"text-align: right;\">\n",
       "      <th></th>\n",
       "      <th>0</th>\n",
       "      <th>1</th>\n",
       "      <th>2</th>\n",
       "      <th>3</th>\n",
       "      <th>4</th>\n",
       "      <th>5</th>\n",
       "      <th>6</th>\n",
       "      <th>7</th>\n",
       "    </tr>\n",
       "  </thead>\n",
       "  <tbody>\n",
       "    <tr>\n",
       "      <th>241</th>\n",
       "      <td>-0.771855</td>\n",
       "      <td>-1.101474</td>\n",
       "      <td>1.550967</td>\n",
       "      <td>0.976766</td>\n",
       "      <td>1.962076</td>\n",
       "      <td>-0.559252</td>\n",
       "      <td>1.665591</td>\n",
       "      <td>-0.587220</td>\n",
       "    </tr>\n",
       "    <tr>\n",
       "      <th>845</th>\n",
       "      <td>1.581656</td>\n",
       "      <td>1.265101</td>\n",
       "      <td>-0.904002</td>\n",
       "      <td>0.976766</td>\n",
       "      <td>-0.509664</td>\n",
       "      <td>1.788102</td>\n",
       "      <td>-0.600387</td>\n",
       "      <td>-0.587220</td>\n",
       "    </tr>\n",
       "    <tr>\n",
       "      <th>415</th>\n",
       "      <td>-0.058670</td>\n",
       "      <td>-0.440805</td>\n",
       "      <td>1.550967</td>\n",
       "      <td>-1.023787</td>\n",
       "      <td>-0.509664</td>\n",
       "      <td>-0.559252</td>\n",
       "      <td>-0.600387</td>\n",
       "      <td>1.702939</td>\n",
       "    </tr>\n",
       "    <tr>\n",
       "      <th>385</th>\n",
       "      <td>-0.985811</td>\n",
       "      <td>-0.936306</td>\n",
       "      <td>0.732644</td>\n",
       "      <td>0.976766</td>\n",
       "      <td>-0.509664</td>\n",
       "      <td>-0.559252</td>\n",
       "      <td>-0.600387</td>\n",
       "      <td>-0.587220</td>\n",
       "    </tr>\n",
       "    <tr>\n",
       "      <th>563</th>\n",
       "      <td>-1.342404</td>\n",
       "      <td>0.000463</td>\n",
       "      <td>-0.904002</td>\n",
       "      <td>0.976766</td>\n",
       "      <td>1.962076</td>\n",
       "      <td>-0.559252</td>\n",
       "      <td>-0.600387</td>\n",
       "      <td>-0.587220</td>\n",
       "    </tr>\n",
       "    <tr>\n",
       "      <th>447</th>\n",
       "      <td>-0.557900</td>\n",
       "      <td>0.923262</td>\n",
       "      <td>0.732644</td>\n",
       "      <td>0.976766</td>\n",
       "      <td>1.962076</td>\n",
       "      <td>-0.559252</td>\n",
       "      <td>-0.600387</td>\n",
       "      <td>1.702939</td>\n",
       "    </tr>\n",
       "    <tr>\n",
       "      <th>868</th>\n",
       "      <td>-1.271085</td>\n",
       "      <td>-1.716947</td>\n",
       "      <td>1.550967</td>\n",
       "      <td>0.976766</td>\n",
       "      <td>-0.509664</td>\n",
       "      <td>-0.559252</td>\n",
       "      <td>-0.600387</td>\n",
       "      <td>-0.587220</td>\n",
       "    </tr>\n",
       "    <tr>\n",
       "      <th>795</th>\n",
       "      <td>-1.199767</td>\n",
       "      <td>0.640588</td>\n",
       "      <td>0.732644</td>\n",
       "      <td>-1.023787</td>\n",
       "      <td>-0.509664</td>\n",
       "      <td>-0.559252</td>\n",
       "      <td>-0.600387</td>\n",
       "      <td>-0.587220</td>\n",
       "    </tr>\n",
       "    <tr>\n",
       "      <th>35</th>\n",
       "      <td>-0.771855</td>\n",
       "      <td>1.212510</td>\n",
       "      <td>-0.904002</td>\n",
       "      <td>0.976766</td>\n",
       "      <td>-0.509664</td>\n",
       "      <td>-0.559252</td>\n",
       "      <td>1.665591</td>\n",
       "      <td>-0.587220</td>\n",
       "    </tr>\n",
       "    <tr>\n",
       "      <th>78</th>\n",
       "      <td>1.724293</td>\n",
       "      <td>1.153346</td>\n",
       "      <td>-0.904002</td>\n",
       "      <td>-1.023787</td>\n",
       "      <td>1.962076</td>\n",
       "      <td>-0.559252</td>\n",
       "      <td>-0.600387</td>\n",
       "      <td>1.702939</td>\n",
       "    </tr>\n",
       "  </tbody>\n",
       "</table>\n",
       "</div>"
      ],
      "text/plain": [
       "            0         1         2         3         4         5         6  \\\n",
       "241 -0.771855 -1.101474  1.550967  0.976766  1.962076 -0.559252  1.665591   \n",
       "845  1.581656  1.265101 -0.904002  0.976766 -0.509664  1.788102 -0.600387   \n",
       "415 -0.058670 -0.440805  1.550967 -1.023787 -0.509664 -0.559252 -0.600387   \n",
       "385 -0.985811 -0.936306  0.732644  0.976766 -0.509664 -0.559252 -0.600387   \n",
       "563 -1.342404  0.000463 -0.904002  0.976766  1.962076 -0.559252 -0.600387   \n",
       "447 -0.557900  0.923262  0.732644  0.976766  1.962076 -0.559252 -0.600387   \n",
       "868 -1.271085 -1.716947  1.550967  0.976766 -0.509664 -0.559252 -0.600387   \n",
       "795 -1.199767  0.640588  0.732644 -1.023787 -0.509664 -0.559252 -0.600387   \n",
       "35  -0.771855  1.212510 -0.904002  0.976766 -0.509664 -0.559252  1.665591   \n",
       "78   1.724293  1.153346 -0.904002 -1.023787  1.962076 -0.559252 -0.600387   \n",
       "\n",
       "            7  \n",
       "241 -0.587220  \n",
       "845 -0.587220  \n",
       "415  1.702939  \n",
       "385 -0.587220  \n",
       "563 -0.587220  \n",
       "447  1.702939  \n",
       "868 -0.587220  \n",
       "795 -0.587220  \n",
       "35  -0.587220  \n",
       "78   1.702939  "
      ]
     },
     "execution_count": 78,
     "metadata": {},
     "output_type": "execute_result"
    }
   ],
   "source": [
    "pd.DataFrame(X_train_std).sample(10)"
   ]
  },
  {
   "cell_type": "code",
   "execution_count": 79,
   "metadata": {},
   "outputs": [
    {
     "data": {
      "text/html": [
       "<div>\n",
       "<style scoped>\n",
       "    .dataframe tbody tr th:only-of-type {\n",
       "        vertical-align: middle;\n",
       "    }\n",
       "\n",
       "    .dataframe tbody tr th {\n",
       "        vertical-align: top;\n",
       "    }\n",
       "\n",
       "    .dataframe thead th {\n",
       "        text-align: right;\n",
       "    }\n",
       "</style>\n",
       "<table border=\"1\" class=\"dataframe\">\n",
       "  <thead>\n",
       "    <tr style=\"text-align: right;\">\n",
       "      <th></th>\n",
       "      <th>0</th>\n",
       "      <th>1</th>\n",
       "      <th>2</th>\n",
       "      <th>3</th>\n",
       "      <th>4</th>\n",
       "      <th>5</th>\n",
       "      <th>6</th>\n",
       "      <th>7</th>\n",
       "    </tr>\n",
       "  </thead>\n",
       "  <tbody>\n",
       "    <tr>\n",
       "      <th>count</th>\n",
       "      <td>9.360000e+02</td>\n",
       "      <td>9.360000e+02</td>\n",
       "      <td>9.360000e+02</td>\n",
       "      <td>9.360000e+02</td>\n",
       "      <td>9.360000e+02</td>\n",
       "      <td>9.360000e+02</td>\n",
       "      <td>9.360000e+02</td>\n",
       "      <td>9.360000e+02</td>\n",
       "    </tr>\n",
       "    <tr>\n",
       "      <th>mean</th>\n",
       "      <td>-1.791065e-16</td>\n",
       "      <td>-4.635418e-16</td>\n",
       "      <td>-2.910332e-16</td>\n",
       "      <td>1.767342e-17</td>\n",
       "      <td>8.979047e-17</td>\n",
       "      <td>-1.088873e-16</td>\n",
       "      <td>4.886879e-17</td>\n",
       "      <td>-2.372271e-17</td>\n",
       "    </tr>\n",
       "    <tr>\n",
       "      <th>std</th>\n",
       "      <td>1.000535e+00</td>\n",
       "      <td>1.000535e+00</td>\n",
       "      <td>1.000535e+00</td>\n",
       "      <td>1.000535e+00</td>\n",
       "      <td>1.000535e+00</td>\n",
       "      <td>1.000535e+00</td>\n",
       "      <td>1.000535e+00</td>\n",
       "      <td>1.000535e+00</td>\n",
       "    </tr>\n",
       "    <tr>\n",
       "      <th>min</th>\n",
       "      <td>-1.485041e+00</td>\n",
       "      <td>-2.419524e+00</td>\n",
       "      <td>-9.040023e-01</td>\n",
       "      <td>-1.023787e+00</td>\n",
       "      <td>-5.096643e-01</td>\n",
       "      <td>-5.592522e-01</td>\n",
       "      <td>-6.003875e-01</td>\n",
       "      <td>-5.872202e-01</td>\n",
       "    </tr>\n",
       "    <tr>\n",
       "      <th>25%</th>\n",
       "      <td>-9.144925e-01</td>\n",
       "      <td>-7.247116e-01</td>\n",
       "      <td>-9.040023e-01</td>\n",
       "      <td>-1.023787e+00</td>\n",
       "      <td>-5.096643e-01</td>\n",
       "      <td>-5.592522e-01</td>\n",
       "      <td>-6.003875e-01</td>\n",
       "      <td>-5.872202e-01</td>\n",
       "    </tr>\n",
       "    <tr>\n",
       "      <th>50%</th>\n",
       "      <td>-5.867016e-02</td>\n",
       "      <td>-3.076297e-02</td>\n",
       "      <td>-8.567913e-02</td>\n",
       "      <td>9.767656e-01</td>\n",
       "      <td>-5.096643e-01</td>\n",
       "      <td>-5.592522e-01</td>\n",
       "      <td>-6.003875e-01</td>\n",
       "      <td>-5.872202e-01</td>\n",
       "    </tr>\n",
       "    <tr>\n",
       "      <th>75%</th>\n",
       "      <td>8.684707e-01</td>\n",
       "      <td>6.631857e-01</td>\n",
       "      <td>7.326440e-01</td>\n",
       "      <td>9.767656e-01</td>\n",
       "      <td>-5.096643e-01</td>\n",
       "      <td>-5.592522e-01</td>\n",
       "      <td>1.665591e+00</td>\n",
       "      <td>1.702939e+00</td>\n",
       "    </tr>\n",
       "    <tr>\n",
       "      <th>max</th>\n",
       "      <td>1.795612e+00</td>\n",
       "      <td>3.689196e+00</td>\n",
       "      <td>3.187613e+00</td>\n",
       "      <td>9.767656e-01</td>\n",
       "      <td>1.962076e+00</td>\n",
       "      <td>1.788102e+00</td>\n",
       "      <td>1.665591e+00</td>\n",
       "      <td>1.702939e+00</td>\n",
       "    </tr>\n",
       "  </tbody>\n",
       "</table>\n",
       "</div>"
      ],
      "text/plain": [
       "                  0             1             2             3             4  \\\n",
       "count  9.360000e+02  9.360000e+02  9.360000e+02  9.360000e+02  9.360000e+02   \n",
       "mean  -1.791065e-16 -4.635418e-16 -2.910332e-16  1.767342e-17  8.979047e-17   \n",
       "std    1.000535e+00  1.000535e+00  1.000535e+00  1.000535e+00  1.000535e+00   \n",
       "min   -1.485041e+00 -2.419524e+00 -9.040023e-01 -1.023787e+00 -5.096643e-01   \n",
       "25%   -9.144925e-01 -7.247116e-01 -9.040023e-01 -1.023787e+00 -5.096643e-01   \n",
       "50%   -5.867016e-02 -3.076297e-02 -8.567913e-02  9.767656e-01 -5.096643e-01   \n",
       "75%    8.684707e-01  6.631857e-01  7.326440e-01  9.767656e-01 -5.096643e-01   \n",
       "max    1.795612e+00  3.689196e+00  3.187613e+00  9.767656e-01  1.962076e+00   \n",
       "\n",
       "                  5             6             7  \n",
       "count  9.360000e+02  9.360000e+02  9.360000e+02  \n",
       "mean  -1.088873e-16  4.886879e-17 -2.372271e-17  \n",
       "std    1.000535e+00  1.000535e+00  1.000535e+00  \n",
       "min   -5.592522e-01 -6.003875e-01 -5.872202e-01  \n",
       "25%   -5.592522e-01 -6.003875e-01 -5.872202e-01  \n",
       "50%   -5.592522e-01 -6.003875e-01 -5.872202e-01  \n",
       "75%   -5.592522e-01  1.665591e+00  1.702939e+00  \n",
       "max    1.788102e+00  1.665591e+00  1.702939e+00  "
      ]
     },
     "execution_count": 79,
     "metadata": {},
     "output_type": "execute_result"
    }
   ],
   "source": [
    "pd.DataFrame(X_train_std).describe()"
   ]
  },
  {
   "cell_type": "code",
   "execution_count": 81,
   "metadata": {},
   "outputs": [],
   "source": [
    "X_test_std = scaler.transform(X_test.astype(\"float\"))"
   ]
  },
  {
   "cell_type": "code",
   "execution_count": 71,
   "metadata": {},
   "outputs": [],
   "source": [
    "from sklearn import linear_model"
   ]
  },
  {
   "cell_type": "code",
   "execution_count": 82,
   "metadata": {},
   "outputs": [
    {
     "data": {
      "text/plain": [
       "LinearRegression(copy_X=True, fit_intercept=True, n_jobs=None,\n",
       "         normalize=False)"
      ]
     },
     "execution_count": 82,
     "metadata": {},
     "output_type": "execute_result"
    }
   ],
   "source": [
    "est = linear_model.LinearRegression()\n",
    "est.fit(X_train_std, y_train)"
   ]
  },
  {
   "cell_type": "code",
   "execution_count": 83,
   "metadata": {},
   "outputs": [],
   "source": [
    "y_train_pred = est.predict(X_train_std)\n",
    "y_test_pred = est.predict(X_test_std)"
   ]
  },
  {
   "cell_type": "code",
   "execution_count": 84,
   "metadata": {},
   "outputs": [],
   "source": [
    "train_error = (y_train - y_train_pred)"
   ]
  },
  {
   "cell_type": "code",
   "execution_count": 88,
   "metadata": {},
   "outputs": [
    {
     "data": {
      "text/plain": [
       "34142276155.204025"
      ]
     },
     "execution_count": 88,
     "metadata": {},
     "output_type": "execute_result"
    }
   ],
   "source": [
    "sse = np.sum(train_error ** 2)\n",
    "sse"
   ]
  },
  {
   "cell_type": "code",
   "execution_count": 89,
   "metadata": {},
   "outputs": [
    {
     "data": {
      "text/plain": [
       "139103996336.147"
      ]
     },
     "execution_count": 89,
     "metadata": {},
     "output_type": "execute_result"
    }
   ],
   "source": [
    "sst = np.sum((y_train - y_train.mean()) ** 2)\n",
    "sst"
   ]
  },
  {
   "cell_type": "code",
   "execution_count": 90,
   "metadata": {},
   "outputs": [
    {
     "data": {
      "text/plain": [
       "0.2454442507366839"
      ]
     },
     "execution_count": 90,
     "metadata": {},
     "output_type": "execute_result"
    }
   ],
   "source": [
    "sse/sst"
   ]
  },
  {
   "cell_type": "code",
   "execution_count": 92,
   "metadata": {},
   "outputs": [
    {
     "data": {
      "text/plain": [
       "0.7545557492633161"
      ]
     },
     "execution_count": 92,
     "metadata": {},
     "output_type": "execute_result"
    }
   ],
   "source": [
    "r2 = 1 - sse/sst # Measure of goodness of the model, best value of R2 is 1\n",
    "r2"
   ]
  },
  {
   "cell_type": "code",
   "execution_count": null,
   "metadata": {},
   "outputs": [],
   "source": [
    "# R2 is negative, the model is not useful."
   ]
  },
  {
   "cell_type": "code",
   "execution_count": 93,
   "metadata": {},
   "outputs": [],
   "source": [
    "from sklearn import metrics"
   ]
  },
  {
   "cell_type": "code",
   "execution_count": 94,
   "metadata": {},
   "outputs": [
    {
     "data": {
      "text/plain": [
       "0.7545557492633161"
      ]
     },
     "execution_count": 94,
     "metadata": {},
     "output_type": "execute_result"
    }
   ],
   "source": [
    "metrics.r2_score(y_train, y_train_pred)"
   ]
  },
  {
   "cell_type": "code",
   "execution_count": 95,
   "metadata": {},
   "outputs": [
    {
     "data": {
      "text/plain": [
       "0.7405989316927211"
      ]
     },
     "execution_count": 95,
     "metadata": {},
     "output_type": "execute_result"
    }
   ],
   "source": [
    "metrics.r2_score(y_test, y_test_pred)"
   ]
  },
  {
   "cell_type": "code",
   "execution_count": null,
   "metadata": {},
   "outputs": [],
   "source": [
    "metrics.r2_score()"
   ]
  },
  {
   "cell_type": "code",
   "execution_count": 97,
   "metadata": {},
   "outputs": [],
   "source": [
    "from sklearn import pipeline"
   ]
  },
  {
   "cell_type": "code",
   "execution_count": 104,
   "metadata": {},
   "outputs": [
    {
     "name": "stdout",
     "output_type": "stream",
     "text": [
      "training r2 0.7545557492633161\n",
      "test r2 0.7405989316927208\n",
      "training rmse: 6039.6018713245385\n",
      "test rmse: 6063.122656850453\n"
     ]
    }
   ],
   "source": [
    "target = \"charges\"\n",
    "X = df.drop(columns=[target])\n",
    "X = pd.get_dummies(X, drop_first=True).values.astype(\"float\")\n",
    "y = df[target]\n",
    "\n",
    "X_train, X_test, y_train, y_test = model_selection.train_test_split(X, y,\n",
    "                           test_size = 0.3, random_state = 1)\n",
    "\n",
    "pipe = pipeline.Pipeline([\n",
    "\t(\"scaler\", preprocessing.StandardScaler()),\n",
    "\t(\"est\", linear_model.LinearRegression())\n",
    "])\n",
    "\n",
    "\n",
    "pipe.fit(X_train, y_train)\n",
    "\n",
    "y_train_pred = pipe.predict(X_train)\n",
    "y_test_pred = pipe.predict(X_test)\n",
    "\n",
    "print(\"training r2\", metrics.r2_score(y_train, y_train_pred))\n",
    "print(\"test r2\", metrics.r2_score(y_test, y_test_pred))\n",
    "\n",
    "print(\"training rmse:\", np.sqrt(metrics.mean_squared_error(y_train, y_train_pred)))\n",
    "print(\"test rmse:\", np.sqrt(metrics.mean_squared_error(y_test, y_test_pred)))\n"
   ]
  },
  {
   "cell_type": "code",
   "execution_count": 101,
   "metadata": {},
   "outputs": [],
   "source": [
    "mse = np.mean((y_train - y_train_pred) ** 2)"
   ]
  },
  {
   "cell_type": "code",
   "execution_count": 102,
   "metadata": {},
   "outputs": [],
   "source": [
    "rmse = np.sqrt(mse)"
   ]
  },
  {
   "cell_type": "markdown",
   "metadata": {},
   "source": [
    "# Exercise: Power demand forecasting \n",
    "https://github.com/abulbasar/data/blob/master/Combined_Cycle_Power_Plant.csv?raw=true\n",
    "    "
   ]
  },
  {
   "cell_type": "code",
   "execution_count": null,
   "metadata": {},
   "outputs": [],
   "source": [
    "\n",
    "\n",
    "\n",
    "\n",
    "\n",
    "\n",
    "\n",
    "\n",
    "\n",
    "\n",
    "\n",
    "\n"
   ]
  }
 ],
 "metadata": {
  "kernelspec": {
   "display_name": "Python 3",
   "language": "python",
   "name": "python3"
  },
  "language_info": {
   "codemirror_mode": {
    "name": "ipython",
    "version": 3
   },
   "file_extension": ".py",
   "mimetype": "text/x-python",
   "name": "python",
   "nbconvert_exporter": "python",
   "pygments_lexer": "ipython3",
   "version": "3.6.6"
  }
 },
 "nbformat": 4,
 "nbformat_minor": 2
}
