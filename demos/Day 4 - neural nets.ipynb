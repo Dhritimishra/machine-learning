{
 "cells": [
  {
   "cell_type": "code",
   "execution_count": 19,
   "metadata": {},
   "outputs": [],
   "source": [
    "import pandas as pd\n",
    "import matplotlib.pyplot as plt\n",
    "\n",
    "%matplotlib inline"
   ]
  },
  {
   "cell_type": "code",
   "execution_count": 11,
   "metadata": {},
   "outputs": [],
   "source": [
    "df_train = pd.read_csv(\"/data/MNIST/mnist_train.csv\", header=None)\n",
    "df_test = pd.read_csv(\"/data/MNIST/mnist_test.csv\", header=None)"
   ]
  },
  {
   "cell_type": "code",
   "execution_count": 12,
   "metadata": {},
   "outputs": [
    {
     "data": {
      "text/plain": [
       "((60000, 785), (10000, 785))"
      ]
     },
     "execution_count": 12,
     "metadata": {},
     "output_type": "execute_result"
    }
   ],
   "source": [
    "df_train.shape, df_test.shape"
   ]
  },
  {
   "cell_type": "code",
   "execution_count": 27,
   "metadata": {},
   "outputs": [],
   "source": [
    "X_train = df_train.iloc[:,1:].values\n",
    "X_test = df_test.iloc[:,1:].values\n",
    "y_train = df_train.iloc[:,0].values\n",
    "y_test = df_test.iloc[:,0].values"
   ]
  },
  {
   "cell_type": "code",
   "execution_count": 28,
   "metadata": {},
   "outputs": [
    {
     "data": {
      "text/plain": [
       "((60000, 784), (10000, 784), (60000,), (10000,))"
      ]
     },
     "execution_count": 28,
     "metadata": {},
     "output_type": "execute_result"
    }
   ],
   "source": [
    "X_train.shape, X_test.shape, y_train.shape, y_test.shape"
   ]
  },
  {
   "cell_type": "code",
   "execution_count": 13,
   "metadata": {},
   "outputs": [
    {
     "data": {
      "text/plain": [
       "784"
      ]
     },
     "execution_count": 13,
     "metadata": {},
     "output_type": "execute_result"
    }
   ],
   "source": [
    "28 * 28"
   ]
  },
  {
   "cell_type": "code",
   "execution_count": 14,
   "metadata": {},
   "outputs": [
    {
     "data": {
      "text/plain": [
       "<matplotlib.axes._subplots.AxesSubplot at 0x10c107160>"
      ]
     },
     "execution_count": 14,
     "metadata": {},
     "output_type": "execute_result"
    },
    {
     "data": {
      "image/png": "[encoded data removed]",
      "text/plain": [
       "<Figure size 432x288 with 1 Axes>"
      ]
     },
     "metadata": {
      "needs_background": "light"
     },
     "output_type": "display_data"
    }
   ],
   "source": [
    "df_train.iloc[0,:].plot.hist()"
   ]
  },
  {
   "cell_type": "code",
   "execution_count": 15,
   "metadata": {},
   "outputs": [
    {
     "data": {
      "text/plain": [
       "count    785.000000\n",
       "mean      35.070064\n",
       "std       79.656078\n",
       "min        0.000000\n",
       "25%        0.000000\n",
       "50%        0.000000\n",
       "75%        0.000000\n",
       "max      255.000000\n",
       "Name: 0, dtype: float64"
      ]
     },
     "execution_count": 15,
     "metadata": {},
     "output_type": "execute_result"
    }
   ],
   "source": [
    "df_train.iloc[0,:].describe()"
   ]
  },
  {
   "cell_type": "code",
   "execution_count": 22,
   "metadata": {},
   "outputs": [
    {
     "data": {
      "text/plain": [
       "Text(0.5, 1.0, '5')"
      ]
     },
     "execution_count": 22,
     "metadata": {},
     "output_type": "execute_result"
    },
    {
     "data": {
      "image/png": "[encoded data removed]",
      "text/plain": [
       "<Figure size 432x288 with 1 Axes>"
      ]
     },
     "metadata": {
      "needs_background": "light"
     },
     "output_type": "display_data"
    }
   ],
   "source": [
    "plt.imshow(df_train.iloc[0,1:].values.reshape((28,28)), cmap=\"gray\")\n",
    "plt.title(df_train.iloc[0,0])"
   ]
  },
  {
   "cell_type": "code",
   "execution_count": 30,
   "metadata": {},
   "outputs": [
    {
     "data": {
      "text/plain": [
       "(47040000,)"
      ]
     },
     "execution_count": 30,
     "metadata": {},
     "output_type": "execute_result"
    }
   ],
   "source": [
    "X_train.flatten().shape"
   ]
  },
  {
   "cell_type": "code",
   "execution_count": 31,
   "metadata": {},
   "outputs": [
    {
     "data": {
      "text/plain": [
       "0.8087977040816327"
      ]
     },
     "execution_count": 31,
     "metadata": {},
     "output_type": "execute_result"
    }
   ],
   "source": [
    "a = X_train.flatten()\n",
    "(a == 0).sum()/len(a)"
   ]
  },
  {
   "cell_type": "code",
   "execution_count": 32,
   "metadata": {},
   "outputs": [],
   "source": [
    "X_train = X_train/255"
   ]
  },
  {
   "cell_type": "code",
   "execution_count": 33,
   "metadata": {},
   "outputs": [
    {
     "data": {
      "text/plain": [
       "0.8087977040816327"
      ]
     },
     "execution_count": 33,
     "metadata": {},
     "output_type": "execute_result"
    }
   ],
   "source": [
    "a = X_train.flatten()\n",
    "(a == 0).sum()/len(a)"
   ]
  },
  {
   "cell_type": "code",
   "execution_count": 34,
   "metadata": {},
   "outputs": [],
   "source": [
    "X_train = df_train.iloc[:,1:].values/255\n",
    "X_test = df_test.iloc[:,1:].values/255\n",
    "y_train = df_train.iloc[:,0].values\n",
    "y_test = df_test.iloc[:,0].values"
   ]
  },
  {
   "cell_type": "code",
   "execution_count": 37,
   "metadata": {},
   "outputs": [
    {
     "data": {
      "image/png": "[encoded data removed]",
      "text/plain": [
       "<Figure size 720x576 with 25 Axes>"
      ]
     },
     "metadata": {
      "needs_background": "light"
     },
     "output_type": "display_data"
    }
   ],
   "source": [
    "fig, axes = plt.subplots(5, 5, figsize = (10,8))\n",
    "\n",
    "for i, ax in enumerate(fig.axes):\n",
    "    ax.imshow(X_train[i].reshape((28,28)), cmap = \"gray\")\n",
    "    ax.set_title(y_train[i])\n",
    "\n",
    "plt.tight_layout()"
   ]
  },
  {
   "cell_type": "code",
   "execution_count": 39,
   "metadata": {},
   "outputs": [
    {
     "data": {
      "text/plain": [
       "<matplotlib.axes._subplots.AxesSubplot at 0x123d3e978>"
      ]
     },
     "execution_count": 39,
     "metadata": {},
     "output_type": "execute_result"
    },
    {
     "data": {
      "image/png": "[encoded data removed]",
      "text/plain": [
       "<Figure size 432x288 with 1 Axes>"
      ]
     },
     "metadata": {
      "needs_background": "light"
     },
     "output_type": "display_data"
    }
   ],
   "source": [
    "pd.Series(y_train).value_counts().sort_index().plot.bar()"
   ]
  },
  {
   "cell_type": "code",
   "execution_count": 40,
   "metadata": {},
   "outputs": [],
   "source": [
    "from sklearn import *"
   ]
  },
  {
   "cell_type": "code",
   "execution_count": 59,
   "metadata": {},
   "outputs": [
    {
     "name": "stdout",
     "output_type": "stream",
     "text": [
      "test accuracy 0.8861\n",
      "CPU times: user 1min 24s, sys: 187 ms, total: 1min 24s\n",
      "Wall time: 1min 24s\n"
     ]
    }
   ],
   "source": [
    "%%time\n",
    "\n",
    "est = linear_model.SGDClassifier(loss=\"log\", eta0=0.01, random_state = 1\n",
    "        , alpha=0.01, learning_rate=\"invscaling\", tol = 1e-4\n",
    "        , max_iter = 1000)\n",
    "\n",
    "est.fit(X_train, y_train)\n",
    "print(\"test accuracy\", est.score(X_test, y_test))"
   ]
  },
  {
   "cell_type": "code",
   "execution_count": 60,
   "metadata": {},
   "outputs": [],
   "source": [
    "y_test_pred = est.predict(X_test)"
   ]
  },
  {
   "cell_type": "code",
   "execution_count": 61,
   "metadata": {},
   "outputs": [],
   "source": [
    "error = y_test != y_test_pred"
   ]
  },
  {
   "cell_type": "code",
   "execution_count": 62,
   "metadata": {},
   "outputs": [
    {
     "data": {
      "text/html": [
       "<div>\n",
       "<style scoped>\n",
       "    .dataframe tbody tr th:only-of-type {\n",
       "        vertical-align: middle;\n",
       "    }\n",
       "\n",
       "    .dataframe tbody tr th {\n",
       "        vertical-align: top;\n",
       "    }\n",
       "\n",
       "    .dataframe thead th {\n",
       "        text-align: right;\n",
       "    }\n",
       "</style>\n",
       "<table border=\"1\" class=\"dataframe\">\n",
       "  <thead>\n",
       "    <tr style=\"text-align: right;\">\n",
       "      <th></th>\n",
       "      <th>actual</th>\n",
       "      <th>prediction</th>\n",
       "      <th>error</th>\n",
       "    </tr>\n",
       "  </thead>\n",
       "  <tbody>\n",
       "    <tr>\n",
       "      <th>9094</th>\n",
       "      <td>9</td>\n",
       "      <td>9</td>\n",
       "      <td>False</td>\n",
       "    </tr>\n",
       "    <tr>\n",
       "      <th>3763</th>\n",
       "      <td>5</td>\n",
       "      <td>4</td>\n",
       "      <td>True</td>\n",
       "    </tr>\n",
       "    <tr>\n",
       "      <th>1333</th>\n",
       "      <td>0</td>\n",
       "      <td>0</td>\n",
       "      <td>False</td>\n",
       "    </tr>\n",
       "    <tr>\n",
       "      <th>5925</th>\n",
       "      <td>3</td>\n",
       "      <td>3</td>\n",
       "      <td>False</td>\n",
       "    </tr>\n",
       "    <tr>\n",
       "      <th>9347</th>\n",
       "      <td>4</td>\n",
       "      <td>4</td>\n",
       "      <td>False</td>\n",
       "    </tr>\n",
       "    <tr>\n",
       "      <th>8644</th>\n",
       "      <td>6</td>\n",
       "      <td>6</td>\n",
       "      <td>False</td>\n",
       "    </tr>\n",
       "    <tr>\n",
       "      <th>3755</th>\n",
       "      <td>9</td>\n",
       "      <td>9</td>\n",
       "      <td>False</td>\n",
       "    </tr>\n",
       "    <tr>\n",
       "      <th>5475</th>\n",
       "      <td>2</td>\n",
       "      <td>2</td>\n",
       "      <td>False</td>\n",
       "    </tr>\n",
       "    <tr>\n",
       "      <th>9052</th>\n",
       "      <td>0</td>\n",
       "      <td>0</td>\n",
       "      <td>False</td>\n",
       "    </tr>\n",
       "    <tr>\n",
       "      <th>4682</th>\n",
       "      <td>9</td>\n",
       "      <td>9</td>\n",
       "      <td>False</td>\n",
       "    </tr>\n",
       "  </tbody>\n",
       "</table>\n",
       "</div>"
      ],
      "text/plain": [
       "      actual  prediction  error\n",
       "9094       9           9  False\n",
       "3763       5           4   True\n",
       "1333       0           0  False\n",
       "5925       3           3  False\n",
       "9347       4           4  False\n",
       "8644       6           6  False\n",
       "3755       9           9  False\n",
       "5475       2           2  False\n",
       "9052       0           0  False\n",
       "4682       9           9  False"
      ]
     },
     "execution_count": 62,
     "metadata": {},
     "output_type": "execute_result"
    }
   ],
   "source": [
    "summary = pd.DataFrame({\"actual\": y_test\n",
    "                      , \"prediction\": y_test_pred, \"error\": error})\n",
    "\n",
    "summary.sample(10)"
   ]
  },
  {
   "cell_type": "code",
   "execution_count": 63,
   "metadata": {},
   "outputs": [],
   "source": [
    "import seaborn as sns"
   ]
  },
  {
   "cell_type": "code",
   "execution_count": 65,
   "metadata": {},
   "outputs": [
    {
     "data": {
      "text/plain": [
       "Text(0.5, 1.0, 'Number of misclassification by class')"
      ]
     },
     "execution_count": 65,
     "metadata": {},
     "output_type": "execute_result"
    },
    {
     "data": {
      "image/png": "[encoded data removed]",
      "text/plain": [
       "<Figure size 432x288 with 2 Axes>"
      ]
     },
     "metadata": {
      "needs_background": "light"
     },
     "output_type": "display_data"
    }
   ],
   "source": [
    "a = summary[error]\n",
    "a = a.pivot_table(\"error\", \"actual\", \"prediction\", aggfunc = \"sum\")\n",
    "sns.heatmap(a, cmap = sns.color_palette(\"Blues\"), annot=True)\n",
    "plt.title(\"Number of misclassification by class\")"
   ]
  },
  {
   "cell_type": "code",
   "execution_count": 67,
   "metadata": {},
   "outputs": [
    {
     "data": {
      "text/plain": [
       "(10, 784)"
      ]
     },
     "execution_count": 67,
     "metadata": {},
     "output_type": "execute_result"
    }
   ],
   "source": [
    "est.coef_.shape"
   ]
  },
  {
   "cell_type": "code",
   "execution_count": 71,
   "metadata": {},
   "outputs": [
    {
     "data": {
      "image/png": "[encoded data removed]",
      "text/plain": [
       "<Figure size 720x576 with 10 Axes>"
      ]
     },
     "metadata": {
      "needs_background": "light"
     },
     "output_type": "display_data"
    }
   ],
   "source": [
    "fig, axes = plt.subplots(5, 2, figsize = (10,8))\n",
    "\n",
    "for i, ax in enumerate(fig.axes):\n",
    "    ax.imshow(est.coef_[i].reshape((28,28)))\n",
    "    ax.set_title(i)\n",
    "\n",
    "plt.tight_layout()"
   ]
  },
  {
   "cell_type": "code",
   "execution_count": 73,
   "metadata": {},
   "outputs": [
    {
     "data": {
      "text/html": [
       "<div>\n",
       "<style scoped>\n",
       "    .dataframe tbody tr th:only-of-type {\n",
       "        vertical-align: middle;\n",
       "    }\n",
       "\n",
       "    .dataframe tbody tr th {\n",
       "        vertical-align: top;\n",
       "    }\n",
       "\n",
       "    .dataframe thead th {\n",
       "        text-align: right;\n",
       "    }\n",
       "</style>\n",
       "<table border=\"1\" class=\"dataframe\">\n",
       "  <thead>\n",
       "    <tr style=\"text-align: right;\">\n",
       "      <th></th>\n",
       "      <th>0</th>\n",
       "      <th>1</th>\n",
       "      <th>2</th>\n",
       "      <th>3</th>\n",
       "      <th>4</th>\n",
       "      <th>5</th>\n",
       "      <th>6</th>\n",
       "      <th>7</th>\n",
       "      <th>8</th>\n",
       "      <th>9</th>\n",
       "      <th>...</th>\n",
       "      <th>18</th>\n",
       "      <th>19</th>\n",
       "      <th>20</th>\n",
       "      <th>21</th>\n",
       "      <th>22</th>\n",
       "      <th>23</th>\n",
       "      <th>24</th>\n",
       "      <th>25</th>\n",
       "      <th>26</th>\n",
       "      <th>27</th>\n",
       "    </tr>\n",
       "  </thead>\n",
       "  <tbody>\n",
       "    <tr>\n",
       "      <th>0</th>\n",
       "      <td>0.000000e+00</td>\n",
       "      <td>0.000000e+00</td>\n",
       "      <td>0.000000</td>\n",
       "      <td>0.000000</td>\n",
       "      <td>0.000000</td>\n",
       "      <td>0.000000</td>\n",
       "      <td>0.000000</td>\n",
       "      <td>0.000000</td>\n",
       "      <td>0.000000</td>\n",
       "      <td>0.000000</td>\n",
       "      <td>...</td>\n",
       "      <td>0.000000</td>\n",
       "      <td>0.000000</td>\n",
       "      <td>0.000000</td>\n",
       "      <td>0.000000</td>\n",
       "      <td>0.000000</td>\n",
       "      <td>0.000000</td>\n",
       "      <td>0.000000</td>\n",
       "      <td>0.000000</td>\n",
       "      <td>0.000000</td>\n",
       "      <td>0.000000</td>\n",
       "    </tr>\n",
       "    <tr>\n",
       "      <th>1</th>\n",
       "      <td>0.000000e+00</td>\n",
       "      <td>0.000000e+00</td>\n",
       "      <td>0.000000</td>\n",
       "      <td>0.000000</td>\n",
       "      <td>-0.000002</td>\n",
       "      <td>-0.000006</td>\n",
       "      <td>-0.000030</td>\n",
       "      <td>-0.000074</td>\n",
       "      <td>-0.000149</td>\n",
       "      <td>-0.000276</td>\n",
       "      <td>...</td>\n",
       "      <td>-0.000467</td>\n",
       "      <td>-0.000332</td>\n",
       "      <td>-0.000255</td>\n",
       "      <td>-0.000088</td>\n",
       "      <td>-0.000028</td>\n",
       "      <td>-0.000004</td>\n",
       "      <td>0.000000</td>\n",
       "      <td>0.000000</td>\n",
       "      <td>0.000000</td>\n",
       "      <td>0.000000</td>\n",
       "    </tr>\n",
       "    <tr>\n",
       "      <th>2</th>\n",
       "      <td>0.000000e+00</td>\n",
       "      <td>0.000000e+00</td>\n",
       "      <td>-0.000002</td>\n",
       "      <td>0.000015</td>\n",
       "      <td>-0.000013</td>\n",
       "      <td>-0.000041</td>\n",
       "      <td>-0.000401</td>\n",
       "      <td>-0.000719</td>\n",
       "      <td>-0.001597</td>\n",
       "      <td>-0.003778</td>\n",
       "      <td>...</td>\n",
       "      <td>-0.020266</td>\n",
       "      <td>-0.015475</td>\n",
       "      <td>-0.009807</td>\n",
       "      <td>-0.004846</td>\n",
       "      <td>-0.002455</td>\n",
       "      <td>-0.001040</td>\n",
       "      <td>-0.000277</td>\n",
       "      <td>-0.000023</td>\n",
       "      <td>0.000000</td>\n",
       "      <td>0.000000</td>\n",
       "    </tr>\n",
       "    <tr>\n",
       "      <th>3</th>\n",
       "      <td>0.000000e+00</td>\n",
       "      <td>0.000000e+00</td>\n",
       "      <td>-0.000005</td>\n",
       "      <td>-0.000031</td>\n",
       "      <td>-0.000148</td>\n",
       "      <td>-0.000788</td>\n",
       "      <td>-0.002043</td>\n",
       "      <td>-0.003915</td>\n",
       "      <td>-0.006820</td>\n",
       "      <td>-0.013584</td>\n",
       "      <td>...</td>\n",
       "      <td>-0.058382</td>\n",
       "      <td>-0.044163</td>\n",
       "      <td>-0.029120</td>\n",
       "      <td>-0.017779</td>\n",
       "      <td>-0.009691</td>\n",
       "      <td>-0.003897</td>\n",
       "      <td>-0.001303</td>\n",
       "      <td>-0.000270</td>\n",
       "      <td>-0.000039</td>\n",
       "      <td>0.000000</td>\n",
       "    </tr>\n",
       "    <tr>\n",
       "      <th>4</th>\n",
       "      <td>0.000000e+00</td>\n",
       "      <td>-4.217301e-07</td>\n",
       "      <td>-0.000016</td>\n",
       "      <td>-0.000026</td>\n",
       "      <td>-0.000665</td>\n",
       "      <td>-0.003159</td>\n",
       "      <td>-0.007100</td>\n",
       "      <td>-0.013561</td>\n",
       "      <td>-0.023162</td>\n",
       "      <td>-0.034876</td>\n",
       "      <td>...</td>\n",
       "      <td>-0.031016</td>\n",
       "      <td>-0.028690</td>\n",
       "      <td>-0.027880</td>\n",
       "      <td>-0.025286</td>\n",
       "      <td>-0.020055</td>\n",
       "      <td>-0.013349</td>\n",
       "      <td>-0.006969</td>\n",
       "      <td>-0.001942</td>\n",
       "      <td>-0.000297</td>\n",
       "      <td>-0.000010</td>\n",
       "    </tr>\n",
       "    <tr>\n",
       "      <th>5</th>\n",
       "      <td>0.000000e+00</td>\n",
       "      <td>0.000000e+00</td>\n",
       "      <td>-0.000080</td>\n",
       "      <td>-0.000236</td>\n",
       "      <td>-0.002226</td>\n",
       "      <td>-0.007884</td>\n",
       "      <td>-0.016351</td>\n",
       "      <td>-0.031659</td>\n",
       "      <td>-0.049698</td>\n",
       "      <td>-0.063347</td>\n",
       "      <td>...</td>\n",
       "      <td>0.018423</td>\n",
       "      <td>-0.000159</td>\n",
       "      <td>-0.022751</td>\n",
       "      <td>-0.030572</td>\n",
       "      <td>-0.032532</td>\n",
       "      <td>-0.031043</td>\n",
       "      <td>-0.020668</td>\n",
       "      <td>-0.007691</td>\n",
       "      <td>-0.001633</td>\n",
       "      <td>-0.000121</td>\n",
       "    </tr>\n",
       "    <tr>\n",
       "      <th>6</th>\n",
       "      <td>0.000000e+00</td>\n",
       "      <td>-4.527930e-07</td>\n",
       "      <td>-0.000139</td>\n",
       "      <td>-0.001113</td>\n",
       "      <td>-0.005289</td>\n",
       "      <td>-0.013132</td>\n",
       "      <td>-0.026960</td>\n",
       "      <td>-0.046467</td>\n",
       "      <td>-0.067090</td>\n",
       "      <td>-0.077784</td>\n",
       "      <td>...</td>\n",
       "      <td>0.064184</td>\n",
       "      <td>0.034014</td>\n",
       "      <td>0.001294</td>\n",
       "      <td>-0.017613</td>\n",
       "      <td>-0.029840</td>\n",
       "      <td>-0.040612</td>\n",
       "      <td>-0.036429</td>\n",
       "      <td>-0.017073</td>\n",
       "      <td>-0.004200</td>\n",
       "      <td>-0.000457</td>\n",
       "    </tr>\n",
       "    <tr>\n",
       "      <th>7</th>\n",
       "      <td>-4.987175e-07</td>\n",
       "      <td>-8.004748e-05</td>\n",
       "      <td>-0.000867</td>\n",
       "      <td>-0.003113</td>\n",
       "      <td>-0.011013</td>\n",
       "      <td>-0.022080</td>\n",
       "      <td>-0.039504</td>\n",
       "      <td>-0.060819</td>\n",
       "      <td>-0.073535</td>\n",
       "      <td>-0.065135</td>\n",
       "      <td>...</td>\n",
       "      <td>0.090044</td>\n",
       "      <td>0.057088</td>\n",
       "      <td>0.021211</td>\n",
       "      <td>-0.007619</td>\n",
       "      <td>-0.020531</td>\n",
       "      <td>-0.036242</td>\n",
       "      <td>-0.042683</td>\n",
       "      <td>-0.023844</td>\n",
       "      <td>-0.005439</td>\n",
       "      <td>-0.000140</td>\n",
       "    </tr>\n",
       "    <tr>\n",
       "      <th>8</th>\n",
       "      <td>1.063470e-04</td>\n",
       "      <td>-2.336073e-04</td>\n",
       "      <td>-0.002448</td>\n",
       "      <td>-0.008646</td>\n",
       "      <td>-0.021147</td>\n",
       "      <td>-0.035681</td>\n",
       "      <td>-0.052197</td>\n",
       "      <td>-0.067974</td>\n",
       "      <td>-0.070384</td>\n",
       "      <td>-0.060534</td>\n",
       "      <td>...</td>\n",
       "      <td>0.079205</td>\n",
       "      <td>0.068024</td>\n",
       "      <td>0.043483</td>\n",
       "      <td>0.014280</td>\n",
       "      <td>0.003243</td>\n",
       "      <td>-0.012326</td>\n",
       "      <td>-0.034324</td>\n",
       "      <td>-0.024398</td>\n",
       "      <td>-0.004969</td>\n",
       "      <td>-0.000275</td>\n",
       "    </tr>\n",
       "    <tr>\n",
       "      <th>9</th>\n",
       "      <td>-1.981294e-05</td>\n",
       "      <td>-4.889908e-04</td>\n",
       "      <td>-0.003966</td>\n",
       "      <td>-0.012686</td>\n",
       "      <td>-0.027143</td>\n",
       "      <td>-0.043297</td>\n",
       "      <td>-0.055920</td>\n",
       "      <td>-0.063137</td>\n",
       "      <td>-0.062371</td>\n",
       "      <td>-0.052165</td>\n",
       "      <td>...</td>\n",
       "      <td>0.057260</td>\n",
       "      <td>0.076773</td>\n",
       "      <td>0.066388</td>\n",
       "      <td>0.047710</td>\n",
       "      <td>0.042068</td>\n",
       "      <td>0.024738</td>\n",
       "      <td>-0.013462</td>\n",
       "      <td>-0.017500</td>\n",
       "      <td>-0.003979</td>\n",
       "      <td>-0.000251</td>\n",
       "    </tr>\n",
       "    <tr>\n",
       "      <th>10</th>\n",
       "      <td>-3.399770e-05</td>\n",
       "      <td>-8.516790e-04</td>\n",
       "      <td>-0.004406</td>\n",
       "      <td>-0.013768</td>\n",
       "      <td>-0.029331</td>\n",
       "      <td>-0.041209</td>\n",
       "      <td>-0.047404</td>\n",
       "      <td>-0.045151</td>\n",
       "      <td>-0.043099</td>\n",
       "      <td>-0.037240</td>\n",
       "      <td>...</td>\n",
       "      <td>0.027943</td>\n",
       "      <td>0.070272</td>\n",
       "      <td>0.089991</td>\n",
       "      <td>0.087078</td>\n",
       "      <td>0.086818</td>\n",
       "      <td>0.063846</td>\n",
       "      <td>0.007587</td>\n",
       "      <td>-0.010100</td>\n",
       "      <td>-0.002844</td>\n",
       "      <td>-0.000105</td>\n",
       "    </tr>\n",
       "    <tr>\n",
       "      <th>11</th>\n",
       "      <td>-4.247012e-05</td>\n",
       "      <td>-6.589485e-04</td>\n",
       "      <td>-0.004155</td>\n",
       "      <td>-0.012289</td>\n",
       "      <td>-0.028057</td>\n",
       "      <td>-0.031556</td>\n",
       "      <td>-0.023757</td>\n",
       "      <td>-0.013772</td>\n",
       "      <td>-0.018461</td>\n",
       "      <td>-0.016121</td>\n",
       "      <td>...</td>\n",
       "      <td>-0.028179</td>\n",
       "      <td>0.049908</td>\n",
       "      <td>0.092129</td>\n",
       "      <td>0.111681</td>\n",
       "      <td>0.115201</td>\n",
       "      <td>0.088743</td>\n",
       "      <td>0.024350</td>\n",
       "      <td>-0.004263</td>\n",
       "      <td>-0.001153</td>\n",
       "      <td>-0.000092</td>\n",
       "    </tr>\n",
       "    <tr>\n",
       "      <th>12</th>\n",
       "      <td>-1.129802e-05</td>\n",
       "      <td>-3.919188e-04</td>\n",
       "      <td>-0.002794</td>\n",
       "      <td>-0.009575</td>\n",
       "      <td>-0.023191</td>\n",
       "      <td>-0.014429</td>\n",
       "      <td>0.005332</td>\n",
       "      <td>0.010794</td>\n",
       "      <td>0.000973</td>\n",
       "      <td>0.007108</td>\n",
       "      <td>...</td>\n",
       "      <td>-0.090927</td>\n",
       "      <td>0.006036</td>\n",
       "      <td>0.074785</td>\n",
       "      <td>0.114118</td>\n",
       "      <td>0.128219</td>\n",
       "      <td>0.100426</td>\n",
       "      <td>0.034630</td>\n",
       "      <td>-0.001152</td>\n",
       "      <td>-0.000483</td>\n",
       "      <td>-0.000078</td>\n",
       "    </tr>\n",
       "    <tr>\n",
       "      <th>13</th>\n",
       "      <td>-7.800657e-07</td>\n",
       "      <td>-5.376349e-05</td>\n",
       "      <td>-0.001431</td>\n",
       "      <td>-0.007412</td>\n",
       "      <td>-0.016355</td>\n",
       "      <td>0.007281</td>\n",
       "      <td>0.032172</td>\n",
       "      <td>0.037210</td>\n",
       "      <td>0.027938</td>\n",
       "      <td>0.042660</td>\n",
       "      <td>...</td>\n",
       "      <td>-0.139561</td>\n",
       "      <td>-0.036802</td>\n",
       "      <td>0.049904</td>\n",
       "      <td>0.101163</td>\n",
       "      <td>0.121620</td>\n",
       "      <td>0.097137</td>\n",
       "      <td>0.036186</td>\n",
       "      <td>-0.000764</td>\n",
       "      <td>-0.000458</td>\n",
       "      <td>-0.000111</td>\n",
       "    </tr>\n",
       "    <tr>\n",
       "      <th>14</th>\n",
       "      <td>-2.190151e-05</td>\n",
       "      <td>-4.988721e-05</td>\n",
       "      <td>-0.000764</td>\n",
       "      <td>-0.006619</td>\n",
       "      <td>-0.009147</td>\n",
       "      <td>0.029740</td>\n",
       "      <td>0.054953</td>\n",
       "      <td>0.067773</td>\n",
       "      <td>0.070287</td>\n",
       "      <td>0.081117</td>\n",
       "      <td>...</td>\n",
       "      <td>-0.142271</td>\n",
       "      <td>-0.039876</td>\n",
       "      <td>0.039764</td>\n",
       "      <td>0.083637</td>\n",
       "      <td>0.095661</td>\n",
       "      <td>0.082524</td>\n",
       "      <td>0.034113</td>\n",
       "      <td>-0.001243</td>\n",
       "      <td>-0.000529</td>\n",
       "      <td>-0.000014</td>\n",
       "    </tr>\n",
       "    <tr>\n",
       "      <th>15</th>\n",
       "      <td>-8.271756e-06</td>\n",
       "      <td>-2.541583e-05</td>\n",
       "      <td>-0.000521</td>\n",
       "      <td>-0.007090</td>\n",
       "      <td>-0.000056</td>\n",
       "      <td>0.049080</td>\n",
       "      <td>0.072368</td>\n",
       "      <td>0.091634</td>\n",
       "      <td>0.105778</td>\n",
       "      <td>0.105597</td>\n",
       "      <td>...</td>\n",
       "      <td>-0.104155</td>\n",
       "      <td>-0.016006</td>\n",
       "      <td>0.037328</td>\n",
       "      <td>0.055890</td>\n",
       "      <td>0.069008</td>\n",
       "      <td>0.065416</td>\n",
       "      <td>0.026501</td>\n",
       "      <td>-0.002685</td>\n",
       "      <td>-0.000785</td>\n",
       "      <td>-0.000077</td>\n",
       "    </tr>\n",
       "    <tr>\n",
       "      <th>16</th>\n",
       "      <td>-6.288363e-06</td>\n",
       "      <td>-1.538052e-05</td>\n",
       "      <td>-0.000660</td>\n",
       "      <td>-0.008135</td>\n",
       "      <td>0.004512</td>\n",
       "      <td>0.059576</td>\n",
       "      <td>0.085982</td>\n",
       "      <td>0.105296</td>\n",
       "      <td>0.125636</td>\n",
       "      <td>0.106893</td>\n",
       "      <td>...</td>\n",
       "      <td>-0.047548</td>\n",
       "      <td>0.008602</td>\n",
       "      <td>0.028961</td>\n",
       "      <td>0.036779</td>\n",
       "      <td>0.047836</td>\n",
       "      <td>0.044337</td>\n",
       "      <td>0.015513</td>\n",
       "      <td>-0.004232</td>\n",
       "      <td>-0.001289</td>\n",
       "      <td>-0.000116</td>\n",
       "    </tr>\n",
       "    <tr>\n",
       "      <th>17</th>\n",
       "      <td>0.000000e+00</td>\n",
       "      <td>-2.740118e-05</td>\n",
       "      <td>-0.001041</td>\n",
       "      <td>-0.010982</td>\n",
       "      <td>0.004441</td>\n",
       "      <td>0.059964</td>\n",
       "      <td>0.090264</td>\n",
       "      <td>0.116659</td>\n",
       "      <td>0.135047</td>\n",
       "      <td>0.113796</td>\n",
       "      <td>...</td>\n",
       "      <td>-0.015293</td>\n",
       "      <td>0.004185</td>\n",
       "      <td>0.006470</td>\n",
       "      <td>0.017014</td>\n",
       "      <td>0.031756</td>\n",
       "      <td>0.022733</td>\n",
       "      <td>0.005139</td>\n",
       "      <td>-0.004631</td>\n",
       "      <td>-0.001028</td>\n",
       "      <td>0.000126</td>\n",
       "    </tr>\n",
       "    <tr>\n",
       "      <th>18</th>\n",
       "      <td>-5.720059e-06</td>\n",
       "      <td>-1.895910e-05</td>\n",
       "      <td>-0.001348</td>\n",
       "      <td>-0.016179</td>\n",
       "      <td>-0.002090</td>\n",
       "      <td>0.046905</td>\n",
       "      <td>0.077072</td>\n",
       "      <td>0.114609</td>\n",
       "      <td>0.142281</td>\n",
       "      <td>0.126524</td>\n",
       "      <td>...</td>\n",
       "      <td>-0.020656</td>\n",
       "      <td>-0.019059</td>\n",
       "      <td>-0.017450</td>\n",
       "      <td>0.000529</td>\n",
       "      <td>0.010525</td>\n",
       "      <td>0.003450</td>\n",
       "      <td>-0.003704</td>\n",
       "      <td>-0.004020</td>\n",
       "      <td>-0.000773</td>\n",
       "      <td>-0.000230</td>\n",
       "    </tr>\n",
       "    <tr>\n",
       "      <th>19</th>\n",
       "      <td>-2.060178e-07</td>\n",
       "      <td>7.260006e-05</td>\n",
       "      <td>-0.001866</td>\n",
       "      <td>-0.017829</td>\n",
       "      <td>-0.009320</td>\n",
       "      <td>0.028596</td>\n",
       "      <td>0.053441</td>\n",
       "      <td>0.088237</td>\n",
       "      <td>0.122117</td>\n",
       "      <td>0.129007</td>\n",
       "      <td>...</td>\n",
       "      <td>-0.037881</td>\n",
       "      <td>-0.040349</td>\n",
       "      <td>-0.029078</td>\n",
       "      <td>-0.012200</td>\n",
       "      <td>-0.007082</td>\n",
       "      <td>-0.011086</td>\n",
       "      <td>-0.008372</td>\n",
       "      <td>-0.003613</td>\n",
       "      <td>-0.000777</td>\n",
       "      <td>-0.000109</td>\n",
       "    </tr>\n",
       "    <tr>\n",
       "      <th>20</th>\n",
       "      <td>0.000000e+00</td>\n",
       "      <td>1.897249e-04</td>\n",
       "      <td>-0.001676</td>\n",
       "      <td>-0.016200</td>\n",
       "      <td>-0.013643</td>\n",
       "      <td>0.011161</td>\n",
       "      <td>0.027996</td>\n",
       "      <td>0.053044</td>\n",
       "      <td>0.084066</td>\n",
       "      <td>0.111378</td>\n",
       "      <td>...</td>\n",
       "      <td>-0.053464</td>\n",
       "      <td>-0.048215</td>\n",
       "      <td>-0.035521</td>\n",
       "      <td>-0.022578</td>\n",
       "      <td>-0.021125</td>\n",
       "      <td>-0.016897</td>\n",
       "      <td>-0.008446</td>\n",
       "      <td>-0.002863</td>\n",
       "      <td>-0.000284</td>\n",
       "      <td>-0.000008</td>\n",
       "    </tr>\n",
       "    <tr>\n",
       "      <th>21</th>\n",
       "      <td>-2.454883e-07</td>\n",
       "      <td>-8.464251e-05</td>\n",
       "      <td>-0.001473</td>\n",
       "      <td>-0.011047</td>\n",
       "      <td>-0.013362</td>\n",
       "      <td>0.001033</td>\n",
       "      <td>0.012025</td>\n",
       "      <td>0.026780</td>\n",
       "      <td>0.052327</td>\n",
       "      <td>0.087668</td>\n",
       "      <td>...</td>\n",
       "      <td>-0.048620</td>\n",
       "      <td>-0.046377</td>\n",
       "      <td>-0.037121</td>\n",
       "      <td>-0.031128</td>\n",
       "      <td>-0.022496</td>\n",
       "      <td>-0.013325</td>\n",
       "      <td>-0.005357</td>\n",
       "      <td>-0.001463</td>\n",
       "      <td>0.000327</td>\n",
       "      <td>0.000016</td>\n",
       "    </tr>\n",
       "    <tr>\n",
       "      <th>22</th>\n",
       "      <td>-2.378168e-07</td>\n",
       "      <td>-5.066936e-06</td>\n",
       "      <td>-0.000826</td>\n",
       "      <td>-0.006028</td>\n",
       "      <td>-0.012614</td>\n",
       "      <td>-0.004807</td>\n",
       "      <td>0.007280</td>\n",
       "      <td>0.018580</td>\n",
       "      <td>0.038751</td>\n",
       "      <td>0.064684</td>\n",
       "      <td>...</td>\n",
       "      <td>-0.046874</td>\n",
       "      <td>-0.043459</td>\n",
       "      <td>-0.039544</td>\n",
       "      <td>-0.029315</td>\n",
       "      <td>-0.016558</td>\n",
       "      <td>-0.008208</td>\n",
       "      <td>-0.002620</td>\n",
       "      <td>-0.000625</td>\n",
       "      <td>0.000070</td>\n",
       "      <td>0.000030</td>\n",
       "    </tr>\n",
       "    <tr>\n",
       "      <th>23</th>\n",
       "      <td>0.000000e+00</td>\n",
       "      <td>0.000000e+00</td>\n",
       "      <td>-0.000256</td>\n",
       "      <td>-0.002002</td>\n",
       "      <td>-0.006545</td>\n",
       "      <td>-0.007099</td>\n",
       "      <td>-0.004985</td>\n",
       "      <td>-0.000834</td>\n",
       "      <td>0.010040</td>\n",
       "      <td>0.026548</td>\n",
       "      <td>...</td>\n",
       "      <td>-0.049641</td>\n",
       "      <td>-0.042426</td>\n",
       "      <td>-0.032520</td>\n",
       "      <td>-0.019577</td>\n",
       "      <td>-0.010148</td>\n",
       "      <td>-0.004420</td>\n",
       "      <td>-0.001221</td>\n",
       "      <td>-0.000314</td>\n",
       "      <td>-0.000112</td>\n",
       "      <td>0.000000</td>\n",
       "    </tr>\n",
       "    <tr>\n",
       "      <th>24</th>\n",
       "      <td>0.000000e+00</td>\n",
       "      <td>0.000000e+00</td>\n",
       "      <td>-0.000144</td>\n",
       "      <td>-0.000476</td>\n",
       "      <td>-0.002128</td>\n",
       "      <td>-0.005599</td>\n",
       "      <td>-0.011030</td>\n",
       "      <td>-0.020715</td>\n",
       "      <td>-0.031763</td>\n",
       "      <td>-0.043421</td>\n",
       "      <td>...</td>\n",
       "      <td>-0.042970</td>\n",
       "      <td>-0.028897</td>\n",
       "      <td>-0.018695</td>\n",
       "      <td>-0.011548</td>\n",
       "      <td>-0.005824</td>\n",
       "      <td>-0.002355</td>\n",
       "      <td>-0.000477</td>\n",
       "      <td>-0.000016</td>\n",
       "      <td>-0.000002</td>\n",
       "      <td>0.000000</td>\n",
       "    </tr>\n",
       "    <tr>\n",
       "      <th>25</th>\n",
       "      <td>0.000000e+00</td>\n",
       "      <td>0.000000e+00</td>\n",
       "      <td>-0.000007</td>\n",
       "      <td>-0.000066</td>\n",
       "      <td>-0.000729</td>\n",
       "      <td>-0.002844</td>\n",
       "      <td>-0.007750</td>\n",
       "      <td>-0.016510</td>\n",
       "      <td>-0.027766</td>\n",
       "      <td>-0.042029</td>\n",
       "      <td>...</td>\n",
       "      <td>-0.026092</td>\n",
       "      <td>-0.015631</td>\n",
       "      <td>-0.009601</td>\n",
       "      <td>-0.006020</td>\n",
       "      <td>-0.003003</td>\n",
       "      <td>-0.001083</td>\n",
       "      <td>-0.000192</td>\n",
       "      <td>-0.000002</td>\n",
       "      <td>-0.000001</td>\n",
       "      <td>0.000000</td>\n",
       "    </tr>\n",
       "    <tr>\n",
       "      <th>26</th>\n",
       "      <td>0.000000e+00</td>\n",
       "      <td>0.000000e+00</td>\n",
       "      <td>0.000000</td>\n",
       "      <td>-0.000003</td>\n",
       "      <td>-0.000136</td>\n",
       "      <td>-0.001265</td>\n",
       "      <td>-0.003744</td>\n",
       "      <td>-0.007633</td>\n",
       "      <td>-0.013793</td>\n",
       "      <td>-0.020905</td>\n",
       "      <td>...</td>\n",
       "      <td>-0.011817</td>\n",
       "      <td>-0.006662</td>\n",
       "      <td>-0.004129</td>\n",
       "      <td>-0.002939</td>\n",
       "      <td>-0.001377</td>\n",
       "      <td>-0.000286</td>\n",
       "      <td>-0.000002</td>\n",
       "      <td>-0.000004</td>\n",
       "      <td>0.000000</td>\n",
       "      <td>0.000000</td>\n",
       "    </tr>\n",
       "    <tr>\n",
       "      <th>27</th>\n",
       "      <td>0.000000e+00</td>\n",
       "      <td>0.000000e+00</td>\n",
       "      <td>0.000000</td>\n",
       "      <td>0.000000</td>\n",
       "      <td>-0.000010</td>\n",
       "      <td>-0.000167</td>\n",
       "      <td>-0.000477</td>\n",
       "      <td>-0.000804</td>\n",
       "      <td>-0.001215</td>\n",
       "      <td>-0.002486</td>\n",
       "      <td>...</td>\n",
       "      <td>-0.002711</td>\n",
       "      <td>-0.001182</td>\n",
       "      <td>-0.000752</td>\n",
       "      <td>-0.000568</td>\n",
       "      <td>-0.000851</td>\n",
       "      <td>-0.000155</td>\n",
       "      <td>0.000000</td>\n",
       "      <td>0.000000</td>\n",
       "      <td>0.000000</td>\n",
       "      <td>0.000000</td>\n",
       "    </tr>\n",
       "  </tbody>\n",
       "</table>\n",
       "<p>28 rows × 28 columns</p>\n",
       "</div>"
      ],
      "text/plain": [
       "              0             1         2         3         4         5   \\\n",
       "0   0.000000e+00  0.000000e+00  0.000000  0.000000  0.000000  0.000000   \n",
       "1   0.000000e+00  0.000000e+00  0.000000  0.000000 -0.000002 -0.000006   \n",
       "2   0.000000e+00  0.000000e+00 -0.000002  0.000015 -0.000013 -0.000041   \n",
       "3   0.000000e+00  0.000000e+00 -0.000005 -0.000031 -0.000148 -0.000788   \n",
       "4   0.000000e+00 -4.217301e-07 -0.000016 -0.000026 -0.000665 -0.003159   \n",
       "5   0.000000e+00  0.000000e+00 -0.000080 -0.000236 -0.002226 -0.007884   \n",
       "6   0.000000e+00 -4.527930e-07 -0.000139 -0.001113 -0.005289 -0.013132   \n",
       "7  -4.987175e-07 -8.004748e-05 -0.000867 -0.003113 -0.011013 -0.022080   \n",
       "8   1.063470e-04 -2.336073e-04 -0.002448 -0.008646 -0.021147 -0.035681   \n",
       "9  -1.981294e-05 -4.889908e-04 -0.003966 -0.012686 -0.027143 -0.043297   \n",
       "10 -3.399770e-05 -8.516790e-04 -0.004406 -0.013768 -0.029331 -0.041209   \n",
       "11 -4.247012e-05 -6.589485e-04 -0.004155 -0.012289 -0.028057 -0.031556   \n",
       "12 -1.129802e-05 -3.919188e-04 -0.002794 -0.009575 -0.023191 -0.014429   \n",
       "13 -7.800657e-07 -5.376349e-05 -0.001431 -0.007412 -0.016355  0.007281   \n",
       "14 -2.190151e-05 -4.988721e-05 -0.000764 -0.006619 -0.009147  0.029740   \n",
       "15 -8.271756e-06 -2.541583e-05 -0.000521 -0.007090 -0.000056  0.049080   \n",
       "16 -6.288363e-06 -1.538052e-05 -0.000660 -0.008135  0.004512  0.059576   \n",
       "17  0.000000e+00 -2.740118e-05 -0.001041 -0.010982  0.004441  0.059964   \n",
       "18 -5.720059e-06 -1.895910e-05 -0.001348 -0.016179 -0.002090  0.046905   \n",
       "19 -2.060178e-07  7.260006e-05 -0.001866 -0.017829 -0.009320  0.028596   \n",
       "20  0.000000e+00  1.897249e-04 -0.001676 -0.016200 -0.013643  0.011161   \n",
       "21 -2.454883e-07 -8.464251e-05 -0.001473 -0.011047 -0.013362  0.001033   \n",
       "22 -2.378168e-07 -5.066936e-06 -0.000826 -0.006028 -0.012614 -0.004807   \n",
       "23  0.000000e+00  0.000000e+00 -0.000256 -0.002002 -0.006545 -0.007099   \n",
       "24  0.000000e+00  0.000000e+00 -0.000144 -0.000476 -0.002128 -0.005599   \n",
       "25  0.000000e+00  0.000000e+00 -0.000007 -0.000066 -0.000729 -0.002844   \n",
       "26  0.000000e+00  0.000000e+00  0.000000 -0.000003 -0.000136 -0.001265   \n",
       "27  0.000000e+00  0.000000e+00  0.000000  0.000000 -0.000010 -0.000167   \n",
       "\n",
       "          6         7         8         9     ...           18        19  \\\n",
       "0   0.000000  0.000000  0.000000  0.000000    ...     0.000000  0.000000   \n",
       "1  -0.000030 -0.000074 -0.000149 -0.000276    ...    -0.000467 -0.000332   \n",
       "2  -0.000401 -0.000719 -0.001597 -0.003778    ...    -0.020266 -0.015475   \n",
       "3  -0.002043 -0.003915 -0.006820 -0.013584    ...    -0.058382 -0.044163   \n",
       "4  -0.007100 -0.013561 -0.023162 -0.034876    ...    -0.031016 -0.028690   \n",
       "5  -0.016351 -0.031659 -0.049698 -0.063347    ...     0.018423 -0.000159   \n",
       "6  -0.026960 -0.046467 -0.067090 -0.077784    ...     0.064184  0.034014   \n",
       "7  -0.039504 -0.060819 -0.073535 -0.065135    ...     0.090044  0.057088   \n",
       "8  -0.052197 -0.067974 -0.070384 -0.060534    ...     0.079205  0.068024   \n",
       "9  -0.055920 -0.063137 -0.062371 -0.052165    ...     0.057260  0.076773   \n",
       "10 -0.047404 -0.045151 -0.043099 -0.037240    ...     0.027943  0.070272   \n",
       "11 -0.023757 -0.013772 -0.018461 -0.016121    ...    -0.028179  0.049908   \n",
       "12  0.005332  0.010794  0.000973  0.007108    ...    -0.090927  0.006036   \n",
       "13  0.032172  0.037210  0.027938  0.042660    ...    -0.139561 -0.036802   \n",
       "14  0.054953  0.067773  0.070287  0.081117    ...    -0.142271 -0.039876   \n",
       "15  0.072368  0.091634  0.105778  0.105597    ...    -0.104155 -0.016006   \n",
       "16  0.085982  0.105296  0.125636  0.106893    ...    -0.047548  0.008602   \n",
       "17  0.090264  0.116659  0.135047  0.113796    ...    -0.015293  0.004185   \n",
       "18  0.077072  0.114609  0.142281  0.126524    ...    -0.020656 -0.019059   \n",
       "19  0.053441  0.088237  0.122117  0.129007    ...    -0.037881 -0.040349   \n",
       "20  0.027996  0.053044  0.084066  0.111378    ...    -0.053464 -0.048215   \n",
       "21  0.012025  0.026780  0.052327  0.087668    ...    -0.048620 -0.046377   \n",
       "22  0.007280  0.018580  0.038751  0.064684    ...    -0.046874 -0.043459   \n",
       "23 -0.004985 -0.000834  0.010040  0.026548    ...    -0.049641 -0.042426   \n",
       "24 -0.011030 -0.020715 -0.031763 -0.043421    ...    -0.042970 -0.028897   \n",
       "25 -0.007750 -0.016510 -0.027766 -0.042029    ...    -0.026092 -0.015631   \n",
       "26 -0.003744 -0.007633 -0.013793 -0.020905    ...    -0.011817 -0.006662   \n",
       "27 -0.000477 -0.000804 -0.001215 -0.002486    ...    -0.002711 -0.001182   \n",
       "\n",
       "          20        21        22        23        24        25        26  \\\n",
       "0   0.000000  0.000000  0.000000  0.000000  0.000000  0.000000  0.000000   \n",
       "1  -0.000255 -0.000088 -0.000028 -0.000004  0.000000  0.000000  0.000000   \n",
       "2  -0.009807 -0.004846 -0.002455 -0.001040 -0.000277 -0.000023  0.000000   \n",
       "3  -0.029120 -0.017779 -0.009691 -0.003897 -0.001303 -0.000270 -0.000039   \n",
       "4  -0.027880 -0.025286 -0.020055 -0.013349 -0.006969 -0.001942 -0.000297   \n",
       "5  -0.022751 -0.030572 -0.032532 -0.031043 -0.020668 -0.007691 -0.001633   \n",
       "6   0.001294 -0.017613 -0.029840 -0.040612 -0.036429 -0.017073 -0.004200   \n",
       "7   0.021211 -0.007619 -0.020531 -0.036242 -0.042683 -0.023844 -0.005439   \n",
       "8   0.043483  0.014280  0.003243 -0.012326 -0.034324 -0.024398 -0.004969   \n",
       "9   0.066388  0.047710  0.042068  0.024738 -0.013462 -0.017500 -0.003979   \n",
       "10  0.089991  0.087078  0.086818  0.063846  0.007587 -0.010100 -0.002844   \n",
       "11  0.092129  0.111681  0.115201  0.088743  0.024350 -0.004263 -0.001153   \n",
       "12  0.074785  0.114118  0.128219  0.100426  0.034630 -0.001152 -0.000483   \n",
       "13  0.049904  0.101163  0.121620  0.097137  0.036186 -0.000764 -0.000458   \n",
       "14  0.039764  0.083637  0.095661  0.082524  0.034113 -0.001243 -0.000529   \n",
       "15  0.037328  0.055890  0.069008  0.065416  0.026501 -0.002685 -0.000785   \n",
       "16  0.028961  0.036779  0.047836  0.044337  0.015513 -0.004232 -0.001289   \n",
       "17  0.006470  0.017014  0.031756  0.022733  0.005139 -0.004631 -0.001028   \n",
       "18 -0.017450  0.000529  0.010525  0.003450 -0.003704 -0.004020 -0.000773   \n",
       "19 -0.029078 -0.012200 -0.007082 -0.011086 -0.008372 -0.003613 -0.000777   \n",
       "20 -0.035521 -0.022578 -0.021125 -0.016897 -0.008446 -0.002863 -0.000284   \n",
       "21 -0.037121 -0.031128 -0.022496 -0.013325 -0.005357 -0.001463  0.000327   \n",
       "22 -0.039544 -0.029315 -0.016558 -0.008208 -0.002620 -0.000625  0.000070   \n",
       "23 -0.032520 -0.019577 -0.010148 -0.004420 -0.001221 -0.000314 -0.000112   \n",
       "24 -0.018695 -0.011548 -0.005824 -0.002355 -0.000477 -0.000016 -0.000002   \n",
       "25 -0.009601 -0.006020 -0.003003 -0.001083 -0.000192 -0.000002 -0.000001   \n",
       "26 -0.004129 -0.002939 -0.001377 -0.000286 -0.000002 -0.000004  0.000000   \n",
       "27 -0.000752 -0.000568 -0.000851 -0.000155  0.000000  0.000000  0.000000   \n",
       "\n",
       "          27  \n",
       "0   0.000000  \n",
       "1   0.000000  \n",
       "2   0.000000  \n",
       "3   0.000000  \n",
       "4  -0.000010  \n",
       "5  -0.000121  \n",
       "6  -0.000457  \n",
       "7  -0.000140  \n",
       "8  -0.000275  \n",
       "9  -0.000251  \n",
       "10 -0.000105  \n",
       "11 -0.000092  \n",
       "12 -0.000078  \n",
       "13 -0.000111  \n",
       "14 -0.000014  \n",
       "15 -0.000077  \n",
       "16 -0.000116  \n",
       "17  0.000126  \n",
       "18 -0.000230  \n",
       "19 -0.000109  \n",
       "20 -0.000008  \n",
       "21  0.000016  \n",
       "22  0.000030  \n",
       "23  0.000000  \n",
       "24  0.000000  \n",
       "25  0.000000  \n",
       "26  0.000000  \n",
       "27  0.000000  \n",
       "\n",
       "[28 rows x 28 columns]"
      ]
     },
     "execution_count": 73,
     "metadata": {},
     "output_type": "execute_result"
    }
   ],
   "source": [
    "pd.DataFrame(est.coef_[0].reshape((28,28)))"
   ]
  },
  {
   "cell_type": "code",
   "execution_count": 79,
   "metadata": {},
   "outputs": [],
   "source": [
    "Y_train = keras.utils.to_categorical(y_train)\n",
    "Y_test = keras.utils.to_categorical(y_test)"
   ]
  },
  {
   "cell_type": "code",
   "execution_count": 74,
   "metadata": {},
   "outputs": [
    {
     "name": "stderr",
     "output_type": "stream",
     "text": [
      "Using TensorFlow backend.\n"
     ]
    }
   ],
   "source": [
    "import keras"
   ]
  },
  {
   "cell_type": "code",
   "execution_count": 81,
   "metadata": {},
   "outputs": [
    {
     "name": "stdout",
     "output_type": "stream",
     "text": [
      "Train on 60000 samples, validate on 10000 samples\n",
      "Epoch 1/10\n",
      "60000/60000 [==============================] - 3s 53us/step - loss: 0.2550 - acc: 0.9269 - val_loss: 0.1313 - val_acc: 0.9606\n",
      "Epoch 2/10\n",
      "60000/60000 [==============================] - 3s 50us/step - loss: 0.0960 - acc: 0.9706 - val_loss: 0.0878 - val_acc: 0.9734\n",
      "Epoch 3/10\n",
      "60000/60000 [==============================] - 3s 50us/step - loss: 0.0612 - acc: 0.9812 - val_loss: 0.0765 - val_acc: 0.9761\n",
      "Epoch 4/10\n",
      "60000/60000 [==============================] - 3s 50us/step - loss: 0.0426 - acc: 0.9872 - val_loss: 0.0786 - val_acc: 0.9761\n",
      "Epoch 5/10\n",
      "60000/60000 [==============================] - 3s 49us/step - loss: 0.0330 - acc: 0.9896 - val_loss: 0.0910 - val_acc: 0.9712\n",
      "Epoch 6/10\n",
      "60000/60000 [==============================] - 3s 49us/step - loss: 0.0239 - acc: 0.9926 - val_loss: 0.0745 - val_acc: 0.9773\n",
      "Epoch 7/10\n",
      "60000/60000 [==============================] - 3s 48us/step - loss: 0.0199 - acc: 0.9938 - val_loss: 0.0746 - val_acc: 0.9802\n",
      "Epoch 8/10\n",
      "60000/60000 [==============================] - 3s 47us/step - loss: 0.0146 - acc: 0.9953 - val_loss: 0.0803 - val_acc: 0.9788\n",
      "Epoch 9/10\n",
      "60000/60000 [==============================] - 3s 49us/step - loss: 0.0141 - acc: 0.9955 - val_loss: 0.0845 - val_acc: 0.9780\n",
      "Epoch 10/10\n",
      "60000/60000 [==============================] - 3s 49us/step - loss: 0.0124 - acc: 0.9958 - val_loss: 0.0929 - val_acc: 0.9764\n",
      "_________________________________________________________________\n",
      "Layer (type)                 Output Shape              Param #   \n",
      "=================================================================\n",
      "dense_4 (Dense)              (None, 400)               314000    \n",
      "_________________________________________________________________\n",
      "dense_5 (Dense)              (None, 100)               40100     \n",
      "_________________________________________________________________\n",
      "dense_6 (Dense)              (None, 10)                1010      \n",
      "=================================================================\n",
      "Total params: 355,110\n",
      "Trainable params: 355,110\n",
      "Non-trainable params: 0\n",
      "_________________________________________________________________\n"
     ]
    }
   ],
   "source": [
    "model = keras.Sequential()\n",
    "\n",
    "model.add(keras.layers.InputLayer(input_shape=(784,)))\n",
    "model.add(keras.layers.Dense(400, activation=\"relu\"))\n",
    "model.add(keras.layers.Dense(100, activation=\"relu\"))\n",
    "model.add(keras.layers.Dense(10, activation=\"softmax\"))\n",
    "\n",
    "model.compile(\"adam\"\n",
    "              , loss = keras.losses.categorical_crossentropy\n",
    "              , metrics = [\"accuracy\"])\n",
    "\n",
    "model.fit(X_train\n",
    "          , Y_train\n",
    "          , epochs=10\n",
    "          , validation_data=(X_test, Y_test)\n",
    "          , batch_size=128)\n",
    "\n",
    "model.summary()"
   ]
  },
  {
   "cell_type": "code",
   "execution_count": null,
   "metadata": {},
   "outputs": [],
   "source": []
  }
 ],
 "metadata": {
  "kernelspec": {
   "display_name": "Python 3",
   "language": "python",
   "name": "python3"
  },
  "language_info": {
   "codemirror_mode": {
    "name": "ipython",
    "version": 3
   },
   "file_extension": ".py",
   "mimetype": "text/x-python",
   "name": "python",
   "nbconvert_exporter": "python",
   "pygments_lexer": "ipython3",
   "version": "3.6.6"
  }
 },
 "nbformat": 4,
 "nbformat_minor": 2
}
